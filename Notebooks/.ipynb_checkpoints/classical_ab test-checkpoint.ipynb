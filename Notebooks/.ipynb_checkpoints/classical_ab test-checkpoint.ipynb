{
 "cells": [
  {
   "cell_type": "markdown",
   "id": "20d900b2",
   "metadata": {},
   "source": [
    "# Classical AB Testing"
   ]
  },
  {
   "cell_type": "code",
   "execution_count": 1,
   "id": "3935413c",
   "metadata": {},
   "outputs": [],
   "source": [
    "#Importing Libraries\n",
    "import sys\n",
    "import os\n",
    "import dvc.api\n",
    "import numpy as np\n",
    "import scipy.stats as stats \n",
    "import pandas as pd\n",
    "import seaborn as sns\n",
    "import matplotlib.pyplot as plt"
   ]
  },
  {
   "cell_type": "markdown",
   "id": "7a6aa8e0",
   "metadata": {},
   "source": [
    "# Defining our Experiment"
   ]
  },
  {
   "cell_type": "markdown",
   "id": "d143aef1",
   "metadata": {},
   "source": [
    "Ho(null hypothesis): users who saw the smart Ad(treated users) don't show any difference\n",
    "                    in responding to the Bio to the ones who were shown the dummy Ad \n",
    "H1(Alternative hypothesis): exposed users are more responsive to the BIO than the ones shown the dummy Ad"
   ]
  },
  {
   "cell_type": "markdown",
   "id": "4ba3a22c",
   "metadata": {},
   "source": [
    "\n",
    "#to see which of the group respond better we have to use the two tailed test\n",
    "    #let P0 is conversion rate of the controled users and\n",
    "    #let p is conversion rate of the exposed users\n",
    "#so for Ho- p0=p\n",
    "        H1- p0<p\n",
    "               \n",
    "and defining a confidence level of 95%,the acceptable value of type I error α= (1-0.95)=0.05\n",
    "                \n",
    "    setting statistical power to 80%, so beta B(Beta) = 0.2 or 20%\n",
    "    "
   ]
  },
  {
   "cell_type": "code",
   "execution_count": 10,
   "id": "5b3b8ffe",
   "metadata": {},
   "outputs": [],
   "source": [
    "#getting clean data from output of data exploration\n",
    "combined_df= pd.read_csv('../data/Clean_Ab_Hypothesis_Testing.csv')"
   ]
  },
  {
   "cell_type": "code",
   "execution_count": 11,
   "id": "62ab3893",
   "metadata": {},
   "outputs": [
    {
     "name": "stdout",
     "output_type": "stream",
     "text": [
      "<class 'pandas.core.frame.DataFrame'>\n",
      "RangeIndex: 1243 entries, 0 to 1242\n",
      "Data columns (total 8 columns):\n",
      " #   Column       Non-Null Count  Dtype \n",
      "---  ------       --------------  ----- \n",
      " 0   auction_id   1243 non-null   object\n",
      " 1   experiment   1243 non-null   object\n",
      " 2   date         1243 non-null   object\n",
      " 3   hour         1243 non-null   int64 \n",
      " 4   device_make  1243 non-null   object\n",
      " 5   platform_os  1243 non-null   int64 \n",
      " 6   browser      1243 non-null   object\n",
      " 7   response     1243 non-null   int64 \n",
      "dtypes: int64(3), object(5)\n",
      "memory usage: 77.8+ KB\n"
     ]
    }
   ],
   "source": [
    "combined_df.info()"
   ]
  },
  {
   "cell_type": "markdown",
   "id": "6e60ed3c",
   "metadata": {},
   "source": [
    "# Identifing Conversion Rates"
   ]
  },
  {
   "cell_type": "code",
   "execution_count": 22,
   "id": "ae062395",
   "metadata": {},
   "outputs": [],
   "source": [
    "sys.path.append(os.path.abspath(os.path.join('data')))\n",
    "sys.path.insert(0,'../Scripts/')"
   ]
  },
  {
   "cell_type": "code",
   "execution_count": 64,
   "id": "5617701a",
   "metadata": {},
   "outputs": [],
   "source": [
    "from classic_ab import classics\n",
    "from Graphs import draw"
   ]
  },
  {
   "cell_type": "code",
   "execution_count": 65,
   "id": "0004592a",
   "metadata": {},
   "outputs": [
    {
     "data": {
      "text/html": [
       "<div>\n",
       "<style scoped>\n",
       "    .dataframe tbody tr th:only-of-type {\n",
       "        vertical-align: middle;\n",
       "    }\n",
       "\n",
       "    .dataframe tbody tr th {\n",
       "        vertical-align: top;\n",
       "    }\n",
       "\n",
       "    .dataframe thead th {\n",
       "        text-align: right;\n",
       "    }\n",
       "</style>\n",
       "<table border=\"1\" class=\"dataframe\">\n",
       "  <thead>\n",
       "    <tr style=\"text-align: right;\">\n",
       "      <th></th>\n",
       "      <th>conversion_rate</th>\n",
       "      <th>std_deviation</th>\n",
       "      <th>std_error</th>\n",
       "    </tr>\n",
       "    <tr>\n",
       "      <th>experiment</th>\n",
       "      <th></th>\n",
       "      <th></th>\n",
       "      <th></th>\n",
       "    </tr>\n",
       "  </thead>\n",
       "  <tbody>\n",
       "    <tr>\n",
       "      <th>control</th>\n",
       "      <td>0.450512</td>\n",
       "      <td>0.497545</td>\n",
       "      <td>0.020553</td>\n",
       "    </tr>\n",
       "    <tr>\n",
       "      <th>exposed</th>\n",
       "      <td>0.468798</td>\n",
       "      <td>0.499025</td>\n",
       "      <td>0.019469</td>\n",
       "    </tr>\n",
       "  </tbody>\n",
       "</table>\n",
       "</div>"
      ],
      "text/plain": [
       "            conversion_rate  std_deviation  std_error\n",
       "experiment                                           \n",
       "control            0.450512       0.497545   0.020553\n",
       "exposed            0.468798       0.499025   0.019469"
      ]
     },
     "execution_count": 65,
     "metadata": {},
     "output_type": "execute_result"
    }
   ],
   "source": [
    "conversion_rates = classics.get_conversion_rates(combined_df, grouping_column='experiment',calculation_column='response')\n",
    "conversion_rates"
   ]
  },
  {
   "cell_type": "code",
   "execution_count": 66,
   "id": "29384f37",
   "metadata": {},
   "outputs": [
    {
     "data": {
      "image/png": "[encoded data removed]",
      "text/plain": [
       "<Figure size 720x432 with 1 Axes>"
      ]
     },
     "metadata": {
      "needs_background": "light"
     },
     "output_type": "display_data"
    }
   ],
   "source": [
    "#plotting controlled and exposed agasist response\n",
    "draw.modified_bar_plot(combined_df, 'experiment', 'response','Conversion Rate by Group')"
   ]
  },
  {
   "cell_type": "code",
   "execution_count": null,
   "id": "a3824512",
   "metadata": {},
   "outputs": [],
   "source": []
  },
  {
   "cell_type": "markdown",
   "id": "7cfe98b4",
   "metadata": {},
   "source": [
    "# Testing the Hypothesis"
   ]
  },
  {
   "cell_type": "code",
   "execution_count": 107,
   "id": "3042e94a",
   "metadata": {},
   "outputs": [],
   "source": [
    "## as seen from the graph above showing the smart Ad to the treatment havent bring that much change in awareness of the lux brand\n",
    "#defining both exposed groups\n",
    "from classic_ab import classics\n",
    "control_results = classics.get_group_result(combined_df, from_column='experiment', val_type='control',value_column='response')\n",
    "exposed_results = classics.get_group_result(combined_df, from_column='experiment', val_type='exposed',value_column='response')"
   ]
  },
  {
   "cell_type": "code",
   "execution_count": null,
   "id": "be277b19",
   "metadata": {},
   "outputs": [],
   "source": []
  }
 ],
 "metadata": {
  "kernelspec": {
   "display_name": "Python 3",
   "language": "python",
   "name": "python3"
  },
  "language_info": {
   "codemirror_mode": {
    "name": "ipython",
    "version": 3
   },
   "file_extension": ".py",
   "mimetype": "text/x-python",
   "name": "python",
   "nbconvert_exporter": "python",
   "pygments_lexer": "ipython3",
   "version": "3.8.8"
  }
 },
 "nbformat": 4,
 "nbformat_minor": 5
}
