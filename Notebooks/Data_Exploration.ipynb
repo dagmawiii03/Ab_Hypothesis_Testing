{
 "cells": [
  {
   "cell_type": "markdown",
   "id": "e8290061",
   "metadata": {},
   "source": [
    "# Smart A/B Hypothesis Testing : AD Campaign Performance"
   ]
  },
  {
   "cell_type": "markdown",
   "id": "05a4f57d",
   "metadata": {},
   "source": [
    "The data we have got has 8 columns, i.e.\n",
    "\n",
    "        - auction_id: the unique id of the online user who has been presented\n",
    "                      the BIO. In standard terminologies this is called an impression id. The\n",
    "                      user may see the BIO questionnaire but choose not to respond. In that\n",
    "                      case both the yes and no columns are zero.\n",
    "        - Experiment: which group the user belongs to - control or exposed\n",
    "        - date: the date in YYYY-MM-DD format\n",
    "        - device_make: the name of the type of device the user has e.g. Samsung\n",
    "        - platform_os: the id of the OS the user has\n",
    "        - browser: the name of the browser the user uses to see the BIO\n",
    "                   questionnaire\n",
    "        - yes: 1 if the user chooses the “Yes” radio button for the BIO\n",
    "               questionnaire\n",
    "        - no: 1 if the user chooses the “No” radio button for the BIO questionnaire\n"
   ]
  },
  {
   "cell_type": "markdown",
   "id": "4cb96d58",
   "metadata": {},
   "source": [
    "# Visualizing"
   ]
  },
  {
   "cell_type": "code",
   "execution_count": 3,
   "id": "5b921c0a",
   "metadata": {},
   "outputs": [],
   "source": [
    "#Adding path of the scripts\n",
    "import sys\n",
    "sys.path.insert(0,'../Scripts/')"
   ]
  },
  {
   "cell_type": "code",
   "execution_count": 4,
   "id": "ad9755c6",
   "metadata": {},
   "outputs": [],
   "source": [
    "#Importing important modules\n",
    "import dvc.api\n",
    "import pandas as pd\n",
    "import seaborn as sns\n",
    "import matplotlib.pyplot as plt"
   ]
  },
  {
   "cell_type": "code",
   "execution_count": 5,
   "id": "588d09a1",
   "metadata": {},
   "outputs": [],
   "source": [
    "#Configuring Notebook settings\n",
    "pd.set_option('display.float_format', '{:.2f}'.format)\n",
    "pd.set_option('max_column', None)"
   ]
  },
  {
   "cell_type": "code",
   "execution_count": 8,
   "id": "d62ac0aa",
   "metadata": {
    "scrolled": true
   },
   "outputs": [
    {
     "name": "stdout",
     "output_type": "stream",
     "text": [
      "<class 'pandas.core.frame.DataFrame'>\n",
      "RangeIndex: 8077 entries, 0 to 8076\n",
      "Data columns (total 9 columns):\n",
      " #   Column       Non-Null Count  Dtype \n",
      "---  ------       --------------  ----- \n",
      " 0   auction_id   8077 non-null   object\n",
      " 1   experiment   8077 non-null   object\n",
      " 2   date         8077 non-null   object\n",
      " 3   hour         8077 non-null   int64 \n",
      " 4   device_make  8077 non-null   object\n",
      " 5   platform_os  8077 non-null   int64 \n",
      " 6   browser      8077 non-null   object\n",
      " 7   yes          8077 non-null   int64 \n",
      " 8   no           8077 non-null   int64 \n",
      "dtypes: int64(4), object(5)\n",
      "memory usage: 568.0+ KB\n"
     ]
    }
   ],
   "source": [
    "#Importing the collected Data\n",
    "data = pd.read_csv('../data/AdSmartABdata.csv')\n",
    "data.info()"
   ]
  },
  {
   "cell_type": "code",
   "execution_count": 9,
   "id": "829458ee",
   "metadata": {},
   "outputs": [
    {
     "data": {
      "text/html": [
       "<div>\n",
       "<style scoped>\n",
       "    .dataframe tbody tr th:only-of-type {\n",
       "        vertical-align: middle;\n",
       "    }\n",
       "\n",
       "    .dataframe tbody tr th {\n",
       "        vertical-align: top;\n",
       "    }\n",
       "\n",
       "    .dataframe thead th {\n",
       "        text-align: right;\n",
       "    }\n",
       "</style>\n",
       "<table border=\"1\" class=\"dataframe\">\n",
       "  <thead>\n",
       "    <tr style=\"text-align: right;\">\n",
       "      <th></th>\n",
       "      <th>hour</th>\n",
       "      <th>platform_os</th>\n",
       "      <th>yes</th>\n",
       "      <th>no</th>\n",
       "    </tr>\n",
       "  </thead>\n",
       "  <tbody>\n",
       "    <tr>\n",
       "      <th>count</th>\n",
       "      <td>8077.00</td>\n",
       "      <td>8077.00</td>\n",
       "      <td>8077.00</td>\n",
       "      <td>8077.00</td>\n",
       "    </tr>\n",
       "    <tr>\n",
       "      <th>mean</th>\n",
       "      <td>11.62</td>\n",
       "      <td>5.95</td>\n",
       "      <td>0.07</td>\n",
       "      <td>0.08</td>\n",
       "    </tr>\n",
       "    <tr>\n",
       "      <th>std</th>\n",
       "      <td>5.73</td>\n",
       "      <td>0.22</td>\n",
       "      <td>0.26</td>\n",
       "      <td>0.28</td>\n",
       "    </tr>\n",
       "    <tr>\n",
       "      <th>min</th>\n",
       "      <td>0.00</td>\n",
       "      <td>5.00</td>\n",
       "      <td>0.00</td>\n",
       "      <td>0.00</td>\n",
       "    </tr>\n",
       "    <tr>\n",
       "      <th>25%</th>\n",
       "      <td>7.00</td>\n",
       "      <td>6.00</td>\n",
       "      <td>0.00</td>\n",
       "      <td>0.00</td>\n",
       "    </tr>\n",
       "    <tr>\n",
       "      <th>50%</th>\n",
       "      <td>13.00</td>\n",
       "      <td>6.00</td>\n",
       "      <td>0.00</td>\n",
       "      <td>0.00</td>\n",
       "    </tr>\n",
       "    <tr>\n",
       "      <th>75%</th>\n",
       "      <td>15.00</td>\n",
       "      <td>6.00</td>\n",
       "      <td>0.00</td>\n",
       "      <td>0.00</td>\n",
       "    </tr>\n",
       "    <tr>\n",
       "      <th>max</th>\n",
       "      <td>23.00</td>\n",
       "      <td>7.00</td>\n",
       "      <td>1.00</td>\n",
       "      <td>1.00</td>\n",
       "    </tr>\n",
       "  </tbody>\n",
       "</table>\n",
       "</div>"
      ],
      "text/plain": [
       "         hour  platform_os     yes      no\n",
       "count 8077.00      8077.00 8077.00 8077.00\n",
       "mean    11.62         5.95    0.07    0.08\n",
       "std      5.73         0.22    0.26    0.28\n",
       "min      0.00         5.00    0.00    0.00\n",
       "25%      7.00         6.00    0.00    0.00\n",
       "50%     13.00         6.00    0.00    0.00\n",
       "75%     15.00         6.00    0.00    0.00\n",
       "max     23.00         7.00    1.00    1.00"
      ]
     },
     "execution_count": 9,
     "metadata": {},
     "output_type": "execute_result"
    }
   ],
   "source": [
    "data.describe()"
   ]
  },
  {
   "cell_type": "code",
   "execution_count": 10,
   "id": "190c0397",
   "metadata": {},
   "outputs": [
    {
     "data": {
      "text/plain": [
       "8077"
      ]
     },
     "execution_count": 10,
     "metadata": {},
     "output_type": "execute_result"
    }
   ],
   "source": [
    "#to know the total amount of data\n",
    "data.shape[0]"
   ]
  },
  {
   "cell_type": "code",
   "execution_count": 11,
   "id": "49574b8b",
   "metadata": {},
   "outputs": [
    {
     "name": "stdout",
     "output_type": "stream",
     "text": [
      "The data has 0 repeated users.\n"
     ]
    }
   ],
   "source": [
    "#checking if there is redundancy in the data\n",
    "number_of_users = data.auction_id.unique()\n",
    "# Number of users must be equal to row size of the collected data\n",
    "print(f'The data has {collected_data.shape[0] - len(number_of_users)} repeated users.')"
   ]
  },
  {
   "cell_type": "code",
   "execution_count": 12,
   "id": "0c49face",
   "metadata": {},
   "outputs": [
    {
     "data": {
      "text/html": [
       "<div>\n",
       "<style scoped>\n",
       "    .dataframe tbody tr th:only-of-type {\n",
       "        vertical-align: middle;\n",
       "    }\n",
       "\n",
       "    .dataframe tbody tr th {\n",
       "        vertical-align: top;\n",
       "    }\n",
       "\n",
       "    .dataframe thead th {\n",
       "        text-align: right;\n",
       "    }\n",
       "</style>\n",
       "<table border=\"1\" class=\"dataframe\">\n",
       "  <thead>\n",
       "    <tr style=\"text-align: right;\">\n",
       "      <th></th>\n",
       "      <th>auction_id</th>\n",
       "      <th>experiment</th>\n",
       "      <th>date</th>\n",
       "      <th>hour</th>\n",
       "      <th>device_make</th>\n",
       "      <th>platform_os</th>\n",
       "      <th>browser</th>\n",
       "      <th>yes</th>\n",
       "      <th>no</th>\n",
       "    </tr>\n",
       "  </thead>\n",
       "  <tbody>\n",
       "    <tr>\n",
       "      <th>16</th>\n",
       "      <td>008aafdf-deef-4482-8fec-d98e3da054da</td>\n",
       "      <td>exposed</td>\n",
       "      <td>2020-07-04</td>\n",
       "      <td>16</td>\n",
       "      <td>Generic Smartphone</td>\n",
       "      <td>6</td>\n",
       "      <td>Chrome Mobile</td>\n",
       "      <td>1</td>\n",
       "      <td>0</td>\n",
       "    </tr>\n",
       "    <tr>\n",
       "      <th>23</th>\n",
       "      <td>00b6fadb-10bd-49e3-a778-290da82f7a8d</td>\n",
       "      <td>control</td>\n",
       "      <td>2020-07-08</td>\n",
       "      <td>4</td>\n",
       "      <td>Samsung SM-A202F</td>\n",
       "      <td>6</td>\n",
       "      <td>Facebook</td>\n",
       "      <td>1</td>\n",
       "      <td>0</td>\n",
       "    </tr>\n",
       "    <tr>\n",
       "      <th>45</th>\n",
       "      <td>018af862-486e-4da1-a85b-71872120e57c</td>\n",
       "      <td>control</td>\n",
       "      <td>2020-07-03</td>\n",
       "      <td>15</td>\n",
       "      <td>Generic Smartphone</td>\n",
       "      <td>6</td>\n",
       "      <td>Chrome Mobile</td>\n",
       "      <td>1</td>\n",
       "      <td>0</td>\n",
       "    </tr>\n",
       "    <tr>\n",
       "      <th>65</th>\n",
       "      <td>023ec7b5-cb8f-49a5-995f-e0d7c2f702e5</td>\n",
       "      <td>exposed</td>\n",
       "      <td>2020-07-09</td>\n",
       "      <td>13</td>\n",
       "      <td>Samsung SM-G935F</td>\n",
       "      <td>6</td>\n",
       "      <td>Facebook</td>\n",
       "      <td>1</td>\n",
       "      <td>0</td>\n",
       "    </tr>\n",
       "    <tr>\n",
       "      <th>89</th>\n",
       "      <td>02efdb70-8596-4f3f-b0b2-b91e194f61f7</td>\n",
       "      <td>exposed</td>\n",
       "      <td>2020-07-05</td>\n",
       "      <td>6</td>\n",
       "      <td>Generic Smartphone</td>\n",
       "      <td>6</td>\n",
       "      <td>Chrome Mobile</td>\n",
       "      <td>1</td>\n",
       "      <td>0</td>\n",
       "    </tr>\n",
       "  </tbody>\n",
       "</table>\n",
       "</div>"
      ],
      "text/plain": [
       "                              auction_id experiment        date  hour  \\\n",
       "16  008aafdf-deef-4482-8fec-d98e3da054da    exposed  2020-07-04    16   \n",
       "23  00b6fadb-10bd-49e3-a778-290da82f7a8d    control  2020-07-08     4   \n",
       "45  018af862-486e-4da1-a85b-71872120e57c    control  2020-07-03    15   \n",
       "65  023ec7b5-cb8f-49a5-995f-e0d7c2f702e5    exposed  2020-07-09    13   \n",
       "89  02efdb70-8596-4f3f-b0b2-b91e194f61f7    exposed  2020-07-05     6   \n",
       "\n",
       "           device_make  platform_os        browser  yes  no  \n",
       "16  Generic Smartphone            6  Chrome Mobile    1   0  \n",
       "23    Samsung SM-A202F            6       Facebook    1   0  \n",
       "45  Generic Smartphone            6  Chrome Mobile    1   0  \n",
       "65    Samsung SM-G935F            6       Facebook    1   0  \n",
       "89  Generic Smartphone            6  Chrome Mobile    1   0  "
      ]
     },
     "execution_count": 12,
     "metadata": {},
     "output_type": "execute_result"
    }
   ],
   "source": [
    "#Users who actually responded yes/no to the question of awareness\n",
    "answered_df = collected_data.copy(deep=True)\n",
    "answered_df = answered_df[answered_df['yes'] == 1].append(answered_df[answered_df['no'] == 1])\n",
    "answered_df.head()"
   ]
  },
  {
   "cell_type": "code",
   "execution_count": 13,
   "id": "23672dbe",
   "metadata": {},
   "outputs": [
    {
     "data": {
      "text/plain": [
       "1243"
      ]
     },
     "execution_count": 13,
     "metadata": {},
     "output_type": "execute_result"
    }
   ],
   "source": [
    "#total count of who answered\n",
    "answered_df.shape[0]"
   ]
  },
  {
   "cell_type": "code",
   "execution_count": 78,
   "id": "58fbb98c",
   "metadata": {},
   "outputs": [
    {
     "name": "stdout",
     "output_type": "stream",
     "text": [
      "The number of users who answered are: 15.389%\n"
     ]
    }
   ],
   "source": [
    "# Percentage of users who responded from collected data\n",
    "answered_percentage = answered_df.shape[0] / data.shape[0]\n",
    "print('The number of users who answered are: {:.3%}'.format(answered_percentage))"
   ]
  },
  {
   "cell_type": "markdown",
   "id": "e02d42aa",
   "metadata": {},
   "source": [
    "## control Group"
   ]
  },
  {
   "cell_type": "code",
   "execution_count": 14,
   "id": "ea0bdac1",
   "metadata": {},
   "outputs": [
    {
     "data": {
      "text/plain": [
       "586"
      ]
     },
     "execution_count": 14,
     "metadata": {},
     "output_type": "execute_result"
    }
   ],
   "source": [
    "#the amount of controlled group from the actual respondents(with yes/no answers)\n",
    "control_df = answered_df[answered_df['experiment'] == 'control']\n",
    "control_df.shape[0]"
   ]
  },
  {
   "cell_type": "markdown",
   "id": "891c50a3",
   "metadata": {},
   "source": [
    "## Exposed Group"
   ]
  },
  {
   "cell_type": "code",
   "execution_count": 15,
   "id": "c09f2e96",
   "metadata": {},
   "outputs": [
    {
     "data": {
      "text/plain": [
       "657"
      ]
     },
     "execution_count": 15,
     "metadata": {},
     "output_type": "execute_result"
    }
   ],
   "source": [
    "#the amount of controlled group from the actual respondents(with yes/no answers)\n",
    "exposed_df = answered_df[answered_df['experiment'] == 'exposed']\n",
    "exposed_df.shape[0]"
   ]
  },
  {
   "cell_type": "markdown",
   "id": "41392477",
   "metadata": {},
   "source": [
    "##### so the answered group consist of 657 treatment and 586 control group "
   ]
  },
  {
   "cell_type": "markdown",
   "id": "2c8ed88b",
   "metadata": {},
   "source": [
    "# Response distribution for both Experiment group"
   ]
  },
  {
   "cell_type": "markdown",
   "id": "3adb3029",
   "metadata": {},
   "source": [
    "### control Group"
   ]
  },
  {
   "cell_type": "code",
   "execution_count": 16,
   "id": "0630e733",
   "metadata": {},
   "outputs": [
    {
     "data": {
      "text/html": [
       "<div>\n",
       "<style scoped>\n",
       "    .dataframe tbody tr th:only-of-type {\n",
       "        vertical-align: middle;\n",
       "    }\n",
       "\n",
       "    .dataframe tbody tr th {\n",
       "        vertical-align: top;\n",
       "    }\n",
       "\n",
       "    .dataframe thead th {\n",
       "        text-align: right;\n",
       "    }\n",
       "</style>\n",
       "<table border=\"1\" class=\"dataframe\">\n",
       "  <thead>\n",
       "    <tr style=\"text-align: right;\">\n",
       "      <th></th>\n",
       "      <th>auction_id</th>\n",
       "      <th>experiment</th>\n",
       "      <th>date</th>\n",
       "      <th>hour</th>\n",
       "      <th>device_make</th>\n",
       "      <th>platform_os</th>\n",
       "      <th>browser</th>\n",
       "      <th>response</th>\n",
       "    </tr>\n",
       "  </thead>\n",
       "  <tbody>\n",
       "    <tr>\n",
       "      <th>0</th>\n",
       "      <td>00b6fadb-10bd-49e3-a778-290da82f7a8d</td>\n",
       "      <td>control</td>\n",
       "      <td>2020-07-08</td>\n",
       "      <td>4</td>\n",
       "      <td>Samsung SM-A202F</td>\n",
       "      <td>6</td>\n",
       "      <td>Facebook</td>\n",
       "      <td>1</td>\n",
       "    </tr>\n",
       "    <tr>\n",
       "      <th>1</th>\n",
       "      <td>018af862-486e-4da1-a85b-71872120e57c</td>\n",
       "      <td>control</td>\n",
       "      <td>2020-07-03</td>\n",
       "      <td>15</td>\n",
       "      <td>Generic Smartphone</td>\n",
       "      <td>6</td>\n",
       "      <td>Chrome Mobile</td>\n",
       "      <td>1</td>\n",
       "    </tr>\n",
       "    <tr>\n",
       "      <th>2</th>\n",
       "      <td>0332a7f7-0336-4d48-96ad-75da00d916c0</td>\n",
       "      <td>control</td>\n",
       "      <td>2020-07-04</td>\n",
       "      <td>16</td>\n",
       "      <td>Generic Smartphone</td>\n",
       "      <td>6</td>\n",
       "      <td>Chrome Mobile</td>\n",
       "      <td>1</td>\n",
       "    </tr>\n",
       "    <tr>\n",
       "      <th>3</th>\n",
       "      <td>03948b84-b5b1-4f26-81fc-e953218aef1a</td>\n",
       "      <td>control</td>\n",
       "      <td>2020-07-09</td>\n",
       "      <td>20</td>\n",
       "      <td>Samsung SM-G930F</td>\n",
       "      <td>6</td>\n",
       "      <td>Facebook</td>\n",
       "      <td>1</td>\n",
       "    </tr>\n",
       "    <tr>\n",
       "      <th>4</th>\n",
       "      <td>04b69bd8-4849-4489-adcf-08b96a265c40</td>\n",
       "      <td>control</td>\n",
       "      <td>2020-07-07</td>\n",
       "      <td>15</td>\n",
       "      <td>Generic Smartphone</td>\n",
       "      <td>6</td>\n",
       "      <td>Chrome Mobile</td>\n",
       "      <td>1</td>\n",
       "    </tr>\n",
       "  </tbody>\n",
       "</table>\n",
       "</div>"
      ],
      "text/plain": [
       "                             auction_id experiment        date  hour  \\\n",
       "0  00b6fadb-10bd-49e3-a778-290da82f7a8d    control  2020-07-08     4   \n",
       "1  018af862-486e-4da1-a85b-71872120e57c    control  2020-07-03    15   \n",
       "2  0332a7f7-0336-4d48-96ad-75da00d916c0    control  2020-07-04    16   \n",
       "3  03948b84-b5b1-4f26-81fc-e953218aef1a    control  2020-07-09    20   \n",
       "4  04b69bd8-4849-4489-adcf-08b96a265c40    control  2020-07-07    15   \n",
       "\n",
       "          device_make  platform_os        browser  response  \n",
       "0    Samsung SM-A202F            6       Facebook         1  \n",
       "1  Generic Smartphone            6  Chrome Mobile         1  \n",
       "2  Generic Smartphone            6  Chrome Mobile         1  \n",
       "3    Samsung SM-G930F            6       Facebook         1  \n",
       "4  Generic Smartphone            6  Chrome Mobile         1  "
      ]
     },
     "execution_count": 16,
     "metadata": {},
     "output_type": "execute_result"
    }
   ],
   "source": [
    "#distributing the yes or no columns together as a response column\n",
    "df_1 = control_df[control_df['yes'] == 1].drop(['yes','no'], axis = 1)\n",
    "df_1['response'] = 1\n",
    "df_2 = control_df[control_df['no'] == 1].drop(['yes','no'], axis = 1)\n",
    "df_2['response'] = 0\n",
    "control_plot_df = df_1.append(df_2).reset_index(drop=True)\n",
    "control_plot_df.head(5)"
   ]
  },
  {
   "cell_type": "code",
   "execution_count": 41,
   "id": "541a000b",
   "metadata": {},
   "outputs": [
    {
     "data": {
      "image/png": "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\n",
      "text/plain": [
       "<Figure size 864x504 with 1 Axes>"
      ]
     },
     "metadata": {
      "needs_background": "light"
     },
     "output_type": "display_data"
    }
   ],
   "source": [
    "from Graphs import draw\n",
    "draw.plot_count(control_plot_df, 'response')\n"
   ]
  },
  {
   "cell_type": "markdown",
   "id": "b5a39c64",
   "metadata": {},
   "source": [
    "### Exposed Group"
   ]
  },
  {
   "cell_type": "code",
   "execution_count": 18,
   "id": "aecff293",
   "metadata": {},
   "outputs": [
    {
     "data": {
      "text/html": [
       "<div>\n",
       "<style scoped>\n",
       "    .dataframe tbody tr th:only-of-type {\n",
       "        vertical-align: middle;\n",
       "    }\n",
       "\n",
       "    .dataframe tbody tr th {\n",
       "        vertical-align: top;\n",
       "    }\n",
       "\n",
       "    .dataframe thead th {\n",
       "        text-align: right;\n",
       "    }\n",
       "</style>\n",
       "<table border=\"1\" class=\"dataframe\">\n",
       "  <thead>\n",
       "    <tr style=\"text-align: right;\">\n",
       "      <th></th>\n",
       "      <th>auction_id</th>\n",
       "      <th>experiment</th>\n",
       "      <th>date</th>\n",
       "      <th>hour</th>\n",
       "      <th>device_make</th>\n",
       "      <th>platform_os</th>\n",
       "      <th>browser</th>\n",
       "      <th>response</th>\n",
       "    </tr>\n",
       "  </thead>\n",
       "  <tbody>\n",
       "    <tr>\n",
       "      <th>0</th>\n",
       "      <td>008aafdf-deef-4482-8fec-d98e3da054da</td>\n",
       "      <td>exposed</td>\n",
       "      <td>2020-07-04</td>\n",
       "      <td>16</td>\n",
       "      <td>Generic Smartphone</td>\n",
       "      <td>6</td>\n",
       "      <td>Chrome Mobile</td>\n",
       "      <td>1</td>\n",
       "    </tr>\n",
       "    <tr>\n",
       "      <th>1</th>\n",
       "      <td>023ec7b5-cb8f-49a5-995f-e0d7c2f702e5</td>\n",
       "      <td>exposed</td>\n",
       "      <td>2020-07-09</td>\n",
       "      <td>13</td>\n",
       "      <td>Samsung SM-G935F</td>\n",
       "      <td>6</td>\n",
       "      <td>Facebook</td>\n",
       "      <td>1</td>\n",
       "    </tr>\n",
       "    <tr>\n",
       "      <th>2</th>\n",
       "      <td>02efdb70-8596-4f3f-b0b2-b91e194f61f7</td>\n",
       "      <td>exposed</td>\n",
       "      <td>2020-07-05</td>\n",
       "      <td>6</td>\n",
       "      <td>Generic Smartphone</td>\n",
       "      <td>6</td>\n",
       "      <td>Chrome Mobile</td>\n",
       "      <td>1</td>\n",
       "    </tr>\n",
       "    <tr>\n",
       "      <th>3</th>\n",
       "      <td>03ee1780-1fa3-4bec-926c-d543a81a6653</td>\n",
       "      <td>exposed</td>\n",
       "      <td>2020-07-04</td>\n",
       "      <td>11</td>\n",
       "      <td>Samsung SM-G981B</td>\n",
       "      <td>6</td>\n",
       "      <td>Chrome Mobile WebView</td>\n",
       "      <td>1</td>\n",
       "    </tr>\n",
       "    <tr>\n",
       "      <th>4</th>\n",
       "      <td>046644f4-b30c-48f9-b069-f804a97b77d9</td>\n",
       "      <td>exposed</td>\n",
       "      <td>2020-07-05</td>\n",
       "      <td>2</td>\n",
       "      <td>Generic Smartphone</td>\n",
       "      <td>6</td>\n",
       "      <td>Chrome Mobile WebView</td>\n",
       "      <td>1</td>\n",
       "    </tr>\n",
       "  </tbody>\n",
       "</table>\n",
       "</div>"
      ],
      "text/plain": [
       "                             auction_id experiment        date  hour  \\\n",
       "0  008aafdf-deef-4482-8fec-d98e3da054da    exposed  2020-07-04    16   \n",
       "1  023ec7b5-cb8f-49a5-995f-e0d7c2f702e5    exposed  2020-07-09    13   \n",
       "2  02efdb70-8596-4f3f-b0b2-b91e194f61f7    exposed  2020-07-05     6   \n",
       "3  03ee1780-1fa3-4bec-926c-d543a81a6653    exposed  2020-07-04    11   \n",
       "4  046644f4-b30c-48f9-b069-f804a97b77d9    exposed  2020-07-05     2   \n",
       "\n",
       "          device_make  platform_os                browser  response  \n",
       "0  Generic Smartphone            6          Chrome Mobile         1  \n",
       "1    Samsung SM-G935F            6               Facebook         1  \n",
       "2  Generic Smartphone            6          Chrome Mobile         1  \n",
       "3    Samsung SM-G981B            6  Chrome Mobile WebView         1  \n",
       "4  Generic Smartphone            6  Chrome Mobile WebView         1  "
      ]
     },
     "execution_count": 18,
     "metadata": {},
     "output_type": "execute_result"
    }
   ],
   "source": [
    "#distributing the yes or no columns together as a response column\n",
    "df_1 = exposed_df[exposed_df['yes'] == 1].drop(['yes','no'], axis = 1)\n",
    "df_1['response'] = 1\n",
    "df_2 = exposed_df[exposed_df['no'] == 1].drop(['yes','no'], axis = 1)\n",
    "df_2['response'] = 0\n",
    "exposed_plot_df = df_1.append(df_2).reset_index(drop=True)\n",
    "exposed_plot_df.head(5)"
   ]
  },
  {
   "cell_type": "code",
   "execution_count": 19,
   "id": "a66a4306",
   "metadata": {},
   "outputs": [
    {
     "data": {
      "image/png": "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\n",
      "text/plain": [
       "<Figure size 864x504 with 1 Axes>"
      ]
     },
     "metadata": {
      "needs_background": "light"
     },
     "output_type": "display_data"
    }
   ],
   "source": [
    "draw.plot_count(exposed_plot_df, 'response')"
   ]
  },
  {
   "cell_type": "markdown",
   "id": "f04b4570",
   "metadata": {},
   "source": [
    "#### so we can see the positive response growed for the exposed group"
   ]
  },
  {
   "cell_type": "markdown",
   "id": "23f35394",
   "metadata": {},
   "source": [
    "# Percentage calculation"
   ]
  },
  {
   "cell_type": "code",
   "execution_count": 20,
   "id": "086ff026",
   "metadata": {},
   "outputs": [
    {
     "name": "stdout",
     "output_type": "stream",
     "text": [
      "The percentage of users from answered group who are under experment control are: 47.14%\n",
      "The percentage of users from answered group who are under experment exposed are: 52.86%\n"
     ]
    }
   ],
   "source": [
    "# Controlled Group\n",
    "con_answered_percentage = control_df.shape[0] / answered_df.shape[0]\n",
    "print('The percentage of users from answered group who are under experment control are: {:.2%}'.format(con_answered_percentage))\n",
    "# Exposed Group\n",
    "exp_answered_percentage = exposed_df.shape[0] / answered_df.shape[0]\n",
    "print('The percentage of users from answered group who are under experment exposed are: {:.2%}'.format(exp_answered_percentage))"
   ]
  },
  {
   "cell_type": "markdown",
   "id": "5e24fb1a",
   "metadata": {},
   "source": [
    "### positivity in response"
   ]
  },
  {
   "cell_type": "code",
   "execution_count": 21,
   "id": "048570a8",
   "metadata": {},
   "outputs": [
    {
     "data": {
      "text/plain": [
       "264"
      ]
     },
     "execution_count": 21,
     "metadata": {},
     "output_type": "execute_result"
    }
   ],
   "source": [
    "#control positivity out of 586\n",
    "pos_control_df = control_df[control_df['yes'] == 1]\n",
    "pos_control_df.shape[0]\n"
   ]
  },
  {
   "cell_type": "code",
   "execution_count": 22,
   "id": "2e34690a",
   "metadata": {},
   "outputs": [
    {
     "data": {
      "text/plain": [
       "308"
      ]
     },
     "execution_count": 22,
     "metadata": {},
     "output_type": "execute_result"
    }
   ],
   "source": [
    "#control positivity out of 586\n",
    "pos_exposed_df = exposed_df[exposed_df['yes'] == 1]\n",
    "pos_exposed_df.shape[0]"
   ]
  },
  {
   "cell_type": "code",
   "execution_count": 23,
   "id": "50a91f95",
   "metadata": {},
   "outputs": [
    {
     "name": "stdout",
     "output_type": "stream",
     "text": [
      "The percentage of users from the control group who answered \"yes\": 45.05%\n",
      "The percentage of users from the exposed group who answered \"yes\": 46.88%\n"
     ]
    }
   ],
   "source": [
    "#so in percentage\n",
    "pos_con_answered_percentage = pos_control_df.shape[0] / control_df.shape[0]\n",
    "print('The percentage of users from the control group who answered \"yes\": {:.2%}'.format(pos_con_answered_percentage))\n",
    "# Exposed Group Positive answer\n",
    "pos_exp_answered_percentage = pos_exposed_df.shape[0] / exposed_df.shape[0]\n",
    "print('The percentage of users from the exposed group who answered \"yes\": {:.2%}'.format(pos_exp_answered_percentage))"
   ]
  },
  {
   "cell_type": "markdown",
   "id": "8347eb3f",
   "metadata": {},
   "source": [
    "## Combined Data using yes or no answers as responses"
   ]
  },
  {
   "cell_type": "code",
   "execution_count": 24,
   "id": "d7621a62",
   "metadata": {},
   "outputs": [
    {
     "data": {
      "text/html": [
       "<div>\n",
       "<style scoped>\n",
       "    .dataframe tbody tr th:only-of-type {\n",
       "        vertical-align: middle;\n",
       "    }\n",
       "\n",
       "    .dataframe tbody tr th {\n",
       "        vertical-align: top;\n",
       "    }\n",
       "\n",
       "    .dataframe thead th {\n",
       "        text-align: right;\n",
       "    }\n",
       "</style>\n",
       "<table border=\"1\" class=\"dataframe\">\n",
       "  <thead>\n",
       "    <tr style=\"text-align: right;\">\n",
       "      <th></th>\n",
       "      <th>auction_id</th>\n",
       "      <th>experiment</th>\n",
       "      <th>date</th>\n",
       "      <th>hour</th>\n",
       "      <th>device_make</th>\n",
       "      <th>platform_os</th>\n",
       "      <th>browser</th>\n",
       "      <th>response</th>\n",
       "    </tr>\n",
       "  </thead>\n",
       "  <tbody>\n",
       "    <tr>\n",
       "      <th>0</th>\n",
       "      <td>66018aa0-7f55-4a69-a9e6-e0728354cc29</td>\n",
       "      <td>exposed</td>\n",
       "      <td>2020-07-04</td>\n",
       "      <td>19</td>\n",
       "      <td>Generic Smartphone</td>\n",
       "      <td>6</td>\n",
       "      <td>Chrome Mobile</td>\n",
       "      <td>0</td>\n",
       "    </tr>\n",
       "    <tr>\n",
       "      <th>1</th>\n",
       "      <td>e8df0b21-3105-4f78-8797-b178e0be131c</td>\n",
       "      <td>control</td>\n",
       "      <td>2020-07-09</td>\n",
       "      <td>21</td>\n",
       "      <td>Generic Smartphone</td>\n",
       "      <td>6</td>\n",
       "      <td>Chrome Mobile</td>\n",
       "      <td>0</td>\n",
       "    </tr>\n",
       "    <tr>\n",
       "      <th>2</th>\n",
       "      <td>f6b7f0e9-7bb1-4c46-ac29-359e872de73d</td>\n",
       "      <td>exposed</td>\n",
       "      <td>2020-07-09</td>\n",
       "      <td>17</td>\n",
       "      <td>Samsung SM-G975F</td>\n",
       "      <td>6</td>\n",
       "      <td>Chrome Mobile WebView</td>\n",
       "      <td>1</td>\n",
       "    </tr>\n",
       "    <tr>\n",
       "      <th>3</th>\n",
       "      <td>f3c258ea-2363-4645-80ef-e2383a04f509</td>\n",
       "      <td>exposed</td>\n",
       "      <td>2020-07-09</td>\n",
       "      <td>8</td>\n",
       "      <td>Generic Smartphone</td>\n",
       "      <td>6</td>\n",
       "      <td>Chrome Mobile</td>\n",
       "      <td>1</td>\n",
       "    </tr>\n",
       "    <tr>\n",
       "      <th>4</th>\n",
       "      <td>cf56c578-7db2-416c-9db4-af5f8a33a2c3</td>\n",
       "      <td>control</td>\n",
       "      <td>2020-07-03</td>\n",
       "      <td>15</td>\n",
       "      <td>Samsung SM-G975F</td>\n",
       "      <td>6</td>\n",
       "      <td>Facebook</td>\n",
       "      <td>0</td>\n",
       "    </tr>\n",
       "  </tbody>\n",
       "</table>\n",
       "</div>"
      ],
      "text/plain": [
       "                             auction_id experiment        date  hour  \\\n",
       "0  66018aa0-7f55-4a69-a9e6-e0728354cc29    exposed  2020-07-04    19   \n",
       "1  e8df0b21-3105-4f78-8797-b178e0be131c    control  2020-07-09    21   \n",
       "2  f6b7f0e9-7bb1-4c46-ac29-359e872de73d    exposed  2020-07-09    17   \n",
       "3  f3c258ea-2363-4645-80ef-e2383a04f509    exposed  2020-07-09     8   \n",
       "4  cf56c578-7db2-416c-9db4-af5f8a33a2c3    control  2020-07-03    15   \n",
       "\n",
       "          device_make  platform_os                browser  response  \n",
       "0  Generic Smartphone            6          Chrome Mobile         0  \n",
       "1  Generic Smartphone            6          Chrome Mobile         0  \n",
       "2    Samsung SM-G975F            6  Chrome Mobile WebView         1  \n",
       "3  Generic Smartphone            6          Chrome Mobile         1  \n",
       "4    Samsung SM-G975F            6               Facebook         0  "
      ]
     },
     "execution_count": 24,
     "metadata": {},
     "output_type": "execute_result"
    }
   ],
   "source": [
    "all_yes_df = control_df[control_df['yes'] == 1].append(exposed_df[exposed_df['yes'] == 1])\n",
    "all_yes_df = all_yes_df.drop(['yes','no'], axis = 1)\n",
    "all_yes_df['response'] = 1\n",
    "#All users who answered no\n",
    "all_no_df = control_df[control_df['no'] == 1].append(exposed_df[exposed_df['no'] == 1])\n",
    "all_no_df = all_no_df.drop(['yes','no'], axis = 1)\n",
    "all_no_df['response'] = 0\n",
    "#Final Combined dataframe will be\n",
    "combined_df = all_yes_df.append(all_no_df)\n",
    "combined_df = combined_df.sample(frac=1).reset_index(drop=True)\n",
    "combined_df.head(5)"
   ]
  },
  {
   "cell_type": "code",
   "execution_count": 35,
<<<<<<< HEAD
   "id": "797df26c",
=======
   "id": "26b9061e",
>>>>>>> main
   "metadata": {
    "scrolled": false
   },
   "outputs": [
    {
     "data": {
      "image/png": "iVBORw0KGgoAAAANSUhEUgAAAuAAAAKACAYAAADdKs1TAAAAOXRFWHRTb2Z0d2FyZQBNYXRwbG90bGliIHZlcnNpb24zLjMuNCwgaHR0cHM6Ly9tYXRwbG90bGliLm9yZy8QVMy6AAAACXBIWXMAAAsTAAALEwEAmpwYAACKL0lEQVR4nOzdd5RkVdXG4d/LEIeccxYJkiRJjgICKioIgqAgigkURJSgCAbgA0SSWUQkKCIigiI5J2WQMAIDSI5DhiEz7O+PfYq5FN0zNT3Vdaur32etXjNd93b17urqqn3P2WcfRQRmZmZmZtYZU9UdgJmZmZnZcOIE3MzMzMysg5yAm5mZmZl1kBNwMzMzM7MOcgJuZmZmZtZBTsDNzMzMzDrICbiZTTZJ90u6v+44hjtJq0m6SNJTkkLSzXXHZL1L0uWS3LvYrA2cgJtVlCRmcj52qSnOZSUdIukcSQ9W4pl6El83h6RjSgL9mqRHJf1W0kKdit3aQ9IswN+BNYA/AocAv6g1KOsoJ8RmQ9dE36zNhqFD+rhtL2BW4FjguaZjNw9uOP3aHDgIGA/cDbwKTD+xL5A0J3At8F7gUjJpWwbYFdhK0loRce9gBm1ttQYwD3BgRBxadzBmZtY6J+BmFRFxcPNtZZR7VuCYiLi/wyH153zgOuDWiHillIMsOomvOZRMvn8SEd9o3Cjpa+TFxc+ADw1OuDYIFij/PlprFGZmNtlcgmI2BSRtJ+lKSc9LekXSbZL2lzRdH+feXz5mlXSCpEckvSrpdklfk6RWv29EjImIGyLilRbjnBHYGXgJ+F7T4ROA+4HNJS3Ragzlflv6WSQtVkpkfifpvZLOkDRW0luSNiznTCXpS5L+LWmcpJfK/78saaqm+3tU0sN9xPNA+T7fbbp9y3L79yu3zSvpKEljyvd6rvz/d309DpI2l/SPUm/9mqT/STpS0mx9nNv4Xc8i6ejy/zckHVyOzyzpu5JGS3pB0ovl/s6QtOokHvPFStnByeWmk5pLosrPEJKWkLSnpFvL8/Pyyv0sJen35Xf3enlMfy9pqT6+58Hl/jaUtIOkUZJeLl9zdOP5LmnjUhbxgqRnJZ1SZl5aVp5Th5Xfxavlfi6Q9ME+zt1FEykFK8cub7qt+rPsKOmG8ny7v8X45pD0o/K7e1n5t3+LpMPL31n13IE+xttK+le5/2ck/VHSgpVzG8+BDSo/Z+Pj8sp5E30elnM2kfTP8n1elXRX+VlmbeXxaOHx2lzSNeVv7BlJf5W0TOU5uljzz6X2vU68fX/9xPauEp7y+Ef5fawl6eLyO36xPA9Xa8fjYuYRcLMBknQosD/wFHA6MA7Yghxp3lzSphHxRtOXTQtcDMxGloBMC2xDjkAvDXx1kMJdC5gBuDAiXqweiIi3JF0I7A5sBLRahjKQn2VJ4AbgLuC0EtML5dgpwI7AQ8BvgAA+To7Mrwt8unI/lwKflrRMRNwJIOk9wCLl+CbADyrnb1z+vaScOxK4psRzEXAuIHIWYWvgz9XHQdJBZHnSM8B5wFhgReCbwJbK8p3Gz1F9fC4F5gAuLD/nfZIE/BNYm5zF+A3wJrAwsCFwFTCqj8eu4bkSy8ol1nOYUAp1c9O5xwLrkbXi/yBLlpC0Ovm7mxn4G3A7WY70aWBrSZtExI19fO89yef4X4HLgc2AvYE5JJ1DPg/+Dvyq/Hw7AXOVr5kk5cXMNcBywL+BY8rXbwdcKOnLEfHLVu6rBfsAm5K/+8vIWa5Jxbd4OXdR8nf0c3Ig673k4/AL8iJ3Sh7jrwAfLV9zBfABYHtgJUkrR8RrTHgO7FJiqZbO3d90f30+D0uMXyw/w0vAmeTzekPg28BHJK0TEc9N6nHpj6TtydfG14A/AY8x4Xl/y0S+tF2vE1PiA+Tr+8XAT4H3AJ8A1pe0WURc1abvY8NVRPjDH/6YyAf5hhbAYpXb1iq3PQjMV7l9avINPYAD+rmfq4HpKrfPAfyvHFt/CmOcup/jXy3Hj+/n+DfL8f+bzO/X0s8CLFZuC+DQPu5vh3LsJmCmyu0zAjeWYztWbv9cue2rldu+WG67kHzDH1k59h/gZWDa8vlHyrk/6SOWaYGZK59vVM69Fpit6dxd+rqfyuNzMTBj07EVyrGz+/jeUwGzt/g7aHzvXfo49rty7BFg8aZjAu4oxz/ddGz7cvudwFSV2w8utz8PLFu5fTrgv2Ri/zSwQdPPclH5upVb/Jl+Wc7/JaDK7UuV7/0a7/w77PcxKMcDuLzptsbP8hLw/sn8O7umfO3+fRybC5i+DY/xC8AKTV9zejm2XdPtlwPRwt9pX8/DRcvj+QKwTNOxn5Wv+9XkfL+mc2cGni3fY6WmY4cz4fWg+vtcjPa+TjTu73f9xPiun4e8AGnEsEfTsa3L7XdXf3f+8MdAPlyCYjYwnyv//jAiHm/cGBFvkiNrbwGf7+dr948cxWp8zTNMGK3ddRBihQmje8/3c7xx+2yTeb+T+7M8Qd8LXRuP534RMa5yfy+Ro3HwzsfzkvLvJpXbNiFH8I4jk+h14e3FpysBV0fE603f910lPBHxerxzluBr5d8vRNNoYET8jhx17m/UbZ/yM/Slr+/9VkQ828/5A3FERNzXdNva5EjsdRFxWtP3P4O8qFqa8vg1OS4i7qic/xpwBpls/z0irqgcews4tXy60qQClTQNOWI+jnxevV0aEBF3M+H3+plJ3VeLfhUR/2n1ZGVp0Nrk7/v/mo9HxFMR8Wr5dEof49uabvt1+XeNVuNt0tfzcCfy8TwhyixSxYHAi8DO6qOcrkVbk68np0VE82j3D3n3gvaqdr1OTIl7yAuRt0XEOeSsxHvImSWzAXMCbjYwq5R/L20+EBF3AQ8Di+vd9cFvkiOpzS4v/76/TfFNrkbNdkz0rHcayM9ySzVhr1iFvGi5vI9jV5AjrG/fX0Q8QJaIbFRqQkWOXF1Szn+TCcn5RuTPd2nTfT4C7FfqX78maVVJI/r4/msBbwCfLHWh7/ggk5i59e5a51eBW/u4v9vJJG6HUhv7LUlrS5q2j3On1L/6uK3f527T7X39/voqmWgsAu2rbOaR8m8rbS6XAUaSz5FnJjOugejrsZmYNcu/F5SLi4lp92P8UPl39kl837709zyc2GvYs+Ss0fTk72UgGj/b1X3c/zgm3kGqLa8TU+iqfn7Pje9d12u19QjXgJsNTGNE+bF+jj9G1iPPyjtHep6KiPF9nN8YRZ9kHeoANUa4+7v/WZrOa8VAfpbH+7itce4zfYxQExFvSnqKbLlXdQnwBfJN+Q1gbuCSiHhR0r+ZkIBvUjm/cZ8vSFqTHGX7KNnWEeApST8jZzYa9ftzkq+V3+sn9oaZyDKMhrHVUdzK9x4vaWOyjeS2TBhNfVHSyeTo77jmrxugvh7vVp670PdsSF/PjzdbODZNP9+rXXENRH/Pxf40vu8jEzupmJKf5bk+bms8jn1dIE5Kn89DBv/xbtz/E/0c7+92aO/rxED1F99gv1bbMOERcLOBaSQb8/VzfP6m8xrm6meUtXE/k5MAT44x5d/39nO80ZXhrsm4z4H8LP2NsD9PLuR7V6Km3FxoLiYswmpojNx9kAlJ9qWVf98vaY5y7HmybnRCIBEPR8Ru5Bv28mSpydNkYnxQU2zPRoQm8fFAiz8rEfFsROwdEQuTj/3nyZrgPchFce3SVwwDfe4OtoHE1RihfNdgUh+zT80mZ7YHJiTGC07spKKbHuOJ/c3B4MXY+Hudt5/j/d0O7Xud6Pf5Ucw2kRj6i2+wX6ttmHACbjYwjdrRDZsPlG4cCwH3NdcMk28Ea/dxf437abkmdTJdT9YcryNp5uqB0rprs/LpZZNxn+38Wf5Dvh6t38ex9cmRv5uabr+UfKPehOxycm+l3vmScn87kwnu5f2M1hPpvxFxPNkVA+BjlVOuB2aX9L7J+HlaFhH3RMSJZEu5cWTt7GDq97nbdHvz4z3YxpALZVeW1FepxUbl32pcjXr5hfs4v93t4q4v/27e3O6uD516jBtdbQYyMj6x17DZyC47r5KLSQeicf/vqnOXNFO5/4Hc5+S8TvT7/FDuJNvfgATAuv38njesxGI2YE7AzQbmt+Xf70iau3FjeSM8ivzbOrGfrz2surCpjNJ+p3x60iDE2qi5PIXsFnBw0+E9yG4BF8Tk74TZrp+l8XgeVloENu5vJNkxAZoez4gYS3bgWId8872kcvhaMnk4oHz+jjpXSctX+w9XNEa9Xq7c9pPy768lLdB0PpJmLOUsLZG0eD/J/OxkV5GWertPgWvIZHddSds2xbYt+VjeRR+1u4OplBWcRpbyfL96TNKS5AzFG+TzuOFGcpRzx6bnzRzAEW2ObxT5vFqZCQv+qjHOKamxG22nHuNGydMiEz2rb6eSj+eeZdCg6gdkWdqp/dRit+IccpT405KaF+F+h4GVtkzW60RZTH0nOfCwXOX8EcDRZHvD/ixFtoR8m6StyQvle8h2oWYD5hpwswGIiGslHQF8Cxgt6c9kW7MtyHKGq4Ej+/jSx8gka7Skv5G1sduS070/i4grW/n+kuYiE/2Gucq/J1Y2lji8qbvBAeTozTckrUwuQluWHHEdy+T3IG/LzwIQEaeXN7ftgP9K+is5uv0xYHHgT83dJIpLyMe78f/G/b0m6Rr6qP8uPggcLela8g16LDlrsTWZ0B1Zua9LJO0HHAbcLekfZB/lmchWbhuQv+9WdxFdCThb0ihgNLmIce7yvaehjw4b7RQRIemzZIvAM0r/7jvJrhwfI7tffKaFhYaDYT+yu8QepY/2ZUzoAz4z2Rbu7a4uEfGYpNPImY6bJf2dTBy3BK6k/QvldiIX4R0qaZvyf5HJ2mbkgsX7O/gYXwJ8EvhLeV6+AjwQEadM/MsgIu6XtBfZ4/omSX8CniSfz2uVeN91odGqss7iK2Sif225/0Yf8JXIRZMbMKFMpJX7HMjrxJFkUn6NpDPJC/ONyL+1W+i/Q88/gR9L2qKc1+gD/iqwW01/H9ZLWulV6A9/DOcP+ugDXjn2KTL5epF8Yf4v2cJr+n7u535y8c5PycVcr5FTvF+j0ve4hZgWY0Kv2v4+Nuzj6+YgN2d5AHidfEP8LbDQAB6Tln8WJtGPt5wzFTnidCM5Av0y2Vnjq/TTc5cJ/bzfAuZpOrZ/OfZ4H1+3LDkCdiOZdLxWfp4/A2v3873WJTcTebQ8dk+SnRyOBlbr6/Hp534WIjdruoZc0PUa2TXnfGCLyfgd7MKk+4C/6zlbOWdpcjT5MXIk9DEyWVq6j3MPnshzamJxbFiOHTwZP9ds5EXI3eWxeY5MZDfr5/zpyCTr4fJ7uaf87qdm4n3A3/WztBjfnCW+MeTf/HPlefAjKr3n2/wYL0Yffz9kycWhZEegN5p/3ok9DyvnbEb2zn+2PN73kLMHs/Vx7uW02Ae88jVbkDMHL5fvcQ55oXJeiXe2Sf2cTfc3kNeJ3cjX5tfIv7lflt/ju36e6nOWvBC5mKwrf7E8TqsP5HnjD380fyhictehmNlAqGx1HRGL1RuJmVl9SgnIveQmXv0tAq2Fcsv7y4BDIuLgWoOxnuYacDMzM2s7SbNVa7XLbSJrwBcB/lJLYGZdwDXgZmZmNhjWJGvgLyTLYWYqt61Mbi50cF2BmdXNCbiZmZkNhjFkrfc65MLYqcla/eOAQyM7GZkNS64BNzMzMzPrINeAm5mZmZl10LArQZlrrrliscUWqzsMMzMzM+tho0aNeioi5u7r2LBLwBdbbDFuvPHGusMwMzMzsx4m6YH+jrkExczMzMysg5yAm5mZmZl1kBNwMzMzM7MOcgJuZmZmZtZBTsDNzMzMzDrICbiZmZmZWQc5ATczMzMz6yAn4GZmZmZmHeQE3MzMzMysg5yAm5mZmZl1kBNwMzMzM7MOcgJuZmZmZtZBTsDNzMzMzDrICbiZmZmZWQc5ATczMzMz6yAn4GZmZmZmHTR13QF0m1X3/X3dIXSNUUd+pu4QzMzMzHqOR8DNzMzMzDrICbiZmZmZWQc5ATczMzMz6yAn4GZmZmZmHeQE3MzMzMysg5yAm5mZmZl1kBNwMzMzM7MOcgJuZmZmZtZBTsDNzMzMzDrICbiZmZmZWQc5ATczMzMz6yAn4GZmZmZmHeQE3MzMzMysg5yAm5mZmZl1kBNwMzMzM7MOcgJuZmZmZtZBTsDNzMzMzDrICbiZmZmZWQc5ATczMzMz6yAn4GZmZmZmHeQE3MzMzMysg5yAm5mZmZl1UEcTcElflXSrpBfKx3WStqocl6SDJT0q6RVJl0t6X9N9TCfpeElPSXpJ0t8kLdTJn8PMzMzMbKA6PQL+MPBtYBVgNeBS4K+SVizHvwXsA+wJrA6MBS6SNHPlPo4BtgF2ANYDZgHOkzSiEz+AmZmZmdmU6GgCHhHnRMT5EXFPRNwVEQcCLwJrSRKwF3B4RJwVEaOBzwIzAzsCSJoV2A3YNyIuioibgJ2BFYEPdvJnMTMzMzMbiNpqwCWNkPQpYCbgWmBxYD7gwsY5EfEKcCWwdrlpVWCapnMeAu6onGNmZmZm1rU6noBLWkHSOOA14BfAxyPiNjL5Bnii6UueqBybDxgPPDWRc/r6nrtLulHSjU8++eSU/ghmZmZmZgNWxwj4GGBlYE3g58DJkpavHI+m89XHbc0mek5E/CoiVouI1eaee+7Jj9jMzMzMrE06noBHxOulBvzGiNgfuBnYG3i8nNI8kj0PE0bFHwdGAHNN5BwzMzMzs67VDX3ApwKmA+4jE+xNGwckTU92Orm23DQKeKPpnIWAZSvnmJmZmZl1rak7+c0kHQ78HXiICd1NNgS2ioiQdAxwoKQ7gbuA7wDjgNMBIuJ5SScCR0oaCzwNHA3cClzcyZ/FzMzMzGwgOpqAk+Ulp5Z/nycT5y0i4oJy/AhgBuCnwOzADcBmEfFi5T72Bt4EzijnXgJ8JiLGd+QnMDMzMzObAh1NwCNil0kcD+Dg8tHfOa+SG/Xs2cbQzMzMzMw6ohtqwM3MzMzMhg0n4GZmZmZmHeQE3MzMzMysg5yAm5mZmZl1kBNwMzMzM7MOcgJuZmZmZtZBTsDNzMzMzDrICbiZmZmZWQc5ATczMzMz6yAn4GZmZmZmHeQE3MzMzMysg5yAm5mZmZl1kBNwMzMzM7MOcgJuZmZmZtZBTsDNzMzMzDrICbiZmZmZWQc5ATczMzMz6yAn4GZmZmZmHeQE3MzMzMysg5yAm5mZmZl1kBNwMzMzM7MOcgJuZmZmZtZBTsDNzMzMzDrICbiZmZmZWQc5ATczMzMz6yAn4GZmZmZmHeQE3MzMzMysg5yAm5mZmZl1kBNwMzMzM7MOcgJuZmZmZtZBTsDNzMzMzDrICbiZmZmZWQc5ATczMzMz6yAn4GZmZmZmHeQE3MzMzMysg5yAm5mZmZl1kBNwMzMzM7MOcgJuZmZmZtZBTsDNzMzMzDrICbiZmZmZWQc5ATczMzMz6yAn4GZmZmZmHeQE3MzMzMysg5yAm5mZmZl1kBNwMzMzM7MO6mgCLml/Sf+W9IKkJyWdK2n5pnN+JymaPq5vOmc6ScdLekrSS5L+JmmhTv4sZmZmZmYD0ekR8A2BnwFrAxsDbwIXS5qj6byLgfkrH1s2HT8G2AbYAVgPmAU4T9KIwQrczMzMzKwdpu7kN4uIzaufS9oZeB5YBzi3cui1iHi8r/uQNCuwG7BrRFxUuZ8HgA8CFwxC6GZmZmZmbVF3DfjMJYZnm25fV9JYSXdJ+rWkeSrHVgWmAS5s3BARDwF3kCPrZmZmZmZdq+4E/FjgZuC6ym3/BD4DbALsA6wBXCppunJ8PmA88FTTfT1Rjr2LpN0l3SjpxieffLJ90ZuZmZmZTaaOlqBUSToaWBdYNyLGN26PiD9WTrtN0iiyvGQr4C8Tu0sg+joQEb8CfgWw2mqr9XmOmZmZmVkn1DICLukn5ALKjSPi3omdGxGPAg8DS5WbHgdGAHM1nToPOQpuZmZmZta1Op6ASzoW2JFMvu9s4fy5gAWBx8pNo4A3gE0r5ywELAtc2/aAzczMzMzaqKMlKJJ+CuwMfAx4VlKjZntcRIyTNBNwMHAWmXAvBhwGjAXOBoiI5yWdCBwpaSzwNHA0cCvZvtDMzMzMrGt1ugb8K+XfS5puP4RMvMcDK5CLMGcjk/DLgO0i4sXK+XuTPcTPAGYo9/eZai25mZmZmVk36nQfcE3i+CvA5hM7p5z3KrBn+TAzMzMzGzLqbkNoZmZmZjasOAE3MzMzM+sgJ+BmZmZmZh3kBNzMzMzMrIOcgJuZmZmZdZATcDMzMzOzDnICbmZmZmbWQU7AzczMzMw6yAm4mZmZmVkHOQE3MzMzM+sgJ+BmZmZmZh3kBNzMzMzMrINaSsAlvVfSGpXPZ5B0mKRzJe0xeOGZmZmZmfWWVkfATwC2rXz+I2AfYAHgJ5K+2u7AzMzMzMx6UasJ+IrANQCSpgI+A3w7IlYFfgjsPjjhmZmZmZn1llYT8NmAp8v/3w/MDvy5fH45sERbozIzMzMz61GtJuBPAO8p/98M+F9EPFQ+nwl4s92BmZmZmZn1oqlbPO9vwGGSlgd2AX5ZObYCcG+b4zIzMzMz60mtJuD7AdMDm5PJ+I8qxz4KXNjmuMzMzMzMetIkE3BJI8jykwMjYmzz8YhYezACMzMzMzPrRa3UgAdwI7Dy4IZiZmZmZtb7JpmAR8RbwEPAjIMfjpmZmZlZb2u1C8ovgb0kTTuYwZiZmZmZ9bpWF2HODCwJ3Cvpn8BjZGlKQ0TE99odnJmZmZlZr2k1AT+g8v/P9XE8ACfgZmZmZmaT0FICHhGtlqqYmZmZmdlEOLE2MzMzM+uglhNwpY9KOkrSSZIWLbdvIGmBwQvRzMzMzKx3tFSCIml24B/AB4AXyEWZxwMPAF8AngG+NkgxmpmZmZn1jFZHwI8EFgbWAeYCVDl2MbBJm+MyMzMzM+tJrXZB2Rr4ZkRcV7amr3qQTM7NzMzMzGwSWh0Bnwl4pJ9j0/POEXEzMzMzM+tHqwn4GGCzfo5tANzWnnDMzMzMzHpbqyUoPwV+Kul54PRy22ySdgX2AHYfjODMzMzMzHpNqxvx/FrSksAhwPfLzRcBbwFHRMRpgxSfmZmZmVlPaXUEnIjYT9LPgU2BeYCngYsi4t7BCs7MzMzMrNe0nIADRMQDwG8GKRYzMzMzs57X0iJMSWtL+nDl8zkk/UHSbWVnzObWhGZmZmZm1odWu6AcDqxa+fwoYEvgLuDLwAFtjsvMzMzMrCe1moAvC9wIIGkaYFtg74jYBjgQ2HFwwjMzMzMz6y2TsxHPC+X/awAzAueVz28CFmlzXGZmZmZmPanVBPwRYKXy/y2A0RExtnw+O/ByuwMzMzMzM+tFrXZB+QNwqKQNydrv71WOrQLc3d6wzMzMzMx6U6sJ+MHAq8Ca5ILMoyvHVgLObG9YZmZmZma9qdWdMMcDP+rn2MfaGZCZmZmZWS9rtQ/44ZI2kzRySr6ZpP0l/VvSC5KelHSupOWbzpGkgyU9KukVSZdLel/TOdNJOl7SU5JekvQ3SQtNSWxmZmZmZp3Q6iLMnYB/As9KulrSDyRtLGm6yfx+GwI/A9YGNgbeBC6WNEflnG8B+wB7AqsDY4GLJM1cOecYYBtgB2A9YBbgPG8IZGZmZmbdrqUEPCIWApYBvk52RNkduBh4TtJlkr7b4v1sHhEnRcToiLgN2BmYG1gHcvQb2As4PCLOiojRwGeBmSm9xiXNCuwG7BsRF0XETeV+VgQ+2NqPbWZmZmZWj1ZHwImIuyLiFxGxfUTMS448Xw1sQC7SHIiZSwzPls8XB+YDLqx831eAK8lRc8gdOadpOuch4I7KOWZmZmZmXanVLihImgFYlywd2YhsP/gyuSHPpQP8/scCNwPXlc/nK/8+0XTeE8CClXPGA0/1cc589EHS7uSoPYss4j2DzMzMzKw+LSXgkq4kd8B8HbgWOJus0R4VEW8N5BtLOppM6NctXVaqovn0Pm571132d05E/Ar4FcBqq602qfsxMzMzMxs0rY6Arwu8ApwCXABcERHPD/SbSvoJ8Clgo4i4t3Lo8fLvfMBDldvnYcKo+OPACGAu4Mmmc64caExmZmZmZp3Qag34isD+wALA74CnSjvB/5P0IUkztvoNJR1LLqjcOCLubDp8H5lgb1o5f3qy3vzactMo4I2mcxYClq2cY2ZmZmbWlVrdiGc0MBo4rnQqeT9ZC/5h4JtkQjz9pO5H0k/JjiUfI1saNmq2x0XEuIgISccAB0q6E7gL+A4wDji9xPK8pBOBIyWNBZ4md+a8lezMYmZmZmbWtVpehAkgaRqy08hGZAL+AbL2+tmJfV3FV8q/lzTdfggTOqkcAcwA/BSYHbgB2CwiXqycvzfZQ/yMcu4lwGf6qCU3MzMzM+sqrS7CPIBMuNciE96ngSuAbwCXRsQdrdxPRKiFc4JMxg+eyDmvkotA92zl+5qZmZmZdYtWR8D3JRc4HghcFhG3DF5IZmZmZma9q9UEfM6Bths0MzMzM7MJWl2E+RaApDnIMpQ5yDKU6yPimcELz8zMzMyst0zOTpg/BPYBpiUXXgK8JumoiPjuYARnZmZmZtZrWl2EuRdwAHAicCrZq3s+YCfgAElPRsRxgxWkmZmZmVmvaHUE/EvAsRGxd+W2McAVksaR7QWdgJuZmZmZTUKrO2EuBvy9n2N/L8fNzMzMzGwSWk3AnwaW7+fY+8pxMzMzMzObhFYT8LOBH0jaueyGiaSpJe0AfB84a7ACNDMzMzPrJa0m4PsDNwMnAy9LegJ4BTgNuIVcoGlmZmZmZpPQah/wFyWtD2wFrEf2AX+G3I7+/LJ9vJmZmZmZTcIkE3BJ0wLXA/tFxHnAeYMelZmZmZlZj5pkCUpEvA4sDrw5+OGYmZmZmfW2VmvALwI2G8xAzMzMzMyGg1Y34jkeOFXS1MBfgceAd9R9R8S97Q3NzMzMzKz3tJqAX1H+/Qawdz/njJjycMzMzMzMelurCfiugxqFmZmZmdkw0WobwpMHOxAzMzMzs+Gg1RHwt0laAFgQeCQiHm1/SGZmZmZmvavVLihI+oyk+4CHyL7gD0m6T9JOgxadmZmZmVmPaSkBl7QH8DvgbuALwEfLv/cAJ0v66mAFaGZmZmbWS1otQdkH+F1EfK7p9t9K+h3wTeCn7QzMzMzMzKwXtVqCMh/wx36OnQ7M255wzMzMzMx6W6sJ+G3Akv0cWwoY3Z5wzMzMzMx6W6slKF8H/ijpKeAvETFe0ghgG2Bf4FODFaCZmZmZWS/pNwGX9BDv3G5+VrIMZbykZ4HZyd0vxwFnAIsOYpxmZmZmZj1hYiPgl/DOBNzMzMzMzKZQvwl4ROzSwTjMzMzMzIaFljfiMTMzMzOzKecE3MzMzMysg5yAm5mZmZl1kBNwMzMzM7MO6jcBlzSLJHUyGDMzMzOzXjexEfBngdUBJF0qaZnOhGRmZmZm1rsmloC/DkxT/r8hMMugR2NmZmZm1uMmthHP3cABks4sn285sVHwiPh9WyMzMzMzM+tBE0vADwROBbYgd8Q8aCLnBuAE3MzMzMxsEia2E+a5kuYAFgLuA7YFbulUYGZmZmZmvWhiI+BExHjgAUmHANdHxKOdCcvMzMzMrDdNNAFviIhDAEpbwuWAOYCngTsiIgYvPDMzMzOz3tLyRjySPg88BtwKXA7cBjwqabfBCc3MzMzMrPe0NAIu6dPAr4BLyIWZjwPzAZ8GfiXp5Yj4w6BFaWZmZmbWI1pKwIFvAadFxM5Nt58s6RTg24ATcDMzMzOzSWi1BGVpcuS7L6eW42ZmZmZmNgmtJuAvku0I+7JQOd4SSetL+pukRySFpF2ajv+u3F79uL7pnOkkHS/pKUkvlfvrLz4zMzMzs67RagJ+PnCopPWqN0paC/hhOd6qmYDRwNeBV/o552Jg/srHlk3HjwG2AXYA1gNmAc6TNGIy4jAzMzMz67jJqQFfE7hc0iNkN5T5yNHve8rxlkTEP4B/QI5293PaaxHxeF8HJM0K7AbsGhEXldt2Bh4APghc0GosZmZmZmad1tIIeEmGVyZHra8DXgCuB/YE3h8RT7Q5rnUljZV0l6RfS5qncmxVYBrgwkp8DwF3AGu3OQ4zMzMzs7ZqdQSciHgZOKF8DKZ/An8B7gMWI0tcLpW0akS8Ro68jweeavq6J8oxMzMzM7Ou1XIC3ikR8cfKp7dJGkWWl2xFJub9EdDnrpySdgd2B1hkkUXaFKmZmZmZ2eRreSfMukTEo8DDwFLlpseBEcBcTafOQ46C93Ufv4qI1SJitbnnnnvQYjUzMzMzm5SuT8AlzQUsSC78BBgFvAFsWjlnIWBZ4NqOB2hmZmZmNhk6XoIiaSbgPeXTqYBFJK0MPFM+DgbOIhPuxYDDgLHA2QAR8bykE4EjJY0FngaOBm4l2xeamZmZmXWtOkbAVwP+Uz5mAA4p//8+ubhyBeAc4C7gZGAMsFZEVDf72ZusBz8DuAYYB3wkIsZ36GcwMzMzMxuQlkbAJd0LfDwibunj2PLA3yJiiVbuKyIuJxdM9mfzFu7jVbIF4p6tfE8zMzMzs27R6gj4YsB0/RybHli0LdGYmZmZmfW4ySlB6bPFH1lS8tyUh2JmZmZm1vv6LUGRtDdZaw2ZfJ8r6fWm02YA5gD+iJmZmZmZTdLEasDvBS4p//8scCPwZNM5rwG3A79pf2hmZmZmZr2n3wQ8Is4hu5EgCeD7EXFfh+IyMzMzM+tJLXVBiYhdBzsQMzMzM7PhoOWNeCQtAWwHLEJ2PqmKiNitnYGZmZmZmfWiVvuAbw2cSXZNGUvWflf11yHFzMzMzMwqWh0B/yFwOfDpiGheiGlmZmZmZi1qNQFfAtjHybeZmZmZ2ZRpdSOeO4E5BzMQMzMzM7PhoNUE/FvAAWUhppmZmZmZDVCrJSgHkyPgd0i6G3im6XhExAbtDMzMzMzMrBe1moCPB8YMZiBmZmZmZsNBqxvxbDjIcZiZmZmZDQut1oCbmZmZmVkbtLoRz/qTOicirpzycMzMzMzMelurNeCXM+ndLkdMWShmZmZmZr2v1QR8oz5umxP4MLABsEfbIjIzMzMz62GtLsK8op9Df5H0E+AjwPlti8rMzMzMrEe1YxHm34Ht2nA/ZmZmZmY9rx0J+NLAW224HzMzMzOzntdqF5TP9HHztMDywG7AX9oZlJmZmZlZr2p1Eebv+rn9NeAM4OtticbMzMzMrMe1moAv3sdtr0bEE+0MxszMzMys17XaBeWBwQ7EzMzMzGw4aHUEHABJjb7fcwBPA1dExN8HIzAzMzMzs17U6iLMmYHzgPWAN8nke05gH0lXAR+OiHGDFqWZmZmZWY9otQ3hocAqwM7ADBExPzAD8Jly+6GDE56ZmZmZWW9pNQHfBvhORJwWEeMBImJ8RJwGfLccNzMzMzOzSWg1AZ8TuL2fY7eX42ZmZmZmNgmtJuD3AR/u59iW5biZmZmZmU1Cq11Qfgn8WNJMwGnAY8B8wKeAzwPfGJzwzMzMzMx6S6t9wH8iaW5gb2CXcrPInTAPj4hjByc8MzMzM7Pe0nIf8Ig4QNKRwJpkH/BngOsj4tnBCs7MzMzMrNdM1kY8Jdk+f5BiMTMzMzPrea1uxPNtYKGI2LOPY8cBD0XEke0Ozoa+B7+/Qt0hdI1FDrqt7hDMzMysC7TaBWVX4NZ+jt1cjpuZmZmZ2SS0moAvAtzdz7F7gUXbE46ZmZmZWW9rNQF/GViwn2MLkd1QzMzMzMxsElpNwK8C9pU0XfXG8vk+5biZmZmZmU1Cq11QDgauBe6SdCrwCDkivhO5Df0ugxGcmZmZmVmvaXUjnlskbQQcBXybHDl/C7ga2CYibhm8EM3MzMzMesfkbMTzL2B9STMAswPPRsQrgxaZmZmZmVkPmqyNeABK0u3E28zMzMxsAFpdhNk2ktaX9DdJj0gKSbs0HZekgyU9KukVSZdLel/TOdNJOl7SU5JeKve3UEd/EDMzMzOzAeh4Ag7MBIwGvk7fI+nfIjur7AmsDowFLpI0c+WcY4BtgB2A9YBZgPMkjRi8sM3MzMzMplzHE/CI+EdEHBARfyYXcr5NkoC9gMMj4qyIGA18FpgZ2LGcMyuwG7BvRFwUETcBOwMrAh/s3E9iZmZmZjb56hgBn5jFgfmACxs3lJrzK4G1y02rAtM0nfMQcEflHDMzMzOzrtRtCfh85d8nmm5/onJsPmA88NREzjEzMzMz60rdloA3RNPn6uO2Zv2eI2l3STdKuvHJJ59sR3xmZmZmZgPSbQn44+Xf5pHseZgwKv44MAKYayLnvENE/CoiVouI1eaee+52xWpmZmZmNtm6LQG/j0ywN23cIGl6stPJteWmUcAbTecsBCxbOcfMzMzMrCtN9kY8U0rSTMB7yqdTAYtIWhl4JiIelHQMcKCkO4G7gO8A44DTASLieUknAkdKGgs8DRwN3Apc3MmfxczMzMxscnU8AQdWAy6rfH5I+TgZ2AU4ApgB+Cm55f0NwGYR8WLla/YG3gTOKOdeAnwmIsYPdvBmZmZmZlOi4wl4RFxOLpjs73gAB5eP/s55ldyoZ8/2RmdmZmZmNri6rQbczMzMzKynOQE3MzMzM+sgJ+BmZmZmZh3kBNzMzMzMrIOcgJuZmZmZdZATcDMzMzOzDnICbmZmZmbWQXVsxGNmA7TO8evUHULXuGbPa+oOwczMbEA8Am5mZmZm1kFOwM3MzMzMOsgJuJmZmZlZBzkBNzMzMzPrICfgZmZmZmYd5ATczMzMzKyDnICbmZmZmXWQE3AzMzMzsw5yAm5mZmZm1kFOwM3MzMzMOsgJuJmZmZlZBzkBNzMzMzPrICfgZmZmZmYd5ATczMzMzKyDnICbmZmZmXWQE3AzMzMzsw5yAm5mZmZm1kFOwM3MzMzMOsgJuJmZmZlZBzkBNzMzMzPrICfgZmZmZmYd5ATczMzMzKyDnICbmZmZmXWQE3AzMzMzsw5yAm5mZmZm1kFOwM3MzMzMOsgJuJmZmZlZBzkBNzMzMzPrICfgZmZmZmYd5ATczMzMzKyDnICbmZmZmXWQE3AzMzMzsw5yAm5mZmZm1kFOwM3MzMzMOsgJuJmZmZlZBzkBNzMzMzPrICfgZmZmZmYd1HUJuKSDJUXTx+OV4yrnPCrpFUmXS3pfnTGbmZmZmbWq6xLwYgwwf+VjhcqxbwH7AHsCqwNjgYskzdzpIM3MzMzMJtfUdQfQjzcj4vHmGyUJ2As4PCLOKrd9lkzCdwR+2ckgzczMzMwmV7eOgC8h6RFJ90n6o6Qlyu2LA/MBFzZOjIhXgCuBtWuI08zMzMxssnRjAn4DsAuwBfAFMuG+VtKc5f8ATzR9zROVY2ZmZmZmXavrSlAi4vzq55KuB+4FPgtc3zit6cvUx23V+9gd2B1gkUUWaVusZmZmZmaTqxtHwN8hIsYB/wWWAhp14c2j3fPw7lHx6n38KiJWi4jV5p577sEJ1MzMzMysBV2fgEuaHlgGeAy4j0zCN206vh5wbS0BmpmZmZlNhq4rQZF0FHAu8CA5sv1dYEbg5IgISccAB0q6E7gL+A4wDji9nojNbCi6Yv0N6g6ha2xw5RV1h2BmNqx0XQIOLAT8AZgLeJKs+14zIh4ox48AZgB+CsxOLtrcLCJerCFWMzMzM7PJ0nUJeER8ahLHAzi4fJiZmZmZDSldXwNuZmZmZtZLnICbmZmZmXWQE3AzMzMzsw5yAm5mZmZm1kFOwM3MzMzMOsgJuJmZmZlZBzkBNzMzMzPrICfgZmZmZmYd5ATczMzMzKyDnICbmZmZmXWQE3AzMzMzsw5yAm5mZmZm1kFOwM3MzMzMOsgJuJmZmZlZBzkBNzMzMzPrICfgZmZmZmYd5ATczMzMzKyDnICbmZmZmXWQE3AzMzMzsw5yAm5mZmZm1kFOwM3MzMzMOsgJuJmZmZlZBzkBNzMzMzPrICfgZmZmZmYd5ATczMzMzKyDnICbmZmZmXWQE3AzMzMzsw5yAm5mZmZm1kFOwM3MzMzMOsgJuJmZmZlZBzkBNzMzMzPrICfgZmZmZmYd5ATczMzMzKyDnICbmZmZmXWQE3AzMzMzsw5yAm5mZmZm1kFOwM3MzMzMOsgJuJmZmZlZB01ddwBmZjb0nbDPuXWH0DX2+PFH6g7BzLqcR8DNzMzMzDrICbiZmZmZWQc5ATczMzMz6yAn4GZmZmZmHeQE3MzMzMysg5yAm5mZmZl10JBOwCV9RdJ9kl6VNErSenXHZGZmZmY2MUO2D7ik7YFjga8AV5d/z5e0XEQ8WGtwZmZmU+BHO21bdwhd48BT/1x3CGZtN5RHwL8B/C4ifh0Rd0TEnsBjwJdrjsvMzMzMrF9DcgRc0rTAqsBRTYcuBNbufERmZmbWje740aV1h9A1lj1w4ym+j4MPPnjKA+kRU/JYDNUR8LmAEcATTbc/AczX+XDMzMzMzFqjiKg7hskmaQHgEWD9iLiqcvv3gB0iYpmm83cHdi+fLg2M6VSsU2Au4Km6g+gRfizby49ne/nxbB8/lu3lx7O9/Hi211B4PBeNiLn7OjAkS1DIB3w87x7tnod3j4oTEb8CftWBuNpG0o0RsVrdcfQCP5bt5cezvfx4to8fy/by49lefjzba6g/nkOyBCUiXgdGAZs2HdoUuLbzEZmZmZmZtWaojoADHA2cIulfwDXAl4AFgF/UGpWZmZmZ2UQM2QQ8Is6QNCfwHWB+YDSwZUQ8UG9kbTOkSma6nB/L9vLj2V5+PNvHj2V7+fFsLz+e7TWkH88huQjTzMzMzGyoGpI14GY2dEjy64yZmVmFR8DNzMzMzDrII1NDnKQZ6o7BrD+SdpB0zESO+zWoDRqPo6SpJKnueLqBpJkkzV93HGZWL0l9rnes+/3Hb35DlKS5JB0M/ETS+ZJWKrdPU29kZiCp0aN/Z2CGyu2qJIsjIuKtul8Ee8RBkhaIiLfC05oN3wJOBpC0jKQNJc3hC5R6VP7uvyhpfUkjqrcPJ43nYHk99PNxEFQe4+WBz0l6f/M5EfFWxwOrGHZP/F4gaW5y9e/2wAhgI+C1cvij5QlnTSp/kHNKmtkvfIPqWEkHAesCN0mapSTcUXnRu1rSZ+t+ERzqJM0OfBYYLen46hvNMB8RPw7Yo/z/M8ClwC3AWZK+JGl5STPVFt0wU/k73wQ4ANip6fZhIyJC0gzl9fAdF8zD+O+13RqP4z7ABsCLbx+QVpf0M0m/lrRBua3jj7trwIeQksCMl/RVYLeIWEXSOsBpwJLAtMBBwPQRsXedsXajyuN3HHBPRBzXuK3u2HqJpDmAk4BlgfcAtwG3AzeXf+8FArgeWD0ixkiSR26njKSdgE+TMw6/jYjf1xxS15A0FzAHOVixFbA2MBtwF/mc3Dci7qstwGGiJDnvB3YBdiN3rj4BODMiHpI0Va8m5I3XOEnTAxuTe5esDZwJ7BURr030DmxAJD0J7ABcUh7/lYBzyQT9DXIH9Y9GxKWdjs0j4EPTpsD55f+7AVdFxPiIeAWYiXxjsSaVRPsx4NOSpisJ+dtXvpI+LmnReiLsDRHxTERsDRwIXAz8HpgT+DJwPPBb4HTgpogYU77GyfcUKG/up5IlP/8ETpB0k6RdJc1Wb3T1qMx4LU4mec9GxC8j4qPAgmTycxp5kfhGbYEOI2XA96aI+Bq5cd6vgA8AX5O0UilJ69UR4Ea+tQtwGDkgcR3w/oh4rZRJHShpsXrC6z2S1gbeBK4syffMwDeBB4F1gC2BMcC2dZTvDtmNeIajSgJ5P9BIEtcDflA5bWNyl1BrUhld+TE5UvhZ4FflD3Mm8kVxJ/IP0waovIFOGxFnSjonIl4HfixpOjLpWR94CvhrOb9nR706QdL3gBckzQvMCNxJJpxfBE4kNyn7d30R1kbkTMsWwKIR8WSpO44y2viv8vGjGmMcFhp/45K2B+YiR75fJEsn5wI+CewjadeIOLnGUAdTY5BhL+DoiPiVpAuBf5TbXyUvRkaT7/E2QJUZ1eXIGa6ZgGeADYGVgO9HxIPl3N8AO0RExy/CnYAPEY2FKiVR+R1wqqQvA/MBZ5ZprS+Rb8Dn1BVnN5I0d0Q82UjyIuL1UobyRUmXkQnhQcBDwKci4vYawx3yygtfYzp1M0lLAf+JiMuBy8pH9Xwn3wMkaQXge2RCczT5JrMZOerzR/I1/pbaAqxR5Xn1KPAfSTNHxIvVc3zx1xkl+Z4B+EO56VnyQvEOsiRtRnJH65vhHQlUzyiPwYzA3Ex4DVwdOLj8/1kyOXy089H1lspz5xayBvxDkq4HDgX+A1xQOX0FanrMnYAPEU1vEreTU/g/AKYnR7fGkX/Yh0XEU52PsKudLWkN4G/kaMMlwK/Jq+FLgbHAUWTd7Eu9+OLfKZU6x/nIN5b1yJrkxSQtADwJrALc6prHtngc+A7wBbIc7dBS/kOZ1XmtjpGdLrMlsB3wlKTfAY+Vcj1f/HXWm8De5CzYDcA/IuLOxkFJ05bZsl4uSRtJ/uyrShoJvE6uhYFMBOeMiOE4WzUoIuLfkm4kyyBfJ2cXDmpciEuak1ygeXAd8XkR5hAgaWfyCu32iHiscvtiwIeApctNf4qI6zofYXcryfda5Or7D5AXKncCC5MXM7t61Ls9JE0dEW9K+g5ZDvV18g13t4hYoyTmhwMXRcRpdcbaS5R9br9IjqjdD/wmIh6uNaguIGke8oJ7YWAWst7zEuAq8m//0Yh4ur4Ih5dSZ7sO8BVypuYfZLnUTRHxap2xdYqkA8h1XM+RpRHbkSPfewBvRcR29UXXm0pnqKWBKxo5VKkq+CGZF2wUES93PC4n4N2tLKC6gZxafhy4m0weRwN3NE+pWv9KDfLc5B/iRuSIwzrAzOSb8aXAtyPizdqCHOIqtZ63kDMKx0o6D7gzIr5Z3oBPA26OiENdAjBw5Q2kschoNFlL+ykyEZ8HOAX4VkS8UFuQXaQsyNqWHBFfkmzhekpEfLbWwIaZRimQpIWAbwDvJbtSnDwckvBShnIE8Ply0/XkrOA5wMERcU9dsfWSymxsn53OygDmD8nuKCd1PECcgHe98ia7LnmFvCawBFl28hJZs3xH+RgD3DUcXsDaqXQ8WQ3YHFgwIraqOaQhrzxnrwCOiohzJI0lF7lcUhbB3Qd8LiIudgI++SpvLOsDPyOnVpcnS6luINuRbgUQEcO601V/z6+yZubj5IjjGZ2PbHgpMxH3Aw+Qf/+zkp1opicvFgGWiIj764ivDqUk76PAUuRMwA0RMa7eqHqLpA3JFoRrk/nSlWSlwL2Vc2orOXUCPsSUHsurk0+olckXsQDGA+dExGH1Rdf9Skuy5cnH7Q5gVESMkzQtMKJRG2pTRtKBwDbkAsGTgMXLqNfHyTaEczrxnjKSFgQ+CNxDLuBagCy1GAc8DIyPiH/VF2H9StuxFcnZgfFk+7EHIuL5WgMbZkqHns3I9SDzAE+Tg0izArMDz0XEcfVF2BmSliDbXt4cEWPrjqdXldnu3YBjydfCm8jXgBXINs3HA9+se32ME/AuJ+m7wC8jYqxy56xXmo4vBqxBttq6ICL+WEOYQ4KkPcn645fI0Zi3yI049omIJ2sMreeUN9wfkwtcpiET8Q3JF8A/R8TBHv1uD0kzRsRLdcfRLSplUEsC3yXLcp4HXiDL+O4gS3bujojz+78na4fhvqhdEzaA24NsfbsYuSnUE8DlwJ+BSyPiueH+WE2pyuzgtuTf/m8i4nhJs5DvQ4uSv4Mvkwl4rRd9TsC7WEmuT4+ItUvd2M+A/5L1yncC9zqBmbjKm/H6ZFu2HwBnkLs0rkYuBnqDXIThJLyNJC0P7EhO9c9CjkKcA/yuLNT0m80UKIuLdyffzN8E9igX6tMN5w4zlYXAx5OzhFsBe5KbFF1JTkm/BfwxIr5YW6DDSOn4sSc5G/FfsgvVU8Pp71/SU+TP/U+yA9065EL15cm/4Q9FxIX1RTj0VS52/kl22vpWP+cdSw4IrVnnrLcT8C4naZ7yproCcDL5Riuynds9ZO33nTR1SLFU+YM8AZg7IrZvOr4EuSHMkRFxSh0xDgeSZiVfb56rO5ahrPJ83gr4Nllu8hY5srMSuaB4a+CyiHiovkjrUxkFu4dcVH2WpCuAv5RFwd8lH6tDI+KmeqPtXZXfw0Jkp5NGG9LGxkgPlefxDdHjrXMlvZccfHhfY9CsrIeZkdzLYwWyLaNLINtA0iPApyP3nqje3nhOrkyWRu4bERfXECLgrei7Xkm+FRG3RcQqZF3TiWRbwpWBXcl6pl1qC7KLVVY/Tw+ML4uvkDRNGR2/l6xHXLKuGHtBWXiJpLklfUHSDZKukPQ9SatExPNOvttqT3Jzoy3JMqpbyxv7rOSI74fqDK5O5Q12NvLC5IFy80KUTV7IN97ZgUc6HtzwMqL8uws5A/ZBcgT4tpJ8z07uSPylesLrqP8BZwGfaNwQEeMj4oWIuCsiznLy3R6S5ibrvhdtPlaZcbmbXAdW66ZHTsCHgOo0XUnEfxERnyffZPcC/kR2P7D+nUFO9+1QLmjeKKUpy5HlKLVdBfeIxmvJIeTGMPeQdfY7Af+WNLYk5JvUFF9PqFxQLkfWjkKOeDe2s36YvJgcdq0Hy8XfTOXT6cl2lyMkzUV2iFmjLLZeDlgjIp6oKdTholEeuSVwYWQ7zF3IDklExLNk+d8sMOEivpdIUvnvjOQMwP6StinNFKzNynv7k+Rul1+eyKlrANNGzft/eCfMIaD8ES9E9rBdl1xAdG5E3AhcXT5s4i4jdw89EdhP0lXkdulbA9dEhB/DKRATeqd/iqyxvZTszjMrsDj5grcDMCdMKKWoIdQhr5Tz3AasLulfZFeJa8rhBcia0sv6+fJe9hPgl8BVEfG4pCOBmSPiKUkXkSOtK5Gbcf15IvdjbVBZn3Q/2SoTsoPXz+HthHt9crMuyNeLnlJmY6Yi+5w3OvGcCoSkm4G/kxck1wynevjBUnkMzwA+JemvZM/1u4BXS8eztclBotobVrgGvItV6j0/BBxJXkXfRI7gvJfcze0rEXFHjWF2vWqyV0a8P0V255ia3KzkjDIaY1OgLLQ6Djg2Im5rXmRZWkO97jeagavUMO5M7px3PbmAeEVJy5IzYitGxFp1xtlpJcl5E1g2IsZIuhTYKSIeLccXJh+btckL8TPCbeA6QtJ2ZAOB75OL4JcuF0hfIrsjLdaLi4YrDQA2J9dvfZxcszUrsCq5G+bGZFeU6T0g0V6Svg4cSl7Y/Qe4l9yEbw2yFe6PIuK++iJ0At7VJE0TEW9IupYc8TqMrFmagfwD/jFwK7B7L76AtZOy//c0wFPAi1Fz/89eUrlQXJcczXouIr7QdI5bDrZRqZ/9ITkrNjv55jI12ef6kIi4osbwOq78ff8VOIbsdHJ3DPNNiLpFmcHdD/gc2e3jbHLnx1nIzbp+0YuvD5WL5d2BD0TEbn2cMzMwV92JYC8oj+XL1QsZSXOS6+Q2JActHyIH3c6MLmjd6gS8C5UXrJGNJ4ik64D9+1jRuzX5hrONV/P3TdIMZN/PL5JT828CtwC/I9vheefQNpF0CLk4cEayTOoc4Dw/N6eMsoftTsAvmpOU0h1pbXIDnueA3w/HkV1J0wDfItcgvEH2+j+ErD0e03Su218OIknLNdfWlkWxm5ELhBcARpFbgF/U+Qg7o5KAbwzsCxzdyz9v3SR9nxxcO1LS0sBUzdUBmtCitCsu+JyAdyFJa5IjBteSi9k2A56JiAOazluQvKKbwx0m3qkyKvsZ4ADgQnLaaS5gO3I68NiI+GGNYfaMUgKwG7kIcGGyx+2q5PTqC+TI7HYR8WBdMQ5Vyt1DPxsRHyslVHuQi67/C9zRDSM53UK55fnNwDPASPL59xw5Kv5ncrOyJ52ED47Sbu+WiJihDH7sSD7mDzedNyzWgJRR2cauq3cCvycX/N8DPO/nYPtI2gu4NiL+JelnwHrka+Rt5AXfzRHxeI0hvosT8C4k6RNkj9+pgFfJN5LlyBZOfydHcKcjRxsXjqbe1vaOBPwyclHWQU3HDyATxu3LYlYbgEqd49pk/fcGEfFSGbWdh1yAuTL5Yri9W21NnjIbNg05I/acpB3IOtpnydeGh8idHW8nW2vdMdzLq5SbbPySHAVfklz4tyH5PJwX+GBEXFpXfL2sJN2LR8TtktYjFxi+QZZOXk7Oil1aOqIMC8oN9VYhy8U2JPt+P0xeRJ8TEafWFlyPUu6EuSr5978A2RVpHNkO8n/ATyPi+f7voTOcgHcxSUuRXU9WIXcQm58cTZwJmJtc0PHtiLiqtiC7XFlpflJEHFs+byTm05EjZftGxHk1hjikNdU5bhYR2/ZxztTAjN3wgjdUSdoXOCsi7lX2uV2FLD15P/kGMx6YFvhORPy9vkjrU3kuzlidFSh/6zOTF4RLkRueDOuLlMFQuRj/QETcUG5bGHgPsBG54HBlcmDpceDgiPh9XfHWpZSNfRDYntzNeseaQ+oJfc1qlRmIZcjuRyuQCfk8wLoR8fq776WznIB3ob7qk0qN44rkm+6qZO/q+YDNI+LOzkfZ/cro4YHA58ltfu+sHFuZ7CCxUPT4LmyDqZL0fIystf9uRIyuOayeUhYS/YdsN7pvRDzSdHxRcmX/ZsDhEfG/zkfZPUqbxrXIMpRRw6HUoZtIeo6c8v9GRNxSbhtBjkLOTyZC2wJ/jYgze7kcqJTmzQ1sQq4/ui4qO9QOl1KcTuuvxlvSfMCCETGqhrDexQl4lysvXHM31y6VRS2re1HHxJXpv5PIqeeLyd3vZiVHIB6LiK3ri643KDc3GQW8j1y38FsyYXwIeLpX31w7pVx8f4xs4zYTcEBEnFJrUF2mciH4CeAgcqZwGeBFsgb0PODfEXFLLyd83aAsOjyUnJXZr68Z2vK+9lYv/x6Um0J9DTiYLA8bT+4OejH5N+y1Gx1QBuLUDYsumzkB70KVqbwlyRY6nyK3Vb2TrKE7PryLW8vKNOjuwJrAbGT9/IXAEcOxY0S7SZqefHyXJzfWmIWcYr6dTH5ui4h/9H8P1gpJC5CbSmxF7vL4f5Fbek9TTnmzlxOaSSn1x7eQW36fR+4O+hdgNfLi8E1gtYi4tbYghwlJq5FrFRprQw6LiJfrjaozKmWOXwW+Qm4Q9S9yxnoNcu3RFWT74NrLIKw+TsC7UGU051yyo8SpZPK9NtmObCzZUeLeGsMcMiTNS05Hv0VOgT4eE3ZutDaTtApZDrE++Zz9e0R82iOPA1edUpX0OWAfsvf3nhFxf52x1a0yYPEJsq/0EmX9zDVk/fHywNHA6RFxXJ2xDidllHs/cgOk/5DlgG9P/XfjiGQ7VBLwq4CLI+KQpuOfImdpPhcR19cS5DDRLe0G++ONCrpQSb7nIcskPhYRR0XEeaUN4SZkCcUXy+I2qyjTTUgaKWlXSTeQswb/JDcums/Jd/tJWl7SapJmjYibIuLwiNiSXCC4fznNrzdToNSTQu6q9y3y4vy/kvYt093D3ZrAZeX/nyTb4b0QEdeSI46z1BbZMKPcRG58RPyILJ8aCRwPbBwRb3VzUjSlKjXdAbw96t94byI3IpqeLIu0QVBmw7r+Is9viF2m8ke6Jtm66fly+4hyNXc3uSPmpk4k+9S4KNmPTPzuIqejbybbkZ0kaYN6Qus9kqaT9BUyKbwYGCvpPeXY3BHxcpTe315sNHDVpKUkNn8HNiAvKr8O7F1nfHWqvMk+Dm/XzE8FPFdGYSFfTz370iHVLjMRcQ3ZD/wV4AJJJ1R+L73sTODbkj4kafrK7N8K5EzssNqtthMkzSXpe8BPJJ0vaaVye1cOVnZlUMNZ5Y/0TrLP7xfIWuVq8rIME5r7W0XlhX8n4MiI+HnjWJlVOBX4rqRbwpsXDVhl9f7HyC4zPyOfrz8E7i+LhH8g6YKIOLu2QIeoShnagmT98jzl0PuBJchyqoXJtm5Tl9uGpcZjFRFHS5ozIt6QdCk5S3BqWST8XnI3XGuzynN1bvI1YD4yyQxylHfVcvt95EXjVhGxR7eXB0yJ0onnr+SGZH8ErpZ0PVkStSFwit9/2qs8/35Jdoi7mmx9+Vo5vLWkMd3WocsJePe6h7yC3lfS+8nuEg+Rf9AfJRe4WCFpJDBrRDym7Pv7AFl3+LaIGCvp2+Q09bzkDnk2ZXYlt5T+jaQTgOsjt/p9GRA563C2678nT0lopibrvB8juyfMBIwGniAf24vJbhMjgGG7mVT1eRURT5d/r5W0J1mKMg2wf7hd62D7JblA+GVyzc2cZDeaO8jn67NkV5Cefa5WLip+SnaD2ol8v96BXHx5J9nN6K91xdhrKoNB2wGLRcSyktYBNgXuLuUoq5F7qnTVTKET8C5V/ogPlvQE+aK2IzAHMCM5svPnGsPrRl8gp50uAM4nX+T3k/Ql4InKm/SMABExpp4we0NlRmYuJryhbgb8qBx/vXRCOKEcm4psw2WtmxbYhpztejwi7lb2BH8hhvlGMpWFl7uRz8ETo9LPX9JMEXGypLMAImJcXbH2unKxOC15sfgpsvVjkK8LbwAzNC6Mmr6u50a/y3NyGuDjwKGlTPQv5QNJ00XEaxO7DxuwTcn3fsiLnavK+9QrZY1M162TcQLeBSpvJuuSv5MbomzZHRE/l3QKOQ09Prxten9OJ1/4Nybrv+crt88EnCnpbuAD5E54R9USYY8p6xXOIRcE30zWNV5Ujq0MLE0ufnX99wCUtm3nNd32jkSmsWZkuM0uVJK3vcjn4NsJtqSvAZtJehM4ISIu7nyEw0tpp/fNfg6/XBL0N4bJ83RG4FfAYmQr1urf6Wu9XHpTh8p7y/1ku2aA9XhnlcDGZCekruI2hF2g0rboSSZM291JJi9/i4ibag1wiClT90uRNWAfI8sgZi2H7wE2iqbdBG3yVOo+lyMvaGYm33A+R14sbg2MjYjtXX4yZZR91lcGlgMWIl8bromIR4bjY1t57m1MbrK1YkQ8X5K8XYGfAzeQPf9nIf/e76ot4GGgdOiJ8ntZlKwBf4KcfXyw3ug6Q9LUpfxuL+AAsmT0S+Q+CK/WGlyPanSGKgOYK5NrvH5K7pcwDzkT8yXyQn216LJdr52Ad4nyRDqLXGD5d+B1svRkeTIhv5ZsX3RZDPOtpidXqQ9fiayf34Xclv7hWoMawiozNo03nA+StXUfJOvqnyR7MH8nIp4cjkliu5TXhR+TG3o8Rq5tmJZMbr4ZEffUGF4tKs+/HwMLRMQO5fYNyFGvGyJiX0lLA2cAvw33/x5UlYuiL5GLXecj19mMA64CDomIfw2H1wJJ+5ClY8uT6w9GkRu/XQLcHd78bVCUC/BvAt8gB9zGkM+/uclGFr+sMbw+OQHvIqW+81By9PAk8mpuWnLl+MbkLlrzACN9Rd0/SYuTG8CsCPwlIm6oOaSeJOleYJ2IeKx8PjX5HH0ysl2mDVAlydwKOAXYOSL+XmYc3g/sSU63rhXDdCMeSScBr0TEV8rnvwdmB74dEbeXaf8/AfdGxLdrDLWnVS7E5yLbvv6OXID4NFn2twf5e/nocJp5LF231gE+QnY+WYhcC7OYB4CmnKSdyVbNtzfeg8rtiwEfIksgAf4UEdd1PsJJcwLehcqb7heB/5Jb+L5Qkpt5yY1kRk30DoahSsKyHdkK7yFgLeAXEfGNkriMBG4O908fsNJe60VywcspETFPuf3tka2yCGnuiHi0vkh7g6SjyMfys023z06Oqp0ZEUfUElzNJH2EvDj5Ojnzcja5+O1vZTRWZEK4T0T8rbZAhwlJnwQOiogVyueNUfGlydndiyNirzpjrJNyf4R1IuLkumMZ6pRtbm8gu+08DtxNluaNBu6IiBfri651XoTZJSqtdCBX8r5Atiu6UdI+EXEu8Ej5sCaVRS1HkY/b6WS999Xl9vcAm5MzDH4MB+4Q8sIG4I7Se/V1cqqv8fzdhtwEaaXhMOXcbpJ+ClxPlvFcAnxM0rwR8UTj8YyIZyW9Qheu7O+gy8lZwkPIx+HXEXFO5fg6ZB34BR2PbJgoC15fI1tiPgfcJmm+iGhsijRVRIyRdCHZi73rtwcfiMrFxjzkReBc5AzA/WR3mEdLudiwKxkbJC+Qnc9WIjfZWo8cFHoJeEjSHWT7yzHAXd1aMeAR8C4iaZaIeKH8f3GyfuwHZG3tGq797lvlxW8N4LyImKe8EN4NLBPZG3wdcmp05Yh4qc54h7Iy6rg92W5sKnIK8F/krm43kD2AfwLcGhF7N6an64p3qCllaBcDiwMzkG/YywLHkn2WHyb7fq9FrurfMSJuriXYLiBpFvJN+FHgvkZiJ2kZsiXmCxGxa40h9jRJ/ySTzTfJ38GaZNnP0Y3Fl2X28VjgnIg4oRcvyivvQWeRf5tvkgOcr5HrNm4mNyL6g2vA20/SHGSzhbXJBesLkgswx5PPu8Pqi65/HgGvUaVsYgOyTmzasqBtGvKPdhnyD/lyYFisJJ9CC5NTzpCjEPdUasOWBN5y8j1lykzMuWU69cvk5gYfJ2cWpgbGkkniieVLemqka7BFthl8v6SZyXr6TcjH9CvkjqO3k72VFwb2GM7JN0AZsLiq8XkluZuPvCD8R12xDRN7kBeI7ydHuB8hOyFtKOkRcmZsOXJW9yTozZaZJfleDtgSWD8i/l0uDjcg90doNAA4rb4oe4ek7wK/jNxcb4aIeIac6bqgHF+MfP3cgrzw6UoeAa9RJQG/iHyjvZwsoXiRnM67A5gOmD4inu7FkYN2kjQ/cC458vUZsv3TQZIWIluT3R8Re9YZ41AnadrInr99HXs/+UZ8bXjXwbaSNC8T3sxXIUd5fh0Rw3p79Ym9JpY35lc6HdNwpWyXuSQ5cLQamXi/j+yLfX5EfK7G8AZFmbGKiHhG0seBnSJim37Ofbs0xwauJNenR8TakmYEfkaul7udrAO/d6iUODkB7wKSvkmu2l2VnF6+tHxcHhG31hnbUCNpV3K6cyZyt9DLyY4RDwB7R8Qd9UXXG8ob7fxkF45pyBGG//nisP2ULTTnby4/K6Ntb/lCx+pUFrqO6KvMrCzYXpLsAPJ4RJzea/Xfkq4ky0wuAG4l+9CfFBEX9nO+B9HaQNI8ZfR7BeBkslJAZAvce8ja7ztp6pDSbZyAd4HSv3JmMqlZlQlTVguTq3yvIOtCfx3eUXCSSv3njmRZz1xkd4SjYphsCDHYJB0E7AO8Sl7YPEEuNLqDsvC1Wxe9DBWlk8xHyYVGc5H19h8qbzpvrxUZ7pzQdAdJCwKHkxugjSG7oTxQb1SDT9JXyMGzdcje01ORo7E/I9fGPAw8F95+vu2aOm+tQP4OViNLoUaWj1O6tf4bnIB3pdJycDZgCXJBxxZk79Bl6oyrG2nCLqJbkhcxl0TEU5KmiYg3ms7xm/UAVRYZLUJO9X2NHPFZlez1+15y0eC0wCZeaDQwlefqzmTd97XkFP5aEbFS6TqzG/CP4T475r/nelVeE5Yh13yMJRdifglYAHgK+Cy5a+uY+iIdXI33GknvI/fr+BS5IPAt8rXyauCqiDizxjCHjTJruArZvOLKiLi05pD65QR8CChT/jNExLN1x9JtKm8CNwPnkTtevVA5Phe5WYcXX06ByuO8PbB7RGzSdHwkOfqwQkT8tJYge0AlAb+avJj8nqQTyXKTL5Ra8OPIN/QT6o22XuU5txlZtvcc+Wb7Rq1BDSOasAHPEcCyEfGRUgd9YESsVkpQfgY8EhHfqjfa9qq8Hn6YbIN5UUTs13TORuTz85PA8xGxag2h9qxS/rQQsC3ZDGA0cG5E3FhrYJNhqroDsEmLiFedfPetvAjOS059HtvH1Px6wLHKxv025Z4D7i0LXt8WES9HxJVOvqdMpcRsAXKjHcj+9Y1uHk+SC9se6nBoXUHSVOXf9wO/IVtenkkmfW9ImqEsjLPB16jlXp9cswTZFeUigIh4nrw4eh0m/O56zLfIzaAOhRwNLzPYRMRl5GLB95DtGa0NJI0o/228Lu5Jthz8JHC9pMskLVtXfJOjF/8gbJgoV8CQI68PkYswkDRV5cX+BWDTiHiu8xH2jspU/85kff3hkjaQtFCpV7Y2KS0IbyA34JmPLK26thxemtxUqmunVQdZ429+f7JD1JLA8WTpA2RJ1O/L6KMNspIM/YfcpRny4vC8cmwGMjm/rBzrmen2MvCzILACcEZj4Cci3mhakHq0pMPJRYLWHo339oPI18WNyfektcgZh9mA/SRNV0t0k8F9wLuM3rkjpk1EJSm8kxxl2Q44oWmV/ZZ497G2KLMIU5O131uRfVbvBG6R9F+yE8pN9UU4tEmaKSLGRcSLkk4DDiZbud0PvCBpK3JR5kUxRLZabrfKa+OmwAdLG9ePAAeU228F5gSmryO+4SQmbHp0NnCGsu/1SODBkph/D3gpIi4p5/dEAl5Ze7A5+bc5sfUuxwFf75WfvU5lwG1kpZxU5MZG95fPXwculXQwcAx5MdjV70dOwGtWqSWbNiJeb06+e61t02CIiP9Juoy86p0fuI7cBvjD5ALWH9QZ31DXeA6WWYRPldveQyZBm5Tb5iW3Td+2rjiHqsob+mmS/kG2MTtP2e/2K+SI92PkbM41wPdrC7YLlIXAjwCvSZqJ7BJzXZn1mhFYnuxAYW2mCXtXHERu+31SRFwoaU+yM9KLwKnk5jyPl9t69X1sVuB5YB7gsX5+xmXooZH/mn2AfI+/lhxUu4Uc8b686bwbyRa593Y0ugFwAl6zkny/D/iqpM3JJ9ZuEfFwOd5rL1qD5TvkC9325QNgdrI+7M91BdUjviTpOXKX0UeAJyLiHvK5+nMASeuQXVA8izOZymvANGTychjwKUnHRm7b/StypmEhclfBC6OfjZCGg3Kx8qCkUcDewCjggUbLO0mfBR6O3FHU2qzyfrQ4ObixsqTDI+LUshB+K7Kd7knAvyLi9qavG/Iqo9kXkRfDSwOPNf+MZZHwRym7M9oUW4B8bn2SbIE7EliuXIT/nUzIpyPf888cCmWn7oJSk8pIwopkEvM0+WbyPXI08Tly9OCiiBhVW6BDTOl6shY5PXWVF69OmVLHeQcTtpm/HbiZ7PV7P9nh4Jm64us1kj5GjnqvRi7C/GFEjK4c78WRxMlWLvgOIUe7HyQvstckR75+HhG/qTG8nlfKTbYGvkGO8p4G/DiG0UZnpTvZX8ldab9G7tfxHPBGeW8/nEzAPxJNG2nZwElaiux6sgqwIpmUv0Buvjc3+d707Yi4qrYgW+QEvCaVFk4nAPNGxCfLNN4nI2J95Rarh5FN/A+qN9ruJmlNYBEyMbzHCUr7la4THwI2Int+i1z4elv5uCsiLq4vwqGtmliX+tlPAfsC8wFnACcP1/r68nhM39xKVNJ65OKrlchuG68Ah0Y/uxBa+0mag1yY/Tmy/OdXZCI+LGbAJL0XOItcq3EDOYgW5OvkYsAeEXFybQH2kL4GH8rM4YrA2uQC7GXJ18zNYwjsEuwEvCaV2u+bgN9ExM8kXQ5cERHfK+f8DRgVEYfUGWs3K7WIO5JTT4uSbdquJ1uTjRpOIzKDoVKfXL1tBnIEYnNytmFFcmOY7fs631rXWAtS/j+SnAXbkXxenwacGH1s+93LJO1I9pM+nez+ciPwaOVxmgOYLSK6vuazV5WOIJ8hN+F5FTgB+GNEPFlrYB1Q1h7sBHyCHJWdnty5+pSIOL/O2HpVuSifOyIeb7p9NmD1iLiolsAmkxPwGpU/3GOA8RGxt6SnySu3G8sT6S7gExFxdY1hdp1K+c6a5JvywWT3gyuAHwM7kHV5kKumvS36FCrPVZElkM2jEPOTCdAdrv+efJIWAA4E7gbeIOtrZyY7zDwJbEiOMAIsExF31RBmbcqU8xfIi71VyefhaLK93UXAv4dCvWevkLQNufBwRrIMbRy5IHEEsDD5+rsi2f71kprC7LjKrPZ05MZZ3hSqjSrv+0sCu5KzhIuSr5PnAMdHxBN1xji5nIDXTNJmZB/bs8lte9clp7A+D3w8IoZEQ/lO0oTdAo8GFo+Ij0v6MrBrRKxR2pLtARwUETfUG21vqiTkb3nEe2Aqs2B7AUeTvYL/RiaXc5G1pc+QdfcjyRGfHeqJtjtImp1MxLckt5p+D7l49TqyBOCXzaNi1j6SVicf5+vJxGdVshPIg8AcZOu3F8mWcJtFxFM1hWo9pvJ6eS55oXcq+Rxcm5yBGAtsN5RmwtwFpWalhdMJwHfJN93fkk+ul4Gv1hlbF5sKGE+++TY2ediQHAEnIs6VtDNZD+YEfBC4zn7KVS5cTiVHE5cC/gf8JSL+2zhP0uzDdTFx6XAwY2NkqzwO/ygfSFqYrLf9ELk5z1/I9nc2OF4A/kQueL2MvBh6nUy+x0XEy+V3NpuTb2unknzPQ154LxsT+n+fJ+kk8jXhi5IOHCplet4Js0alsTwRcTyZLH6W7DhxCLBFRAzX3e76pdx2/hhJ05I9kRs74z1LToM2dhLciCHQB3QoUJpavbmVdO1KovJjcvR7NeAfko6XtFI5/qxyi2tN7H561H5kSzskvVfS2pJmq7x2PhQRv4+IHclys9vqDLbXRcQY8n3qa+Rs7UVkedC4iHi5nDOu0UbXrB0qr31rkrvePl9uH1FKU+4mm1ZsOlSSb3AJSq3KSMHqwN1+wZq4yvTTN8mV5YuV29chp+7nI8t4LgRmAWaJiOXrireXlQUwItcu+AVkCjXXzUvamlzQNp7sb/uHGKa9vyXNB8wREbdLOoZM/B4gZ7YuJLeifrCR/FnnlPevHcvH9OR6prMj4rU647LeVbrOnE12hTqi6dgR5ALMjWoJbgCcgHdYpX55PeDb5IjXnOQV3VVkX9F/DrXFBIOt8rhdClwTEd8ttx8GzBcRu0rajlyY8TzZC9i74U0h5a6DNwC/AC6OiGv6OGcErgWfLM3dYkqiOSIiHimfr0i2d9uQnN05ari31yvPs2XJKeityA2KRpKzhqOB/aNsyGPtV2YdR0TEK+XzxqDIzOSiuN3JlqS/9uytDYYyC3sQWZ57MXkB/hCwDtlz/QcRcWp9EU4eJ+AdVkkkzycXW/4GeIqcWtmYXHg1D3B0RHyztkC7lKSXgdWi7LAm6Q7guIj4eZmmmma4jha2U+XNdSFyFHaFcuhNsg3cn4Fzy9SfTabKiv4ryL7q/yMf20XINm7/I/tar0nugnlyROxaV7zdqCSEHyC3o96GnH5+pN6oek/lufolcvfL2cha8CfJMtaR5EZyywLrAxdExBZuSWqDpTRd2IocvJyDXEPzLeDPQ+n93wl4TSSNBnaJiBvL540XsrnJJPzuqOyAZyBpebLd4PrkNsevS3oWWC4iHivnCJjKrfCmTOVC8SBgCeC/5IrzhYBtyRp7yNGHY8juEy4DmAxlRHev8ulCwFtk15PpyudvAo8A05JbK9/c+Si7RxlpXQB4P9l142Y/5zpH0p+BGcjn5Kxk2d9LZDI+C9k6c3rgZxFxkrxrq02ByoXfumTDkBsasy/l+Exk153xjTxqqHECXhNJu5LJ9lF+kWqNpE+QG3LcQ275Ow3ZBmtj4DaPtrSfpGeAj0XEleXzqcnn7U/IbhMvA7sAX4+IM+uKc6jqoxTlHUmLpGmGcz/hypvw5sChZH//e8jZgYeA/4uIUXXGOBxImhv4ckR8X9KMUdmVVNLMEfFi+f/U5ADIkBmFtO5UGQR6khzpfoEcBPon8LfogZ2BnYB3UGVaf2pyY40DgB+RU/lunTUJZcRwYXIEbFNyynNeMhl/kqwDHQ1cGBFP1xRmz5C0DHA1sF407SgqaW3gB8B2ZB/7acgZnZfedUc2Uc2zNp7FeTdJT5DrY35Njr6+j3zuLUVeIF5XX3S9T9KHgD8Aq0TEfY2OSB48ssFUnmdnAcuQpZCvk6Uny5MJ+bXkoszLIuJ/dcU5UE7AO6hyRfczcnHVW+ROTtOSU/znk72sr/BK8kmTND25a+A6wAbA/OQb8udiGO3ANljKqNfZ5Ive58ntv18tx74CfDMilpD0SeDQiFiqvmitV0laFTgXWLox0lpun4pciDUG+KqTwcFTBj+uAG6JiK9Wb69cOH4BWCoivlVTmNaDJM1Jzn5tTbYkPZXMmTYgZ7/XINfNDbldr52Ad1h503iJXDF+ebl5ZXJl//rASsAGEXFVHfENVWXUcGZyZOzmaq2YDZyk9YEjyNGG68gOM6uTsxCnlynpI4HlI2KL+iK1XiJpC7K86SZyw619yJ1t762W6Ujal5x5eV990Q4PpQzoT8Da8c6Noj5A7l2xHrBPRPzC9d/WbpK2Ar5IDlYeFhEvlGqCeclOaEOuFM0JeIeVhYS/ADZqru2UNAOwkDtLWLcoF4ybkL1+VyYXBr5ITgv+nNwG+KfAERFxWk1h9gwnLknStWQHmMfJkdf1yNHug8iZmDclzUWWPz0ZEV+rLdhhRNJ5wMsRsZ2k2cnE+3PAv4G9yRFyJxXWFk0zLFORs93fBxYkL/bOrTO+KeUEvEMq5SfvJXd3uzkijqs7LrNWlVmGRYGHKi+KS5DJ0Z9d/z1wkmbwrM0E5bn2HnJmcAtyZmtxsvvJlWQnjk3JutATI+LBmkLtWZU1S0uRG5uNKms/fgqcCexGrv34fkT8ps5YrXdJmiUiXij/X5x8zv2AfG1YYyjWfjc4Ae8wSTcDK5Kba/ycrPseAzzjkS+rW6XrxCLkdN+mZNeJK8iSqXu8OLB9yijuV8n1C4sC+0XELZKmjiG0pfJgK7ODKwBbApuTC7BnAW6MiDXqjK1XVV4Lfk2+Z40mNz3ak1wMfxhZCjCuxjCtx1SedxsAHyHrvT9IJt4PkAsy3wRGAZ8ayl2inIB3mHLHu1WAj5PJzcJkB49rysdPvQDT6lIZ9bocmIvcBXMhsu57FrIN1G3AdyPinjJSiaedJ19Z5PpLMpm8mtz5cuWIuFPSNsAY7wWQmi9IJM1GbsKztGcSB5ekj5GL3ZYhXwMWJkuD/kUmQXeR+1Y8VleM1jsqCfhFZPnj5cBRZOnjc+RF4HTA9BHx9FDe8MkJeM3K9N4m5JXeshGxRM0h2TAnaR7gXmA1MgkMSSPJGvBNgR2ArSNizFB+8atLpRztq8BuEbGKpHWA04AlyRGfg8g3mL3rjLVupc744+RzcT7gFuC8objgaiiSNF11QEjSipRGAeQOrrOQi2WfBrZzGZW1i6RvAh8i9/oYAVxaPi6PiFvrjK1dnIB3WNm9qdE2Z1R1waWnna0blP7f3we+EBHPVxfC2JSrJOB/Bf4bEQdK+i0wTUTsXM45HpgphvH285JmIWcIPgJcRSZ5i5O74n0rIq6oMbyeVhmFPBhYi2w5elvTOdOTF+UbAXNHxDd8QW7tImlasrPZ/GQSvhm5CHNhcsfgK8iF2b8equ9PU9cdwHBSppWPA14DxgHTSroV2D8i/ufk2+pUuQBcGBhJtso80hvEtFfl8bufrPuGXMj6g8ppGwNHdzCsrlG54PskWa63WinLmZucIfgmcLak1YfyAqxuVlmPNJqc8fqLpDOBkxqDRqXn8vXlo/F1Tr6tLSJ3U326fIyWdBowG7AEeVG4BbBXRPyitiCnkEfAB1mlpnYJchTnJHJTiVnI2s9PAwF83DV01g0k3UgmPq8CF5Cb8VwcEY/WGlgPqO4gKGllclOJn5K91uchXwu+BOxFJp5P1RNpfSozBGeSLQe/3nR8FvI19OyIOKaOGIeTMiO2G/AZsgb3GOAPEfFcOT5teOt567AyAzNDRDxbdywDNVXdAQwDjcd4G+CBiPhORNwQEReVxUNfILdW9iYm1i0+TPb3PhCYHvgJ8JCkuySdVKYGbQAi4q3K6OLtwOnkyPf0ZC/ly8kuE4cNx+Qb3jVDsKKkBZuOv0C+Znqx+iArF0N3RsS+ZF/2y8n1CX+StF2pEXfybR0XEa8O5eQbPAI+6Coj4EeT3SS2L59Xd3P7I/BiRHyh1mDNmkiaDpib7IDwIWDJiPi4az0nn6SdgUeB26uzXZIWIx/bpctNf4qI6zofYXeovGauAPwFuBD4DdmCbGayDeEPgfdHxCP1RTo8SJoGGFFKTho7Eu5N9mm/lNyE684aQzQbkpyAd4hyS+9zgIOB3wLjypvMnMC1wA8i4tQaQ7RhrDLt/z1y2/mLgPuiaXMdTzcPTGmbdwO5eOhx4G6ypeNo4I6IeLG+6LqTpBFk/fH/kdtN30e2IpsPODoijqoxvJ5VuQBq1Nb+j7wIXwJ4HrgJmJ0slVoA+FFEfNcX5TZYerURgBPwDii1StOTowZfA24GLiuHdyZ3dduqOdkx67RSd/tBcqTxfnLXwX8CNwKPuEf9wJTa73XJFm5rksnM9MBLwENkb9s7yE257mqMNg4XlaRvRXKn1Webjq9OLkydCvhrRNxRR5zDRSn7eah8ehVZejIOWI5cCHcfuX/FosCPI+JuJ+DWLpXXgz4HfKoVBEOZE/BB1OgqIWkvQMDxwPrkYpb1ydGE84CTI+Ke2gI1qyhlJyuQbZ8+TLbNfA54GFg9hvDOY91C0hzk5kZrk63cFiQXYI4HzomIw+qLrh5lt8v7ydr4+4H/kHXxN7u/dOdUkp/NmbA26dKI+FvlnBFkRyS/FtigkPQ+cpfgzcndmHeLiIfrjaq9nIAPokov1f+Q7ZuOazo+DfBmebHz6IHVrq+RBUnfIBcL/zIijumV0YdOkvRd8vEbK2mG5oSy1IGvQSY8F0TEH2sIs1ZllPsGcrOdm8me3zMCT5G7Lf4HuMGj351T6vB3IkuBxgInkBshPVVmdUY4Cbd2qeRMKwI/J1sQjgK+R5ahPQfsA1wUPbAZlxPwDpC0L/BKRJxQPn97+24n3taNynN0RJnBmQX4Mbnhwb9qDm3IKcn16RGxtqQZgZ8B/yVHeu8E7vUFzds7sH4D+DxwDXAm0Ni4bFEyGR8JXBgR36wrzuFI0lzAHmQJ1Wjg1IgYU29U1msqVQMnAPNGxCcl7Ql8MiLWL6+fhwHPRcRB9UY75bwRzyCpXMmtTo4eLCLpPuDK6oIrJ9/WDco6hTPJhcIXRcQDQGNjqLfIkdnfl3N90TgZIuJ+SR8rny5BlvcsS5alPQncI2kMmYy/o0PKcBIRY4H9JP2FXCuzHrkR1C8kLQ0sT+6Ed0ONYfY8SdNExBuS5iMXWz4TEU9I+jmwLblB0qeUO7ke4BFwa6PGQsu1yc5HkC2cLwOIiJfKgMaQH/0Gj4APulJHdyhZ4zkncCvZVuticgTsCY9+Wd0kLQL8AViM3Pr3QeAScqR2E2CFiFiktgB7QPXCpUztrwOsBryXHNkdCZwyHOu/4e2SvCgjYKuSfejnBY6NiD9VzvMF4CCo1H7vTc54NRZazkW+dz1I1ubPR65fICK8l4i1VSltOgYYHxF7S3oa2DwibizdpO4CPhERV9cYZls4Ae8QSbMDHwC2AjYlp1SnI6dWzqozNjN4+4VvHnJ0dgNgQ7I39U1kq7FrXf/dfpJGkjuPfpCcIbu05pC6hqQfkSOu/yC3oB/v5HtwVBLwT5LdZmYFFiZr8F8mL4bmJJPy54DHIuLsXm0RZ/WRtBnZtOJs4LNkB6kgy9M+HhHL1hhe2zgBr0lp8/Qh4PzwFt9Ws/J8fD0inuzj2NQR8WYfX2aTodTVL0RO469L1tKeGxE31hpYjSpJ35pksvcGOTOwAjniOj85aHF+RGzlC8DBVbqb/Itc7/GLSZ1vNlhK7fd3yRmYq8jXh5eBr/XKIIUT8EFQeVOZgexduzT5xHkYuBd4NCKeqzFEs7eVBVa/JN90/1luW44sR7k+Ip6pMbwhr7LJ0YeAI8nFhDeRPZXfS765fGU4d/eQ9D+y68n9ZCnUk2Qv+lvJHTCfj4j7XH4yuMpakM8AO5Kj3IdHxPXl2HRk1y6PdtugaSrVmxPYkrwov45sh/nQxL5+KHECPggqK3m/A+xKblzwBvAquRX1zWRfywsjYnRdcdrwVkkMdyf7rW5a2uR9ktx98E3gkoj4cq2BDnGVRW3XAreRq/gfBWYAViXrbW8Fdo9huNGRpIXIUdcHyV1CXwDOJXuAP+zZl86TtBJZ8rMUcBrwc/8erBMkzUSuMbi71/p+N3MCPogkPQfsV1bxjyBrajcnd8Jbm6z/Pru+CG04qyTg/wBGRW4nvQGwH7kAaxTwdWDfiLigzliHolJyMjLKDreSrgP2j4jLm87bmlx0tE1E3NTpOOsmaVryNXF5YEVgEbLeOIAnyN1BRwHXRsR9dcU5HDSX+EjaGdiL7IR0FPD3iBhX3s/e8myEtUPlvWg94Nvk4vQ5yc0KrwL+CvwzIp6oL8r2cwLeRqXkZGREPC1pAeAvwEdLe63mc+chp1WH3YiXdRdJlwLXlAT8DHLq+YDyPL4R+L+IONP1t5On1DXvB1xLznhtRrZ0O6DpvMa233O4NA0kLQy8j+w5vSywANm+8dSIOLjG0IYNVbYAL/sAfINsInAFufW8Ww9a21QS8PPJC+/fkIt/1yTLeFcmGwQc3Ut7ADgBbyNJh5Bbd58FXA98hNxk4/haAzObCEmfBg4n31w/Tr7ojSZHIe8FloiIx+uLcGiS9AlyNGcqsvxsJFn3/Wvg7+SOj9MBewILR8T2NYXatcpI65Jk8ndzRNxWc0g9p7JmaWFye/kH+jhnevK1YR9yIfH/Ab+NiOc7G631MkmjgV0aC9NLZ66RwNxkEn53L5XtOgFvI0kfBr5CTp/MQb7xvkj2Ab+SXEz0TES8WluQZk0kzUpOMy8HnBYRfysLM78GbBkRq3nx28BJWorserIKWWIxP1nnPBP5xjIG+HZEXFVbkDZsVRLww4AvkmuURgGNmbEXms7fHViLHAnvmWTI6idpV/I18ajhMNvqBHyQSFqSnDrZltzRbRryjfYKsgPCn6KyI6ZZNykboXwNuCIifutev5Ovr5KdstnMiuQakFXJEov5yI0m7ux8lGZJ0ibkKONSTHheBjkLdg25G+G/SoOBNYB73CHJplTlAnBq4HPAAcCPyBatPT3z6gS8jcoT6D3kyv1xTcdWBz4BfJR8cZsxIl7pfJRmE0iamZxang64rnlEy4l3e5RSirmb31DKzm6rR8RFtQRm1kTSHORGcUuSbTLfR76vzUqWA6zea4vhrD6V+u+fkY0q3iKff9OSOzGfTw5cXtFra+acgLdB5Qpuc+AQ4LKI2F+VrZWbzvfGJlabxsispOWBE8mSiGfIjQ5eBG4ALgAuiIhH6ot0aKs8zkuS7Ug/Rb6x3AmcAxzvRMbqVHnvWp8smzyvj/erBcjn7XuBRSLiBy5Js3Yqtd4vAbsDl5ebVyZ3B16fXJC9Qa+V6TkBb4PKi9iVZOeT31br5irHtwb+ExEP+gXM6lIZcTiBnG7+Afnitxj5QrcqWSJxU0Rs6ufqwFT+7s8lL25OJZPvtYGdgLHAdhFxb41hmiHpJ2TL0eeAu4B/ksn4jU3nuROStV0ZDPoFsFFzh53SXW6hiLi7luAGkRPwNimtxEYDy0XEY/2c8w+y/vsgv4hZ3SSdBlwUEb+r3DYtORK2JNkmc7TLUAautBt9AFg2Iu6v3L4U8A/ygv1Az4hZncpmSIuRC7HXJjdCWRR4GjgPOKKv7ihmU6IyGPResmXrzRFxXN1xdYoT8ClUGeX6HNlObLX+khVJHwG+HhEf7GiQZn2Q9AFyt7vPeD1Ce1VeFz4K/IR8XXi21IJHKU35HLBHRKxSb7RmqWweNTPZc3kJsoHAZsDtwJfdwcsGg6SbycXpzwI/J+u+x5Bd43p2sHKqugPoIbOSuzbNA2/XNDVbhlxVblaL8gaLpBnJ5+qqwO8lfbgsIrY2qJTs3En2AP9CuX185Q1lGfI1w6w2SlM3Lhoj4oWIuCciLgS+BxwBbELuD2A2GD5E7qHyF7I870qyouBMSd+QNF2dwQ0Wj4C3Salhug74SDRtNV2Oj2TCwrYfdjg8M2DCAmBJRwI7kwni9OQ24DMAt5Irzn/aizV3nVYuxA8CvgpcTO6K+RCwDtkR6QcRcWp9EZpNUC7QG4NHb281r9whd0xEHOQ1ITbYSoneJuRmhstGxBI1hzQoPOLVPveQvVL/KOlrZBLzHPBGGfE6CJgT+ENtEZpBozzqM+SiqwuBEeR238szYYHg7cDdXnQ1Zcpjd7CkJ4CtgB3JGvsZgW8Bf64xPBvmSknU1uTf+72R28+PrxxvdOxaDj9XbZBImglYg5yVHVUGf+4GftHLM7MeAW+jspDgLPLF6gZyN7EANiIXuOwRESfXFqAZb8/GnESOvjb3/Z6BvFAcW96MrUWVtoPrkoMbN1Rr68ubzPuA8c3dJczqIGlN4E9kv+WHgDvIqf8xEfFgOWdb4Bhgmeb9LcymlKRtgOOA14BxZP/vW4H9I+J/dcY22JyAt1mZct6J3HRnFXJ6/2LglIg4v87YbHirrDhfmdx6fmpyAaZHuNug8vg+SV7EvECW+PwT+FtE3FRrgGZNyqY7HyXbj65Izs68ATwBvEK2z5yDfP/6oWfErB0qi9SXAK4iB4TOBWYhNyr8NDl4+fH+usr1Aifgg6RSazsdWUv3xiS/yKwDJB1NJuBvAf8G/gr8IyJuqzGsnlAuwM8iF1j+HXidLD1ZnkzIrwXOJjfr6unRHRtaSv33CuT6hJXIxHsscGVE/Klxjuu/bUpVBiv2JZPstZuOrwicARwZEb+tJcgOcAJuNsxImpUsiVoe2JxsNbYo8DhZd/cZ9/wdOElzAoeStbUnkRvwTAtsAGzMhFrHkW7rZnUqSbfg7fUK1WPTRY9t/W3doTICfjSwELB9+fztGRZJfwRejIgv1BrsIHICbjaMlRHb2ciNd9YBtgQ+GRFujzeFJG0FfJGsrz0sIl4oC4rmBeaLiFG1BmjWpNIF5S2PdNtgk7Q+cA5wMPBbYFxJxOckZwt7ukuUE3CzYUbS7GR93etky+rqQsFG1wMbgOquoeXiZh3g+8CCwD4RcW6d8ZmZdQNJ05Nr5PYGvgbcDFxWDu8MPAJsFREv1RJgBzgBNxsGKh061gf2BT5IlpzcDFxPLoR5AHjUI19TRtIsEfFC+f/iwDTAD8jHfA3XfpvZcFVZH7cXWf50PLA+2Rp3fXJzsvOAkyPintoC7QAn4GbDROn5ewtwGzkqezNwI7nqfFpyVHzNiPhvXTEORZWLmw3IjSOmJZPtaciLmmWAN8m2pJ/ygmyrk6RFgaXLTpdmHVV5vfwPcFJEHNd0fBrgzVKK0tOLfnu2wbmZpcrClk3JhX87lJ71L5C7ja0FnAicTG7IYQPzHfLxvBz4JvAiuRnXHcB0wPQR8Uavv6lY19uOfJ5eKGlzcmHwX4ExwLN+btpgqiz2PZ3sxAW8vf6Axmtk+X9PPxedgJsNHxuSbQcBtgBuK104Lisrzh/q9Re8wVB5Q7mAnFJdFfgjcGn5UETcCrxUzvdjbLWJiCMlnVA+nR/YnWxL+ixwraQLgKuBByPixXqitF5UGf1eHdgBWETSfWSry7efa8PlNdIJuFmPqySIj5Gba0C2wXte0siIeJns+9to//T2QkKbLMeRbQfnJ5PwzYBvAD+R9AxwBbkp16/9+FqdKguv/00uEF6QHBXfEvgRMCPwhqRNI+KGeqK0XlN5L5qDLHl8k5x9uVXSheTr4+3AE8NhwyfXgJsNE5LmJ2s/L5e0Ntn+6cfADOQq9E0i4ibvdtcepeXgbMASZJnPFsBiEbFMnXHZ8FYZhVwe+A3wkYh4snJ8OnJXzI8AR0fEc/VEar2udOT6ALlZ2abkfhTTka1wz6oztk5wAm7Ww8rCS5pHXCWNBA4EPguMAA6JiF90PsLho7TdmiEinq07Fhu+KpugfBHYLiI2qWzIE8Nl+t+6j6QFgQ8B50fEo3XHM9icgJv1MElbAgsD5/b3glYSw9f8xmvW+yoJ+AbAruQmUWPqjst6W+V5NwO58Hdp4GXgYeBesgXuczWG2HGuATfrbQcD/yAXWAEg6ZPATsCDZD3yrfWEZmadVrnQ/jnZInMWST8la2+fLQuzzdptBFnzvQ954Tcb8AbwKvAocLOke4ALI2J0XUF2kkfAzXqUpDWBM4G1I+KhUo7yceBPwGjyBXB8Of5YbYH2IC9ktW5WZr2+DaxCLhaeBvgvcCXZAeX2iLitvgitV0l6DtgvIn5R3pM2BDYH1gTWJuu/z64vws5xAm7WoyQdDiwXER8tn68BHEZuDvMlYAPgV8D/uf57ylSmV6eNiNf7OO6Frda1JK0LbEMm48uSbeE2dM96m1Kl5GRkRDwtaQHgL8BHI2JsH+fOAzwfEa91Os46TFV3AGY2aOYF7pU0bfl8J+B14LiIeD0iLiJHuxaHTBLrCXPoK8n3+4BjJP1P0gWSFqocd/JtXad0PCEiro6IvSPifcBMwBcbp9QWnPWK/chNnw4gS56uA7bv68SIGDtckm9wDbhZL7sEOAg4XdJMwFeAL5DlJw2rAn+vIbaeUGnptiJZU/s08Hvge8BrZVvlfYCLImJUjaGavU3SEsAuwFSSngbuB+4CHo6I54ExZfTbF442pf4NrE5u9jQHOfD7YunEdSU5I/vMcFx74BIUsx4laV5yk4MPkIswL46I7SvHVwEuAhaPiBdqCXKIkzR1RLxZdhacNyI+KWlPso5xfUkzkmU/z0XEQfVGa8NZ5WJxTeBwYO5yaBHy9eEJ4EZyh9yf1RSm9TBJS5IdULYF1iPXHowhNym7CfjTcNp91VPOZj0qIp6IiLWANchtf3drHJP0XnKXxksj4gWXnwxYY6Hl2sBl5f/bNP4fES8Bi1XOM6tL42/8q+SI4/uAE8kRyj3IDbl2ITfhcUmatYWkqSUtI2mmiPhfRPw6IjaPiJHk6+a55ELMX5NdUoYNl6CY9biIuLGPmxck2z958eUUKLXfU5G19EuVm1cAvgkgaTZydf8RtQRoNkHjInAdMuEG2BE4OSL+JmlW8rl6eDnm6XEbsMoC3k2AQ8hBif1LWV5ExJsR8W/yAnD/xmxijSF3nK9wzYahiLgsIj4fEVeXz13rOUDlsTsP2LJ0nnkdeLbU2X4LeLrxOJvVpVwszkmuU3ixtIAbyYQ1IX8BtgDeapxfS6DWaw4E/kiW4hERb5SyPQFI2lrSItXbhguPgJuZTaGIuLDUgX8XmAv4LbkD6cvklL9ZLSQtB7wQEQ8DrwHHkrNfM5AL4LaTdDe5R8BMEfFIbcFazygXfAuSM4LbN68zqlzgfRG4SdJBw20gyCPgZmZToDFqExHHkz2UPwvcQU67bhERl9YYntkplLpu4LWIOBUYExHjgLOA7cjF2F8jO/m4/tumSGUke3Oyw867en5X/BxYc7gl3+ARcDOzKTWjpNWBu8so4ynlw6xWZcfLFcgWgwAvSVoxIu4sJSgnAv8j63QvI9vCuSTN2mVW4HlgHuCxfjYkW4Zhut7AbQjNzCZTY6t5SeuRW3qvBsxJvtlcRbZ//GdEPFFflDbclZ0H/wQ8Snab+HlEzFRvVDZcSFqe3HjnIxFxeR/HRwIXABdExA87HF7tPM1kZjZwB5Cvo18hRxGPIGtr/48c8TmqxthsmIuIR4EfkF2PfgdMJ+kKSftKWmqiX2w25e4BrgH+KGk7SfNKmq5S4nQQOXDxh9oirJFHwM3MBkjSaGCXRqvH8sYyktzkZGWyLGV0//dg1hmS/gvcRi7E3JBcJPwcuWPuxWTZ1CvufmLtVPacOAtYDrgBGEWWnGxE7pGwR0ScXFuANXICbmY2QJJ2JZPto1w3a91M0leAPwOvkDW5i5KbdK0LbAlsEhGX9X8PZgNTBiZ2Aj4BrAJMT7noi4jz64ytTk7AzcwmQ2ODCUlTA58jy1B+BJwbEY/XG53ZO1U2ROnr2HTAzMA8EXF7ZyOz4aax2U553r0VEW/UHVOdnICbmU2GygLMn5FT+W+Ro4nTAv8FzgeuAK6IiNdqC9SGvaaLxZXIaX+RO7f+KyLGT/QOzGzQOAE3M5tMZUr1JWB34PJy88rAB4H1yWRng4i4qo74zOAdCfi3gG+Q236vS140Pk8ukLsD+E1ETKxXs5m1mRNwM7PJVNpr/QLYqHkaVdIMwEIRcXctwZlVSJqDTLK/BFwL3E1uC74aufvlo2T995jagjQbhrwRj5lZixrlJ8Dr5OYmXwaOq54TEa+QSY5ZbSqbnmwBPBkRZ5cNo56PiMMkzVVOvcjJt1nnOQE3M2tRpWb2T+T23s9Kmoes+x4DPONuKNZllidbv0FuDX6rpGkj4ilJdwHvgYkv1jSz9vNGPGZmk+9DwIeBv5Dtta4ERgNnSvpGWeVvVpvKheB15KZQI4Gx5PbgC5VjmwHu3GNWA9eAm5lNobKr4CbAR4BlI2KJmkMyexdJS5CzNc+RvcBfJ+u/H64zLrPhyAm4mdlkkjQTuYnJPMCo6oLLRq/b2oKzYavS9WQk8EZEvFGpBW+c835gR3JDnnMiYlR/92dmg8cJuJnZZJC0Dbnw8jVgHNn/+1Zg/4j4X52x2fDWSLYl/QhYEPhuRDxUOf5e4KWIeKSSrLv226wGTsDNzCahkqwsAVwFnAScC8wCLAt8Ggjg4xHxWH2R2nAnaRrgTuCHwO/LplHTAL8H1gZeBn4NHOMFw2b18SJMM7NJa7xWbgM8EBHfiYgbIuKiiDgO+AK5uG2L2iK0YU2Syn83J5+vp5fkeybgYOCjwClkcn4EuSGPmdXECbiZ2aQ1RgrnBx5uJDtlR0wi4lbgFmCtesIzo5GAbwpcGRGvlc83AjYEDoyI75D13xeSibqZ1cQJuJnZJFRqZP9KJjhfkzQzWXaCpDmB9wNX1BKgDXuVcpJXgGobzD2Ah8iWmY2NosYBI2DCRaSZdZY34jEza4Gk6cnFlseRU/ofAy4rg+E7A48AZ9cUnlnDX4BrJZ1KthvcCFg3Ih6Et5/Ha5F14FAuIs2ss5yAm5lNRKWt4JfIaf4fkCPdnwF2AZ4H/gicHBEv1RWnGUBE/EvSzsBuwBLAPhHxLwBJI8he9W8BF5fznYCb1cBdUMzMJqLS2u0/wEll0WX1+DTAm27pZt2iJNoLAE+VkpPG7SsD3wf+GxH7N/cIN7PO8Qi4mdlEVBKU05mwGPPtrhNls5PG/518W+0iYjxZ991MZDvCaxundiwoM3sHj4CbmfWjMvq9OvBLYBHgs2SXiRfrjc7MzIYqj4CbmfWjMvo9Bzla+CbZCeVWSReSdbS3A094Kt/MzFrlEXAzsxZJmh34ALAV2Y5wUbLl2ycj4qw6YzNrcG23WfdzAm5mNkCSFgQ+BJwfEY/WHY9ZVaWDj5l1GSfgZmZ9aHQ0kTQDsDGwNPAy8DBwL/BoRDxXY4hm7yJpMeAbwAzAzcCJEfFqnTGZ2bs5ATcz60Nj9FDSd4BdgdmAN4BXgUfJ5OYe4MKIGF1XnGaSRkTEeElbAgcCz5A7sz4REatKmgtYDrihskW9mdXIW9CamfWhMnX/TeDIiJgTWJDc4ORqYHngCGCpeiI0e5d9gH9FxEfIHTFHldsXJvt/f6SuwMzsndwFxcysopScjIyIpyUtANxJJjON/sqXlA8kzUPuhGlWm/K8hBz13qf8f1vgy+X/twOzAi/ChPKqjgZpZu/gEXAzs3faD7hQ0gHAMsB1wPZ9nRgRYz2lb91A0vzAaGB2SSOBkcB1ZZOo+cnn8jXgDaPMuoFHwM3M3unfwOrAXmT/76mAF0tScyXwAPCMF7ZZtygj2o9JupEsi/oX8EBEjJU0M/Bt4OaIGOcWhWbdwYswzcz6IWlJsgPKtsB6wDTAGOAK4CbgT94R07qFpFmBw4CPkqVRdwGrkYuFD4uIC52Am3UHJ+BmZhWSpgbeAzwcEeOajq0OfOL/27v3YLvK8o7j319CSkaiyFWcgFJrgVBpFYrgoCZBCw5FbWlHrdjBUh10sFfHqTpiidBC2+m0yjgttVMqpgZvraMdGWiGGFqiiClCoSA2bRQwgCXEIJeCJ0//eNdpVja5QOrsvVf4fmb27Ky11z7nyfkj57ffPOt5aQFnEbBPVT0y/ir1dJdkAfACYF1VPdQ7fxhwKu0D4xzgW8AVVXXHRAqVtF0GcElim7nfpwLLgFVV9b4k82htsz8cud5NTjQxSc4CLqPdYLkGuApYW1Xre9fMt1VKmk4GcElimwB+LW3qyd9U1ebtvP564Maq+o7TJDQp3QfDE4ClwGnAi7uXbgWuAa6mzar/flU9PoESJe2EAVySOt3W8rcAR1fVhh1c8yVa//cH7aXVtEiyH3AicDrwKlob1f3AncDbq+rGCZYnaYRjCCU97XWj2qD1zq4H7tvJ5X8BnGj41qQkeV6SJf1zVfVAVV1ZVedW1VHAj9M2kboH2DT2IiXtlGMIJWmrfWnTIw4GNuxgYsRRgP91qEl6C+0myy8n+TngJOCLwDpay0lV1Z3AJ7qHpCnjCrikp71eH/c/AccBR3bntwnf3Szw19HGEEoTUVV/SBuNCXA0bfOoNcC/ASuSnJ3kyG5SiqQpZA+4JHWSzAc+T7uh7TdpQXsT8HhVbUlyMS2Av7aq1k2oTGkb3ejMI2ktVKfRNpKaBzwCnFJVaydYnqTtMIBLUk+SI4DP0VYWrwfW0lpOlgKHA++qqo9PrEBpF7oPksfRPixeVFWbJluRpFEGcEkakWQOrc/2DOBYYD6wEvhEVV05ydqkviTH0j4sHg3cS2tF+deqmploYZJ2ygAuSTswu9lOkr2BLc5T1jRIMreqZpL8DvDbwALgNmALbbjCJVW1YoIlStoFA7gkSQOU5GHgfVX14SQHAccAvwS8E3hzVV0x0QIl7ZABXJKkgUlyArAc+KmqemzktY8CPwGc5rx6aTo5hlCSpAFI8v4kF3bhezNtSs8rutfSu/QO4NBuco+/56Up5EY8kiQNwyHAG2hzvzcAC4GfTvJe4KYkj9HaUBYDn5lYlZJ2yRYUSZIGolvp/kngZOBE4BTgOcC3gbtpM+wvAP6yqjZPqExJu2AAlyRpoJLMpW288xrg5cDPAjNVdcBEC5O0UwZwSZIGKMlzgUer6oHeuQOB51fV2iRzvAlTmk4GcEmSBiTJIuADwKHAvsB3gS8Cl1fVQ5OsTdKT402YkiRNuSSpqupWvf+WNsXsKuBhYBFwLvDMJH9SrqxJU88ALknS9JsDzABvBOYBi6vqwW7M4LOBc2ir4v8MfGVSRUp6cpwPKknS9Jtd1X4pcF1VPQhQVVuqamNVXQT8C3A6PGEuuKQpYwCXJGnK9W6m/Brw2iQnwROC9uHAt8ZcmqTd4E2YkiRNuSRzq2omyX7AFcAC4HLgBuBA4E3AK4Hj+1NRJE0nA7gkSQOS5CXA+4FTgWcAd9I24fnjqvrC7A2bk6xR0s4ZwCVJmkK9ySdvoQXsm6pq48g1R9O2qL/RlW9pOAzgkiRNqSTPBjYCNwP30mZ+fwO4nhbIH5lYcZJ2mwFckqQpleQYYDXwA9rc74OAhUCA7wF3AGuB66vqm5OqU9JTYwCXJGlKJZkPnAK8G9gMfIQWvF8OHEcL44cBq6vqHfZ/S8NgAJckacolWUjbaGcx8GfAZcAW4IXA8cD6qrrOAC4NgwFckqQplWQv2u/qx5PMBc4CXkdrOblostVJ2l1uxCNJ0pSqqh924Xv/qpqhzQD/D2BZkmvT+LtcGpi9Jl2AJEnaKsmcqtqS5ExgCfDfwGFJXg2sB+6i9YHf1o0pdNt5aWBsQZEkaQol2Uzb8fJ2YDnwj8A+wH1VtS7J/Kp61L5vaXhcAZckacokeS5wE/Bo91hM23BnDfBQkr2r6lEAw7c0PK6AS5I0hZIcACyijRs8CngBsD9QtE15/gtYWVVfmFiRknaLAVySpAFIcijwIuBngCOAY4HPVtUf2IYiDYsBXJKkgelGEh4FbKyqDZOuR9JTYwCXJEmSxsjZoZIkSdIYGcAlSZKkMTKAS5IkSWNkAJekgUhyfpJK4h4OkjRgBnBJkiRpjAzgkrSHS7L3pGvYXWl+bNJ1SNKPkgFckoZnUZJVSR5OsiHJh5LMAUiypGtTOSPJx5J8j7ZrIknmJbkwyfokj3XPFyaZN/uFk9yS5K97x/smmUlyV7+AJNcl+XTv+LeS3JbkkSQPJPl6kl8cec8ZSb7a1b0pyWeSPG/kmvVJlic5O8ntwGPAz/8If3aSNHEGcEkans8DK4FfAD4JnAd8cOSaS4AAvwq8tTv3ceC9wOXA6cBlwO9152ddA5zcO14C/A+wMMkRAEn2AY4HVnXHZwJ/CqwATgPOBD5L2zad7pp3AJ8D/h34ZeAc2q6Oq5M8c6T2pcDvAsuA1wA37+oHIklD4o08kjQ8H6uqi7s/X53kWcC7k/x575qvVdXbZg+SvAj4FWBZVZ3fe+8McEGSi6vqZlqo/o0kz6+qb9PC8EpgUffnO4BXAPO6awFeBtxcVR/qff8v9b73AuCPgMuq6uze+eu7r/frQL/2/YDjquqep/ZjkaRhcAVckobn0yPHVwALaCvKs/5h5JpXds/LR87PHi/unlcDW9i6Cn4ybVX8mpFzG6rq9u74BuDFSS5J8uokzxj5Hi8DngX8XZK9Zh/AXcDtvdpmfdXwLWlPZgCXpOG5dwfHC3vnNoxcs/8Ozt/Tf72qNgI3AUuTHEgL9au6x5Lu2qVsXf2G1tLyTuAE4CpgY5K/T3J49/rB3fNK4PGRxzHAASM1jdYoSXsUW1AkaXieA/znyDHA3Wz9d71G3rOxez4EWNc7f0j3fH/v3CrgjbSgfT+tB3sDcHCSk4CXAJfOXlxV1R1fmmQ/4BRaT/inaKF89mu/Fbh1O3+fB0eOR2uXpD2KK+CSNDxvGDl+E/AD4JadvGd179q+M7vna3vnVtFW088BvlzNfbTwvAyYS2tJeYKqeqCqPkVrk5ltiVlDC9kvrKqvb+fxzZ3ULUl7HFfAJWl43t6NHbwBOBV4G3B+VW1Kst03VNWtSVYA53f912tovdnnASu6GzBnXQvMAK8Czu2dXwW8C/hOVf3fCnySv6IF7K8A9wFH0KavXN19781J3gN8NMlBwJXA92khfzEt5H/y//HzkKRBMYBL0vC8njZm8DxakL0QuOBJvO8sWuvK2cAHgO/SppMs61/UBea1wEvZdqX7GloA7/d/A1wH/BotdO/bfd3lwO/3vualSe4E3gO8mTZF5W5a2P/Gk6hdkvYYaa17kiRJksbBHnBJkiRpjAzgkiRJ0hgZwCVJkqQxMoBLkiRJY2QAlyRJksbIAC5JkiSNkQFckiRJGiMDuCRJkjRGBnBJkiRpjP4XMBZM2aOImrYAAAAASUVORK5CYII=\n",
      "text/plain": [
       "<Figure size 864x504 with 1 Axes>"
      ]
     },
     "metadata": {
      "needs_background": "light"
     },
     "output_type": "display_data"
    }
   ],
   "source": [
    "browser_control_df = combined_df[combined_df['experiment'] == \"control\"]\n",
    "browser_control_df = browser_control_df[['browser', 'experiment']].sort_values(by=\"browser\", ascending=False)\n",
    "browser_control_df = browser_control_df.groupby('browser').agg({'browser': 'count'})\n",
    "browser_control_df = browser_control_df.rename(columns={'browser': 'count of browsers'})\n",
    "browser_control_df['browser'] = browser_control_df.index\n",
    "browser_control_df = browser_control_df.sort_values(by=\"count of browsers\", ascending=False)\n",
    "draw.plot_bar(browser_control_df.head(10), x_col='browser', y_col='count of browsers',\n",
    "               title=\"Top 10 browsers from our control group\", xlabel=\"browser\", ylabel=\"count of browsers\")"
   ]
  },
  {
   "cell_type": "code",
   "execution_count": 31,
<<<<<<< HEAD
   "id": "f7ea78fd",
=======
   "id": "a86bcfaf",
>>>>>>> main
   "metadata": {},
   "outputs": [
    {
     "data": {
      "image/png": "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\n",
      "text/plain": [
       "<Figure size 864x504 with 1 Axes>"
      ]
     },
     "metadata": {
      "needs_background": "light"
     },
     "output_type": "display_data"
    }
   ],
   "source": [
    "browser_exposed_df =combined_df[combined_df['experiment'] == \"exposed\"]\n",
    "browser_exposed_df = browser_exposed_df[['browser', 'experiment']].sort_values(by=\"browser\", ascending=False)\n",
    "browser_exposed_df = browser_exposed_df.groupby('browser').agg({'browser': 'count'})\n",
    "browser_exposed_df = browser_exposed_df.rename(columns={'browser': 'count of browsers'})\n",
    "browser_exposed_df['browser'] = browser_exposed_df.index\n",
    "browser_exposed_df = browser_exposed_df.sort_values(by=\"count of browsers\", ascending=False)\n",
    "draw.plot_bar(browser_exposed_df.head(10), x_col='browser', y_col='count of browsers',\n",
    "               title=\"Top 10 browsers from our exposed group\", xlabel=\"browser\", ylabel=\"count of browsers\")"
   ]
  },
  {
   "cell_type": "markdown",
   "id": "824f315a",
   "metadata": {},
   "source": [
    "# Grouping"
   ]
  },
  {
   "cell_type": "code",
   "execution_count": 36,
<<<<<<< HEAD
   "id": "70f7f507",
=======
   "id": "99d1c9cb",
>>>>>>> main
   "metadata": {},
   "outputs": [
    {
     "data": {
      "text/html": [
       "<div>\n",
       "<style scoped>\n",
       "    .dataframe tbody tr th:only-of-type {\n",
       "        vertical-align: middle;\n",
       "    }\n",
       "\n",
       "    .dataframe tbody tr th {\n",
       "        vertical-align: top;\n",
       "    }\n",
       "\n",
       "    .dataframe thead th {\n",
       "        text-align: right;\n",
       "    }\n",
       "</style>\n",
       "<table border=\"1\" class=\"dataframe\">\n",
       "  <thead>\n",
       "    <tr style=\"text-align: right;\">\n",
       "      <th></th>\n",
       "      <th>experiment</th>\n",
       "      <th>hour</th>\n",
       "      <th>response</th>\n",
       "    </tr>\n",
       "    <tr>\n",
       "      <th>browser</th>\n",
       "      <th></th>\n",
       "      <th></th>\n",
       "      <th></th>\n",
       "    </tr>\n",
       "  </thead>\n",
       "  <tbody>\n",
       "    <tr>\n",
       "      <th>Chrome</th>\n",
       "      <td>2</td>\n",
       "      <td>27</td>\n",
       "      <td>1</td>\n",
       "    </tr>\n",
       "    <tr>\n",
       "      <th>Chrome Mobile</th>\n",
       "      <td>695</td>\n",
       "      <td>8041</td>\n",
       "      <td>314</td>\n",
       "    </tr>\n",
       "    <tr>\n",
       "      <th>Chrome Mobile WebView</th>\n",
       "      <td>227</td>\n",
       "      <td>2403</td>\n",
       "      <td>116</td>\n",
       "    </tr>\n",
       "    <tr>\n",
       "      <th>Chrome Mobile iOS</th>\n",
       "      <td>1</td>\n",
       "      <td>11</td>\n",
       "      <td>1</td>\n",
       "    </tr>\n",
       "    <tr>\n",
       "      <th>Facebook</th>\n",
       "      <td>156</td>\n",
       "      <td>1957</td>\n",
       "      <td>69</td>\n",
       "    </tr>\n",
       "    <tr>\n",
       "      <th>Mobile Safari</th>\n",
       "      <td>14</td>\n",
       "      <td>123</td>\n",
       "      <td>4</td>\n",
       "    </tr>\n",
       "    <tr>\n",
       "      <th>Mobile Safari UI/WKWebView</th>\n",
       "      <td>3</td>\n",
       "      <td>46</td>\n",
       "      <td>0</td>\n",
       "    </tr>\n",
       "    <tr>\n",
       "      <th>Samsung Internet</th>\n",
       "      <td>145</td>\n",
       "      <td>1712</td>\n",
       "      <td>67</td>\n",
       "    </tr>\n",
       "  </tbody>\n",
       "</table>\n",
       "</div>"
      ],
      "text/plain": [
       "                            experiment  hour  response\n",
       "browser                                               \n",
       "Chrome                               2    27         1\n",
       "Chrome Mobile                      695  8041       314\n",
       "Chrome Mobile WebView              227  2403       116\n",
       "Chrome Mobile iOS                    1    11         1\n",
       "Facebook                           156  1957        69\n",
       "Mobile Safari                       14   123         4\n",
       "Mobile Safari UI/WKWebView           3    46         0\n",
       "Samsung Internet                   145  1712        67"
      ]
     },
     "execution_count": 36,
     "metadata": {},
     "output_type": "execute_result"
    }
   ],
   "source": [
    "#Based on browser used\n",
    "browser_group_df = combined_df.groupby('browser').agg(\n",
    "    {'experiment': 'count', 'hour': 'sum', 'response': 'sum'})\n",
    "browser_group_df"
   ]
  },
  {
   "cell_type": "code",
   "execution_count": 25,
   "id": "3f3d91d1",
   "metadata": {
    "scrolled": false
   },
   "outputs": [
    {
     "data": {
      "text/html": [
       "<div>\n",
       "<style scoped>\n",
       "    .dataframe tbody tr th:only-of-type {\n",
       "        vertical-align: middle;\n",
       "    }\n",
       "\n",
       "    .dataframe tbody tr th {\n",
       "        vertical-align: top;\n",
       "    }\n",
       "\n",
       "    .dataframe thead th {\n",
       "        text-align: right;\n",
       "    }\n",
       "</style>\n",
       "<table border=\"1\" class=\"dataframe\">\n",
       "  <thead>\n",
       "    <tr style=\"text-align: right;\">\n",
       "      <th></th>\n",
       "      <th>experiment</th>\n",
       "      <th>hour</th>\n",
       "      <th>response</th>\n",
       "    </tr>\n",
       "    <tr>\n",
       "      <th>date</th>\n",
       "      <th></th>\n",
       "      <th></th>\n",
       "      <th></th>\n",
       "    </tr>\n",
       "  </thead>\n",
       "  <tbody>\n",
       "    <tr>\n",
       "      <th>2020-07-03</th>\n",
       "      <td>325</td>\n",
       "      <td>4215</td>\n",
       "      <td>147</td>\n",
       "    </tr>\n",
       "    <tr>\n",
       "      <th>2020-07-04</th>\n",
       "      <td>159</td>\n",
       "      <td>1694</td>\n",
       "      <td>76</td>\n",
       "    </tr>\n",
       "    <tr>\n",
       "      <th>2020-07-05</th>\n",
       "      <td>117</td>\n",
       "      <td>1124</td>\n",
       "      <td>52</td>\n",
       "    </tr>\n",
       "    <tr>\n",
       "      <th>2020-07-06</th>\n",
       "      <td>74</td>\n",
       "      <td>417</td>\n",
       "      <td>35</td>\n",
       "    </tr>\n",
       "    <tr>\n",
       "      <th>2020-07-07</th>\n",
       "      <td>83</td>\n",
       "      <td>934</td>\n",
       "      <td>38</td>\n",
       "    </tr>\n",
       "    <tr>\n",
       "      <th>2020-07-08</th>\n",
       "      <td>177</td>\n",
       "      <td>2817</td>\n",
       "      <td>85</td>\n",
       "    </tr>\n",
       "    <tr>\n",
       "      <th>2020-07-09</th>\n",
       "      <td>184</td>\n",
       "      <td>2179</td>\n",
       "      <td>85</td>\n",
       "    </tr>\n",
       "    <tr>\n",
       "      <th>2020-07-10</th>\n",
       "      <td>124</td>\n",
       "      <td>940</td>\n",
       "      <td>54</td>\n",
       "    </tr>\n",
       "  </tbody>\n",
       "</table>\n",
       "</div>"
      ],
      "text/plain": [
       "            experiment  hour  response\n",
       "date                                  \n",
       "2020-07-03         325  4215       147\n",
       "2020-07-04         159  1694        76\n",
       "2020-07-05         117  1124        52\n",
       "2020-07-06          74   417        35\n",
       "2020-07-07          83   934        38\n",
       "2020-07-08         177  2817        85\n",
       "2020-07-09         184  2179        85\n",
       "2020-07-10         124   940        54"
      ]
     },
     "execution_count": 25,
     "metadata": {},
     "output_type": "execute_result"
    }
   ],
   "source": [
    "#Based on Date\n",
    "date_group_df = combined_df.groupby('date').agg({'experiment':'count','hour':'sum','response':'sum'})\n",
    "date_group_df"
   ]
  },
  {
   "cell_type": "code",
   "execution_count": 49,
<<<<<<< HEAD
   "id": "9209efac",
   "metadata": {
    "scrolled": false
   },
=======
   "id": "922ba84f",
   "metadata": {},
>>>>>>> main
   "outputs": [
    {
     "data": {
      "image/png": "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\n",
      "text/plain": [
       "<Figure size 864x504 with 1 Axes>"
      ]
     },
     "metadata": {
      "needs_background": "light"
     },
     "output_type": "display_data"
    }
   ],
   "source": [
    "draw.plot_count(combined_df, 'date')"
   ]
  },
  {
   "cell_type": "code",
   "execution_count": 67,
   "id": "c65ec53a",
   "metadata": {},
   "outputs": [
    {
     "data": {
      "text/html": [
       "<div>\n",
       "<style scoped>\n",
       "    .dataframe tbody tr th:only-of-type {\n",
       "        vertical-align: middle;\n",
       "    }\n",
       "\n",
       "    .dataframe tbody tr th {\n",
       "        vertical-align: top;\n",
       "    }\n",
       "\n",
       "    .dataframe thead th {\n",
       "        text-align: right;\n",
       "    }\n",
       "</style>\n",
       "<table border=\"1\" class=\"dataframe\">\n",
       "  <thead>\n",
       "    <tr style=\"text-align: right;\">\n",
       "      <th></th>\n",
       "      <th>experiment</th>\n",
       "      <th>hour</th>\n",
       "      <th>response</th>\n",
       "    </tr>\n",
       "    <tr>\n",
       "      <th>device_make</th>\n",
       "      <th></th>\n",
       "      <th></th>\n",
       "      <th></th>\n",
       "    </tr>\n",
       "  </thead>\n",
       "  <tbody>\n",
       "    <tr>\n",
       "      <th>A0001</th>\n",
       "      <td>1</td>\n",
       "      <td>9</td>\n",
       "      <td>1</td>\n",
       "    </tr>\n",
       "    <tr>\n",
       "      <th>ANE-LX1</th>\n",
       "      <td>6</td>\n",
       "      <td>66</td>\n",
       "      <td>3</td>\n",
       "    </tr>\n",
       "    <tr>\n",
       "      <th>CLT-L09</th>\n",
       "      <td>5</td>\n",
       "      <td>58</td>\n",
       "      <td>0</td>\n",
       "    </tr>\n",
       "    <tr>\n",
       "      <th>DLI-L22</th>\n",
       "      <td>1</td>\n",
       "      <td>10</td>\n",
       "      <td>0</td>\n",
       "    </tr>\n",
       "    <tr>\n",
       "      <th>E5823</th>\n",
       "      <td>1</td>\n",
       "      <td>2</td>\n",
       "      <td>0</td>\n",
       "    </tr>\n",
       "    <tr>\n",
       "      <th>...</th>\n",
       "      <td>...</td>\n",
       "      <td>...</td>\n",
       "      <td>...</td>\n",
       "    </tr>\n",
       "    <tr>\n",
       "      <th>XiaoMi Redmi 6A</th>\n",
       "      <td>1</td>\n",
       "      <td>8</td>\n",
       "      <td>0</td>\n",
       "    </tr>\n",
       "    <tr>\n",
       "      <th>XiaoMi Redmi Note 7</th>\n",
       "      <td>1</td>\n",
       "      <td>15</td>\n",
       "      <td>0</td>\n",
       "    </tr>\n",
       "    <tr>\n",
       "      <th>XiaoMi Redmi S2</th>\n",
       "      <td>1</td>\n",
       "      <td>10</td>\n",
       "      <td>1</td>\n",
       "    </tr>\n",
       "    <tr>\n",
       "      <th>YAL-L21</th>\n",
       "      <td>1</td>\n",
       "      <td>21</td>\n",
       "      <td>1</td>\n",
       "    </tr>\n",
       "    <tr>\n",
       "      <th>iPhone</th>\n",
       "      <td>18</td>\n",
       "      <td>180</td>\n",
       "      <td>5</td>\n",
       "    </tr>\n",
       "  </tbody>\n",
       "</table>\n",
       "<p>115 rows × 3 columns</p>\n",
       "</div>"
      ],
      "text/plain": [
       "                     experiment  hour  response\n",
       "device_make                                    \n",
       "A0001                         1     9         1\n",
       "ANE-LX1                       6    66         3\n",
       "CLT-L09                       5    58         0\n",
       "DLI-L22                       1    10         0\n",
       "E5823                         1     2         0\n",
       "...                         ...   ...       ...\n",
       "XiaoMi Redmi 6A               1     8         0\n",
       "XiaoMi Redmi Note 7           1    15         0\n",
       "XiaoMi Redmi S2               1    10         1\n",
       "YAL-L21                       1    21         1\n",
       "iPhone                       18   180         5\n",
       "\n",
       "[115 rows x 3 columns]"
      ]
     },
     "execution_count": 67,
     "metadata": {},
     "output_type": "execute_result"
    }
   ],
   "source": [
    "#based on devices used\n",
    "date_group_df = combined_df.groupby('device_make').agg(\n",
    "    {'experiment': 'count', 'hour': 'sum', 'response': 'sum'})\n",
    "date_group_df"
   ]
  },
  {
   "cell_type": "code",
   "execution_count": 68,
   "id": "f2498c9e",
   "metadata": {
    "scrolled": true
   },
   "outputs": [
    {
     "data": {
      "text/html": [
       "<div>\n",
       "<style scoped>\n",
       "    .dataframe tbody tr th:only-of-type {\n",
       "        vertical-align: middle;\n",
       "    }\n",
       "\n",
       "    .dataframe tbody tr th {\n",
       "        vertical-align: top;\n",
       "    }\n",
       "\n",
       "    .dataframe thead th {\n",
       "        text-align: right;\n",
       "    }\n",
       "</style>\n",
       "<table border=\"1\" class=\"dataframe\">\n",
       "  <thead>\n",
       "    <tr style=\"text-align: right;\">\n",
       "      <th></th>\n",
       "      <th>experiment</th>\n",
       "      <th>hour</th>\n",
       "      <th>response</th>\n",
       "    </tr>\n",
       "    <tr>\n",
       "      <th>platform_os</th>\n",
       "      <th></th>\n",
       "      <th></th>\n",
       "      <th></th>\n",
       "    </tr>\n",
       "  </thead>\n",
       "  <tbody>\n",
       "    <tr>\n",
       "      <th>5</th>\n",
       "      <td>17</td>\n",
       "      <td>161</td>\n",
       "      <td>5</td>\n",
       "    </tr>\n",
       "    <tr>\n",
       "      <th>6</th>\n",
       "      <td>1226</td>\n",
       "      <td>14159</td>\n",
       "      <td>567</td>\n",
       "    </tr>\n",
       "  </tbody>\n",
       "</table>\n",
       "</div>"
      ],
      "text/plain": [
       "             experiment   hour  response\n",
       "platform_os                             \n",
       "5                    17    161         5\n",
       "6                  1226  14159       567"
      ]
     },
     "execution_count": 68,
     "metadata": {},
     "output_type": "execute_result"
    }
   ],
   "source": [
    "#based on type of OS used\n",
    "os_group_df = combined_df.groupby('platform_os').agg(\n",
    "    {'experiment': 'count', 'hour': 'sum', 'response': 'sum'})\n",
    "os_group_df"
   ]
  },
  {
   "cell_type": "code",
   "execution_count": 51,
<<<<<<< HEAD
   "id": "fc19068b",
=======
   "id": "1a2a9476",
>>>>>>> main
   "metadata": {},
   "outputs": [
    {
     "data": {
      "image/png": "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\n",
      "text/plain": [
       "<Figure size 864x504 with 1 Axes>"
      ]
     },
     "metadata": {
      "needs_background": "light"
     },
     "output_type": "display_data"
    }
   ],
   "source": [
    "draw.plot_count(combined_df, 'platform_os')"
   ]
  },
  {
<<<<<<< HEAD
   "cell_type": "code",
   "execution_count": 52,
   "id": "f45283bb",
   "metadata": {},
   "outputs": [
    {
     "data": {
      "text/html": [
       "<div>\n",
       "<style scoped>\n",
       "    .dataframe tbody tr th:only-of-type {\n",
       "        vertical-align: middle;\n",
       "    }\n",
       "\n",
       "    .dataframe tbody tr th {\n",
       "        vertical-align: top;\n",
       "    }\n",
       "\n",
       "    .dataframe thead th {\n",
       "        text-align: right;\n",
       "    }\n",
       "</style>\n",
       "<table border=\"1\" class=\"dataframe\">\n",
       "  <thead>\n",
       "    <tr style=\"text-align: right;\">\n",
       "      <th></th>\n",
       "      <th>experiment</th>\n",
       "      <th>platform_os</th>\n",
       "      <th>response</th>\n",
       "    </tr>\n",
       "    <tr>\n",
       "      <th>hour</th>\n",
       "      <th></th>\n",
       "      <th></th>\n",
       "      <th></th>\n",
       "    </tr>\n",
       "  </thead>\n",
       "  <tbody>\n",
       "    <tr>\n",
       "      <th>0</th>\n",
       "      <td>31</td>\n",
       "      <td>186</td>\n",
       "      <td>16</td>\n",
       "    </tr>\n",
       "    <tr>\n",
       "      <th>1</th>\n",
       "      <td>32</td>\n",
       "      <td>191</td>\n",
       "      <td>12</td>\n",
       "    </tr>\n",
       "    <tr>\n",
       "      <th>2</th>\n",
       "      <td>33</td>\n",
       "      <td>197</td>\n",
       "      <td>12</td>\n",
       "    </tr>\n",
       "    <tr>\n",
       "      <th>3</th>\n",
       "      <td>44</td>\n",
       "      <td>262</td>\n",
       "      <td>16</td>\n",
       "    </tr>\n",
       "    <tr>\n",
       "      <th>4</th>\n",
       "      <td>46</td>\n",
       "      <td>276</td>\n",
       "      <td>22</td>\n",
       "    </tr>\n",
       "    <tr>\n",
       "      <th>5</th>\n",
       "      <td>49</td>\n",
       "      <td>292</td>\n",
       "      <td>18</td>\n",
       "    </tr>\n",
       "    <tr>\n",
       "      <th>6</th>\n",
       "      <td>50</td>\n",
       "      <td>300</td>\n",
       "      <td>29</td>\n",
       "    </tr>\n",
       "    <tr>\n",
       "      <th>7</th>\n",
       "      <td>59</td>\n",
       "      <td>354</td>\n",
       "      <td>23</td>\n",
       "    </tr>\n",
       "    <tr>\n",
       "      <th>8</th>\n",
       "      <td>67</td>\n",
       "      <td>401</td>\n",
       "      <td>31</td>\n",
       "    </tr>\n",
       "    <tr>\n",
       "      <th>9</th>\n",
       "      <td>57</td>\n",
       "      <td>341</td>\n",
       "      <td>28</td>\n",
       "    </tr>\n",
       "    <tr>\n",
       "      <th>10</th>\n",
       "      <td>57</td>\n",
       "      <td>342</td>\n",
       "      <td>26</td>\n",
       "    </tr>\n",
       "    <tr>\n",
       "      <th>11</th>\n",
       "      <td>44</td>\n",
       "      <td>262</td>\n",
       "      <td>19</td>\n",
       "    </tr>\n",
       "    <tr>\n",
       "      <th>12</th>\n",
       "      <td>42</td>\n",
       "      <td>251</td>\n",
       "      <td>13</td>\n",
       "    </tr>\n",
       "    <tr>\n",
       "      <th>13</th>\n",
       "      <td>41</td>\n",
       "      <td>246</td>\n",
       "      <td>23</td>\n",
       "    </tr>\n",
       "    <tr>\n",
       "      <th>14</th>\n",
       "      <td>51</td>\n",
       "      <td>305</td>\n",
       "      <td>22</td>\n",
       "    </tr>\n",
       "    <tr>\n",
       "      <th>15</th>\n",
       "      <td>281</td>\n",
       "      <td>1682</td>\n",
       "      <td>126</td>\n",
       "    </tr>\n",
       "    <tr>\n",
       "      <th>16</th>\n",
       "      <td>44</td>\n",
       "      <td>264</td>\n",
       "      <td>24</td>\n",
       "    </tr>\n",
       "    <tr>\n",
       "      <th>17</th>\n",
       "      <td>34</td>\n",
       "      <td>203</td>\n",
       "      <td>16</td>\n",
       "    </tr>\n",
       "    <tr>\n",
       "      <th>18</th>\n",
       "      <td>38</td>\n",
       "      <td>228</td>\n",
       "      <td>17</td>\n",
       "    </tr>\n",
       "    <tr>\n",
       "      <th>19</th>\n",
       "      <td>38</td>\n",
       "      <td>228</td>\n",
       "      <td>15</td>\n",
       "    </tr>\n",
       "    <tr>\n",
       "      <th>20</th>\n",
       "      <td>45</td>\n",
       "      <td>270</td>\n",
       "      <td>26</td>\n",
       "    </tr>\n",
       "    <tr>\n",
       "      <th>21</th>\n",
       "      <td>34</td>\n",
       "      <td>204</td>\n",
       "      <td>23</td>\n",
       "    </tr>\n",
       "    <tr>\n",
       "      <th>22</th>\n",
       "      <td>21</td>\n",
       "      <td>126</td>\n",
       "      <td>10</td>\n",
       "    </tr>\n",
       "    <tr>\n",
       "      <th>23</th>\n",
       "      <td>5</td>\n",
       "      <td>30</td>\n",
       "      <td>5</td>\n",
       "    </tr>\n",
       "  </tbody>\n",
       "</table>\n",
       "</div>"
      ],
      "text/plain": [
       "      experiment  platform_os  response\n",
       "hour                                   \n",
       "0             31          186        16\n",
       "1             32          191        12\n",
       "2             33          197        12\n",
       "3             44          262        16\n",
       "4             46          276        22\n",
       "5             49          292        18\n",
       "6             50          300        29\n",
       "7             59          354        23\n",
       "8             67          401        31\n",
       "9             57          341        28\n",
       "10            57          342        26\n",
       "11            44          262        19\n",
       "12            42          251        13\n",
       "13            41          246        23\n",
       "14            51          305        22\n",
       "15           281         1682       126\n",
       "16            44          264        24\n",
       "17            34          203        16\n",
       "18            38          228        17\n",
       "19            38          228        15\n",
       "20            45          270        26\n",
       "21            34          204        23\n",
       "22            21          126        10\n",
       "23             5           30         5"
      ]
     },
     "execution_count": 52,
     "metadata": {},
     "output_type": "execute_result"
    }
   ],
   "source": [
    "hour_group_df = combined_df.groupby('hour').agg(\n",
    "    {'experiment': 'count', 'platform_os': 'sum', 'response': 'sum'})\n",
    "hour_group_df"
   ]
  },
  {
   "cell_type": "code",
   "execution_count": 53,
   "id": "1be22712",
   "metadata": {},
   "outputs": [
    {
     "data": {
      "image/png": "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\n",
      "text/plain": [
       "<Figure size 864x504 with 1 Axes>"
      ]
     },
     "metadata": {
      "needs_background": "light"
     },
     "output_type": "display_data"
    }
   ],
   "source": [
    "draw.plot_count(combined_df, 'hour')"
   ]
  },
  {
=======
>>>>>>> main
   "cell_type": "markdown",
   "id": "594848e9",
   "metadata": {},
   "source": [
    "# Save cleaned Data"
   ]
  },
  {
   "cell_type": "code",
   "execution_count": 70,
   "id": "88cb94ee",
   "metadata": {},
   "outputs": [],
   "source": [
    "combined_df.to_csv('../data/Clean_Ab_Hypothesis_Testing.csv', index=False)"
   ]
  },
  {
   "cell_type": "code",
   "execution_count": null,
   "id": "43443ffb",
   "metadata": {},
   "outputs": [],
   "source": []
  }
 ],
 "metadata": {
  "kernelspec": {
   "display_name": "Python 3",
   "language": "python",
   "name": "python3"
  },
  "language_info": {
   "codemirror_mode": {
    "name": "ipython",
    "version": 3
   },
   "file_extension": ".py",
   "mimetype": "text/x-python",
   "name": "python",
   "nbconvert_exporter": "python",
   "pygments_lexer": "ipython3",
   "version": "3.8.8"
  }
 },
 "nbformat": 4,
 "nbformat_minor": 5
}
