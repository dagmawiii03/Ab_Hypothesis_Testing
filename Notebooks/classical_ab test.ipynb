{
 "cells": [
  {
   "cell_type": "markdown",
   "id": "20d900b2",
   "metadata": {},
   "source": [
    "# Classical AB Testing"
   ]
  },
  {
   "cell_type": "code",
   "execution_count": 1,
   "id": "3935413c",
   "metadata": {},
   "outputs": [],
   "source": [
    "#Importing Libraries\n",
    "import sys\n",
    "import os\n",
    "import dvc.api\n",
    "import numpy as np\n",
    "import scipy.stats as stats \n",
    "import pandas as pd\n",
    "import seaborn as sns\n",
    "import matplotlib.pyplot as plt"
   ]
  },
  {
   "cell_type": "markdown",
   "id": "7a6aa8e0",
   "metadata": {},
   "source": [
    "# Defining our Experiment"
   ]
  },
  {
   "cell_type": "markdown",
   "id": "d143aef1",
   "metadata": {},
   "source": [
    "Ho(null hypothesis): users who saw the smart Ad(treated users) don't show any difference\n",
    "                    in responding to the Bio to the ones who were shown the dummy Ad \n",
    "H1(Alternative hypothesis): exposed users are more responsive to the BIO than the ones shown the dummy Ad"
   ]
  },
  {
   "cell_type": "markdown",
   "id": "4ba3a22c",
   "metadata": {},
   "source": [
    "\n",
    "#to see which of the group respond better we have to use the two tailed test\n",
    "    #let P0 is conversion rate of the controled users and\n",
    "    #let p is conversion rate of the exposed users\n",
    "#so for Ho- p0=p\n",
    "        H1- p0<p\n",
    "               \n",
    "and defining a confidence level of 95%,the acceptable value of type I error α= (1-0.95)=0.05\n",
    "                \n",
    "    setting statistical power to 80%, so beta B(Beta) = 0.2 or 20%\n",
    "    "
   ]
  },
  {
   "cell_type": "code",
   "execution_count": 14,
   "id": "5b3b8ffe",
   "metadata": {},
   "outputs": [],
   "source": [
    "#getting clean data from output of data exploration\n",
    "df= pd.read_csv('../data/AdSmartABdata.csv')"
   ]
  },
  {
   "cell_type": "code",
   "execution_count": 15,
   "id": "62ab3893",
   "metadata": {
    "scrolled": true
   },
   "outputs": [
    {
     "name": "stdout",
     "output_type": "stream",
     "text": [
      "<class 'pandas.core.frame.DataFrame'>\n",
      "RangeIndex: 8077 entries, 0 to 8076\n",
      "Data columns (total 9 columns):\n",
      " #   Column       Non-Null Count  Dtype \n",
      "---  ------       --------------  ----- \n",
      " 0   auction_id   8077 non-null   object\n",
      " 1   experiment   8077 non-null   object\n",
      " 2   date         8077 non-null   object\n",
      " 3   hour         8077 non-null   int64 \n",
      " 4   device_make  8077 non-null   object\n",
      " 5   platform_os  8077 non-null   int64 \n",
      " 6   browser      8077 non-null   object\n",
      " 7   yes          8077 non-null   int64 \n",
      " 8   no           8077 non-null   int64 \n",
      "dtypes: int64(4), object(5)\n",
      "memory usage: 568.0+ KB\n"
     ]
    }
   ],
   "source": [
    "df.info()"
   ]
  },
  {
   "cell_type": "markdown",
   "id": "6e60ed3c",
   "metadata": {},
   "source": [
    "# Identifing Conversion Rates"
   ]
  },
  {
   "cell_type": "code",
   "execution_count": 16,
   "id": "ae062395",
   "metadata": {},
   "outputs": [],
   "source": [
    "sys.path.append(os.path.abspath(os.path.join('data')))\n",
    "sys.path.insert(0,'../Scripts/')"
   ]
  },
  {
   "cell_type": "code",
   "execution_count": 17,
   "id": "5617701a",
   "metadata": {},
   "outputs": [],
   "source": [
    "from classic_ab import classics\n",
    "from Graphs import draw"
   ]
  },
  {
   "cell_type": "code",
   "execution_count": 18,
   "id": "0004592a",
   "metadata": {},
   "outputs": [
    {
     "data": {
      "text/html": [
       "<div>\n",
       "<style scoped>\n",
       "    .dataframe tbody tr th:only-of-type {\n",
       "        vertical-align: middle;\n",
       "    }\n",
       "\n",
       "    .dataframe tbody tr th {\n",
       "        vertical-align: top;\n",
       "    }\n",
       "\n",
       "    .dataframe thead th {\n",
       "        text-align: right;\n",
       "    }\n",
       "</style>\n",
       "<table border=\"1\" class=\"dataframe\">\n",
       "  <thead>\n",
       "    <tr style=\"text-align: right;\">\n",
       "      <th></th>\n",
       "      <th>auction_id</th>\n",
       "      <th>experiment</th>\n",
       "      <th>yes</th>\n",
       "      <th>no</th>\n",
       "    </tr>\n",
       "  </thead>\n",
       "  <tbody>\n",
       "    <tr>\n",
       "      <th>0</th>\n",
       "      <td>0008ef63-77a7-448b-bd1e-075f42c55e39</td>\n",
       "      <td>exposed</td>\n",
       "      <td>0</td>\n",
       "      <td>0</td>\n",
       "    </tr>\n",
       "    <tr>\n",
       "      <th>1</th>\n",
       "      <td>000eabc5-17ce-4137-8efe-44734d914446</td>\n",
       "      <td>exposed</td>\n",
       "      <td>0</td>\n",
       "      <td>0</td>\n",
       "    </tr>\n",
       "    <tr>\n",
       "      <th>3</th>\n",
       "      <td>00187412-2932-4542-a8ef-3633901c98d9</td>\n",
       "      <td>control</td>\n",
       "      <td>0</td>\n",
       "      <td>0</td>\n",
       "    </tr>\n",
       "    <tr>\n",
       "      <th>4</th>\n",
       "      <td>001a7785-d3fe-4e11-a344-c8735acacc2c</td>\n",
       "      <td>control</td>\n",
       "      <td>0</td>\n",
       "      <td>0</td>\n",
       "    </tr>\n",
       "    <tr>\n",
       "      <th>5</th>\n",
       "      <td>0027ce48-d3c6-4935-bb12-dfb5d5627857</td>\n",
       "      <td>control</td>\n",
       "      <td>0</td>\n",
       "      <td>0</td>\n",
       "    </tr>\n",
       "    <tr>\n",
       "      <th>...</th>\n",
       "      <td>...</td>\n",
       "      <td>...</td>\n",
       "      <td>...</td>\n",
       "      <td>...</td>\n",
       "    </tr>\n",
       "    <tr>\n",
       "      <th>8072</th>\n",
       "      <td>ffea24ec-cec1-43fb-b1d1-8f93828c2be2</td>\n",
       "      <td>exposed</td>\n",
       "      <td>0</td>\n",
       "      <td>0</td>\n",
       "    </tr>\n",
       "    <tr>\n",
       "      <th>8073</th>\n",
       "      <td>ffea3210-2c3e-426f-a77d-0aa72e73b20f</td>\n",
       "      <td>control</td>\n",
       "      <td>0</td>\n",
       "      <td>0</td>\n",
       "    </tr>\n",
       "    <tr>\n",
       "      <th>8074</th>\n",
       "      <td>ffeaa0f1-1d72-4ba9-afb4-314b3b00a7c7</td>\n",
       "      <td>control</td>\n",
       "      <td>0</td>\n",
       "      <td>0</td>\n",
       "    </tr>\n",
       "    <tr>\n",
       "      <th>8075</th>\n",
       "      <td>ffeeed62-3f7c-4a6e-8ba7-95d303d40969</td>\n",
       "      <td>exposed</td>\n",
       "      <td>0</td>\n",
       "      <td>0</td>\n",
       "    </tr>\n",
       "    <tr>\n",
       "      <th>8076</th>\n",
       "      <td>fffbb9ff-568a-41a5-a0c3-6866592f80d8</td>\n",
       "      <td>control</td>\n",
       "      <td>0</td>\n",
       "      <td>0</td>\n",
       "    </tr>\n",
       "  </tbody>\n",
       "</table>\n",
       "<p>6834 rows × 4 columns</p>\n",
       "</div>"
      ],
      "text/plain": [
       "                                auction_id experiment  yes  no\n",
       "0     0008ef63-77a7-448b-bd1e-075f42c55e39    exposed    0   0\n",
       "1     000eabc5-17ce-4137-8efe-44734d914446    exposed    0   0\n",
       "3     00187412-2932-4542-a8ef-3633901c98d9    control    0   0\n",
       "4     001a7785-d3fe-4e11-a344-c8735acacc2c    control    0   0\n",
       "5     0027ce48-d3c6-4935-bb12-dfb5d5627857    control    0   0\n",
       "...                                    ...        ...  ...  ..\n",
       "8072  ffea24ec-cec1-43fb-b1d1-8f93828c2be2    exposed    0   0\n",
       "8073  ffea3210-2c3e-426f-a77d-0aa72e73b20f    control    0   0\n",
       "8074  ffeaa0f1-1d72-4ba9-afb4-314b3b00a7c7    control    0   0\n",
       "8075  ffeeed62-3f7c-4a6e-8ba7-95d303d40969    exposed    0   0\n",
       "8076  fffbb9ff-568a-41a5-a0c3-6866592f80d8    control    0   0\n",
       "\n",
       "[6834 rows x 4 columns]"
      ]
     },
     "execution_count": 18,
     "metadata": {},
     "output_type": "execute_result"
    }
   ],
   "source": [
    "cleaned_df = df[['auction_id', 'experiment', 'yes', 'no']]\n",
    "not_ans_df = cleaned_df.query(\"yes == 0 & no == 0\")\n",
    "not_ans_df"
   ]
  },
  {
   "cell_type": "code",
   "execution_count": 19,
   "id": "eb3caff5",
   "metadata": {},
   "outputs": [
    {
     "name": "stdout",
     "output_type": "stream",
     "text": [
      "The number of users that did not respond is 6834 \n",
      "The percentage of users that did not respond is 84.61% \n"
     ]
    }
   ],
   "source": [
    "print(f\"The number of users that did not respond is {not_ans_df.shape[0]} \")\n",
    "print(f\"The percentage of users that did not respond is {(not_ans_df.shape[0] / df.shape[0]) * 100:0.2f}% \")"
   ]
  },
  {
   "cell_type": "markdown",
   "id": "a37cdef4",
   "metadata": {},
   "source": [
    "##### we have almost 85 percent of the data with non response rate which is a blocker around the conclusion"
   ]
  },
  {
   "cell_type": "code",
   "execution_count": 20,
   "id": "56ad7d9d",
   "metadata": {},
   "outputs": [
    {
     "name": "stdout",
     "output_type": "stream",
     "text": [
      "number of pepole that are aware of the brand lux in control group are: 264\n",
      "number of pepole that are aware of the brand lux in exposed group are: 308\n"
     ]
    },
    {
     "data": {
      "text/html": [
       "<div>\n",
       "<style scoped>\n",
       "    .dataframe tbody tr th:only-of-type {\n",
       "        vertical-align: middle;\n",
       "    }\n",
       "\n",
       "    .dataframe tbody tr th {\n",
       "        vertical-align: top;\n",
       "    }\n",
       "\n",
       "    .dataframe thead th {\n",
       "        text-align: right;\n",
       "    }\n",
       "</style>\n",
       "<table border=\"1\" class=\"dataframe\">\n",
       "  <thead>\n",
       "    <tr style=\"text-align: right;\">\n",
       "      <th></th>\n",
       "      <th>yes</th>\n",
       "      <th>no</th>\n",
       "      <th>aware</th>\n",
       "      <th>total</th>\n",
       "    </tr>\n",
       "    <tr>\n",
       "      <th>experiment</th>\n",
       "      <th></th>\n",
       "      <th></th>\n",
       "      <th></th>\n",
       "      <th></th>\n",
       "    </tr>\n",
       "  </thead>\n",
       "  <tbody>\n",
       "    <tr>\n",
       "      <th>control</th>\n",
       "      <td>264</td>\n",
       "      <td>322</td>\n",
       "      <td>264</td>\n",
       "      <td>586</td>\n",
       "    </tr>\n",
       "    <tr>\n",
       "      <th>exposed</th>\n",
       "      <td>308</td>\n",
       "      <td>349</td>\n",
       "      <td>308</td>\n",
       "      <td>657</td>\n",
       "    </tr>\n",
       "  </tbody>\n",
       "</table>\n",
       "</div>"
      ],
      "text/plain": [
       "            yes   no  aware  total\n",
       "experiment                        \n",
       "control     264  322    264    586\n",
       "exposed     308  349    308    657"
      ]
     },
     "execution_count": 20,
     "metadata": {},
     "output_type": "execute_result"
    }
   ],
   "source": [
    "cleaned_df = cleaned_df.query(\"not (yes == 0 & no == 0)\")\n",
    "cleaned_df.groupby(\"experiment\").agg({\"yes\": \"sum\", \"no\":\"sum\"})\n",
    "\n",
    "cleaned_df_agg = cleaned_df.groupby(\"experiment\").agg({\"yes\": \"sum\", \"no\":\"sum\"})\n",
    "cleaned_df_agg['aware'] = [0,0]\n",
    "cleaned_df_agg['aware']['control'] = cleaned_df_agg['yes']['control']\n",
    "cleaned_df_agg['aware']['exposed'] = cleaned_df_agg['yes']['exposed']\n",
    "\n",
    "cleaned_df_agg['total'] = [0, 0]\n",
    "cleaned_df_agg['total']['control'] = cleaned_df_agg['yes']['control'] +  cleaned_df_agg['no']['control']\n",
    "cleaned_df_agg['total']['exposed'] = cleaned_df_agg['yes']['exposed'] + cleaned_df_agg['no']['exposed']\n",
    "\n",
    "print(f\"number of pepole that are aware of the brand lux in control group are: {cleaned_df_agg['aware']['control']}\")\n",
    "print(f\"number of pepole that are aware of the brand lux in exposed group are: {cleaned_df_agg['aware']['exposed']}\")\n",
    "\n",
    "test_df = cleaned_df_agg.copy()\n",
    "test_df"
   ]
  },
  {
   "cell_type": "markdown",
   "id": "adf99850",
   "metadata": {},
   "source": [
    "# Conversion rate for both experiment group"
   ]
  },
  {
   "cell_type": "markdown",
   "id": "3e0110a9",
   "metadata": {},
   "source": [
    "### Control"
   ]
  },
  {
   "cell_type": "code",
   "execution_count": 21,
   "id": "1154ca01",
   "metadata": {},
   "outputs": [
    {
     "name": "stdout",
     "output_type": "stream",
     "text": [
      " The conversion rate of control group is 0.45\n"
     ]
    }
   ],
   "source": [
    "control_conversion_rate = test_df['aware']['control'] / test_df['total']['control']\n",
    "print(f\" The conversion rate of control group is {control_conversion_rate:0.2f}\")"
   ]
  },
  {
   "cell_type": "markdown",
   "id": "f550af9b",
   "metadata": {},
   "source": [
    "### Exposed"
   ]
  },
  {
   "cell_type": "code",
   "execution_count": 22,
   "id": "d598c081",
   "metadata": {},
   "outputs": [
    {
     "name": "stdout",
     "output_type": "stream",
     "text": [
      " The conversion rate of exposed group is 0.47\n"
     ]
    }
   ],
   "source": [
    "exposed_conversion_rate = test_df['aware']['exposed'] / test_df['total']['exposed']\n",
    "print(f\" The conversion rate of exposed group is {exposed_conversion_rate:0.2f}\")"
   ]
  },
  {
   "cell_type": "code",
   "execution_count": 66,
   "id": "29384f37",
   "metadata": {
    "scrolled": true
   },
   "outputs": [
    {
     "data": {
      "image/png": "[encoded data removed]",
      "text/plain": [
       "<Figure size 720x432 with 1 Axes>"
      ]
     },
     "metadata": {
      "needs_background": "light"
     },
     "output_type": "display_data"
    }
   ],
   "source": [
    "#plotting controlled and exposed agasist response\n",
    "draw.modified_bar_plot(combined_df, 'experiment', 'response','Conversion Rate by Group')"
   ]
  },
  {
   "cell_type": "markdown",
   "id": "d70fbbe9",
   "metadata": {},
   "source": [
    "### not so much difference in the conversion rate"
   ]
  },
  {
   "cell_type": "code",
   "execution_count": 23,
   "id": "b166b869",
   "metadata": {},
   "outputs": [],
   "source": [
    "#calculating the varance of control and exposed rate\n",
    "diff = exposed_conversion_rate - control_conversion_rate\n",
    "\n",
    "variance_contorl = control_conversion_rate * (1 - control_conversion_rate)\n",
    "variance_exposed = exposed_conversion_rate * (1 - exposed_conversion_rate)"
   ]
  },
  {
   "cell_type": "code",
   "execution_count": 27,
   "id": "008ffc2b",
   "metadata": {},
   "outputs": [
    {
     "data": {
      "text/plain": [
       "0.02055339057798332"
      ]
     },
     "execution_count": 27,
     "metadata": {},
     "output_type": "execute_result"
    }
   ],
   "source": [
    "#calculating the standard error for control group(which describe how much a std deviation of a sample represent the poulation)\n",
    "contorl_total = cleaned_df_agg['total']['control']\n",
    "standar_err_control = np.sqrt(variance_contorl)/np.sqrt(contorl_total)\n",
    "\n",
    "standar_err_control"
   ]
  },
  {
   "cell_type": "code",
   "execution_count": 26,
   "id": "3eead05a",
   "metadata": {},
   "outputs": [
    {
     "data": {
      "text/plain": [
       "0.019468837373132736"
      ]
     },
     "execution_count": 26,
     "metadata": {},
     "output_type": "execute_result"
    }
   ],
   "source": [
    "#calculating the standard error for control group\n",
    "exposed_total = cleaned_df_agg['total']['exposed']\n",
    "standar_err_exposed = np.sqrt(variance_exposed)/np.sqrt(exposed_total)\n",
    "\n",
    "standar_err_exposed"
   ]
  },
  {
   "cell_type": "markdown",
   "id": "d04e7177",
   "metadata": {},
   "source": [
    "###### Std error is small for both groups which means that, sample means are closely distributed around the population mean so your sample is representative of your population"
   ]
  },
  {
   "cell_type": "markdown",
   "id": "8248658e",
   "metadata": {},
   "source": [
    "# Calculating Shift Awareness"
   ]
  },
  {
   "cell_type": "code",
   "execution_count": 29,
   "id": "02c4ed72",
   "metadata": {},
   "outputs": [],
   "source": [
    "#shift in awareness betweeen the two groups to see the effect of the smart Ad\n",
    "import scipy.stats as scs\n",
    "shift  = (exposed_conversion_rate - control_conversion_rate) / control_conversion_rate"
   ]
  },
  {
   "cell_type": "code",
   "execution_count": 36,
   "id": "d8e79b36",
   "metadata": {},
   "outputs": [
    {
     "data": {
      "text/plain": [
       "<matplotlib.legend.Legend at 0x2628b813670>"
      ]
     },
     "execution_count": 36,
     "metadata": {},
     "output_type": "execute_result"
    },
    {
     "data": {
      "image/png": "[encoded data removed]",
      "text/plain": [
       "<Figure size 1080x504 with 1 Axes>"
      ]
     },
     "metadata": {
      "needs_background": "light"
     },
     "output_type": "display_data"
    }
   ],
   "source": [
    "fig, ax = plt.subplots(figsize=(15,7))\n",
    "\n",
    "x = np.linspace(0.3, 0.6, 1000)\n",
    "\n",
    "ctr_rate_prob = scs.norm(control_conversion_rate, standar_err_control).pdf(x)\n",
    "ax.plot(x, ctr_rate_prob, label='Control')\n",
    "ax.axvline(x=control_conversion_rate, c='blue', linestyle='--')\n",
    "\n",
    "\n",
    "\n",
    "exposed_rate_prob = scs.norm(exposed_conversion_rate, standar_err_exposed).pdf(x)\n",
    "ax.plot(x, exposed_rate_prob, label='Exposed')\n",
    "ax.axvline(x=exposed_conversion_rate, c='yellow', linestyle='--')\n",
    "plt.legend()"
   ]
  },
  {
   "cell_type": "code",
   "execution_count": 31,
   "id": "0f5a82f8",
   "metadata": {},
   "outputs": [
    {
     "name": "stdout",
     "output_type": "stream",
     "text": [
      "The awareness of the exposed group has been increased by 4.06%\n"
     ]
    }
   ],
   "source": [
    "print(f\"The awareness of the exposed group has been increased by {shift * 100:0.2f}%\" )"
   ]
  },
  {
   "cell_type": "markdown",
   "id": "7cfe98b4",
   "metadata": {},
   "source": [
    "# Testing the Hypothesis"
   ]
  },
  {
   "cell_type": "code",
   "execution_count": 41,
   "id": "3042e94a",
   "metadata": {},
   "outputs": [],
   "source": [
    "## as seen from the graph above showing the smart Ad to the treatment havent bring that much change in awareness of the lux brand\n",
    "#defining both exposed groups\n",
    "def is_significant(A_rate, B_rate, A_total, B_total, alpha=0.05, tail=\"one\"):\n",
    "    diff = B_rate - A_rate\n",
    "    \n",
    "    A_variance =  A_rate * (1 - A_rate)\n",
    "    B_variance  = B_rate * (1 - B_rate)\n",
    "    \n",
    "    z_score = diff / np.sqrt((A_variance/A_total) + (B_variance/B_total))\n",
    "\n",
    "    p_value  = scs.norm().sf(z_score)\n",
    "    \n",
    "    if (tail == \"one\"):\n",
    "        compare = alpha\n",
    "    else:\n",
    "        comapre = alpha / 2   #for two tailed test we distribute the alpha to the two sides\n",
    "        \n",
    "    return abs(p_value) < alpha, p_value, z_score\n",
    "        "
   ]
  },
  {
   "cell_type": "code",
   "execution_count": 42,
   "id": "be277b19",
   "metadata": {},
   "outputs": [
    {
     "name": "stdout",
     "output_type": "stream",
     "text": [
      "the calculated z score is 0.65\n",
      "the calculated p value is 0.26\n",
      "Is the value significant: False\n"
     ]
    }
   ],
   "source": [
    "alpha = 0.05\n",
    "\n",
    "is_signi, p_value, z_score = is_significant(control_conversion_rate, exposed_conversion_rate,\n",
    "                                            contorl_total, exposed_total, alpha=alpha)\n",
    "\n",
    "\n",
    "z_score = diff / np.sqrt((variance_contorl/contorl_total) + (variance_exposed/exposed_total))\n",
    "print (f\"the calculated z score is {z_score:0.2f}\" )\n",
    "\n",
    "p_value  = scs.norm().sf(z_score)\n",
    "print (f\"the calculated p value is {p_value:0.2f}\" )\n",
    "\n",
    "is_signi, p_value, z_score = is_significant(control_conversion_rate, exposed_conversion_rate,\n",
    "                                            contorl_total, exposed_total)\n",
    "\n",
    "print(f\"Is the value significant: {is_signi}\")"
   ]
  },
  {
   "cell_type": "markdown",
   "id": "2bccb4cb",
   "metadata": {},
   "source": [
    "### Interpretation"
   ]
  },
  {
   "cell_type": "markdown",
   "id": "22eb3c73",
   "metadata": {},
   "source": [
    "1- The **z-Score** indicates by how much standard deviation does a given data point vary from its mean so given a 0.65.\n",
    "2- The **P-value** i.e.e 0.26 is greater than the threshold value(0.05) which implies that it's not statistically siginificant and to retain null hypothesis and Reject the Alternantive hypothesis(H1) set in the notebook above\n",
    "\n",
    "**N.B** But we cant exactly say we are accepting the null hypotheis but we say that we failed to reject the null hypothesis   since there is still a room of for not fully accepting the null hypothesis i.e. alpha=0.05 "
   ]
  },
  {
   "cell_type": "code",
   "execution_count": null,
   "id": "78832209",
   "metadata": {},
   "outputs": [],
   "source": []
  }
 ],
 "metadata": {
  "kernelspec": {
   "display_name": "Python 3",
   "language": "python",
   "name": "python3"
  },
  "language_info": {
   "codemirror_mode": {
    "name": "ipython",
    "version": 3
   },
   "file_extension": ".py",
   "mimetype": "text/x-python",
   "name": "python",
   "nbconvert_exporter": "python",
   "pygments_lexer": "ipython3",
   "version": "3.8.8"
  }
 },
 "nbformat": 4,
 "nbformat_minor": 5
}
